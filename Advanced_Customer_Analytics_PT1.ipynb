{
  "nbformat": 4,
  "nbformat_minor": 0,
  "metadata": {
    "colab": {
      "provenance": []
    },
    "kernelspec": {
      "name": "python3",
      "display_name": "Python 3"
    },
    "language_info": {
      "name": "python"
    }
  },
  "cells": [
    {
      "cell_type": "markdown",
      "source": [
        "# **Interpretable Predictions.**\n",
        "\n",
        "### PANAGIOTIS KAFANTARIS ADVANCED CUSTOMER ANALYTICS PROJECT 1."
      ],
      "metadata": {
        "id": "HDyrPfSoZIKZ"
      }
    },
    {
      "cell_type": "markdown",
      "source": [
        "**Περιγραφή:**\n",
        "\n",
        "**Step 1:** Find (or scrape) an online dataset that encodes customer/user preferences with respect to various entities (e.g. products, services). Examples include:\n",
        "\n",
        "* datasets with reviews/ratings,\n",
        "\n",
        "* sales-based datasets,\n",
        "\n",
        "* clickthrough (CTR) datasets,\n",
        "\n",
        "* datasets that encode user interactions with different pieces of content (e.g. listening spotify songs, liking/sharing posts or IG or Twitter).\n",
        "\n",
        "The dataset should definitely include descriptive attributes for the entities. For the users, it should have either descriptive attributes or a history of their past interactions with entities.\n",
        "\n",
        "**Step 2:** Record your name and dataset here. You can't pick a dataset that has already been recorded by another student.\n",
        "\n",
        "**Step 3:** Create a Python Notebook that trains a binary classifier that can predict if a specific user will be interested in a specific entity. The notebook should implement (at least) the following functions:\n",
        "\n",
        "* A function that reads a training dataset and trains the binary predictor\n",
        "\n",
        "* A function that accepts a user and an entity and returns the binary prediction, as well as an explanation (justification) for that prediction.  If the prediction\n",
        "is negative, the function should use counterfactuals to suggest how the entity would have to change to yielf a positive prediction."
      ],
      "metadata": {
        "id": "SrT9NLn_ZIHO"
      }
    },
    {
      "cell_type": "markdown",
      "source": [
        "## **Solution:**"
      ],
      "metadata": {
        "id": "G2Y7azXYZH93"
      }
    },
    {
      "cell_type": "markdown",
      "source": [
        "In this project, we aim to develop a comprehensive solution that combines API scraping with a user preference model to provide tailored recommendations. Specifically, we gather data from Spotify’s API to analyze musical attributes, which serve as the foundation for constructing a preference model that understands and predicts user tastes. This approach allows us to bridge data-driven insights with personalized user experiences.\n",
        "\n",
        "## **Instructions**\n",
        "\n",
        "1. Pre-processed CSV Files:\n",
        "\n",
        "   * To save time and avoid re-executing lengthy processes, pre-processed CSV files containing the required data are included. These files store data that was previously retrieved from Spotify’s API and processed for analysis.\n",
        "\n",
        "   * Use these CSVs as input for subsequent steps in the project to bypass redundant data collection.\n",
        "\n",
        "2. Data Gathering:\n",
        "   * If you wish to gather fresh data, you can execute the scraping scripts. However, keep in mind that data retrieval from APIs might be time-consuming, especially when dealing with large datasets.\n",
        "   * Go to https://developer.spotify.com/ and create the CLIENT_ID and CLIENT_SECRET.\n",
        "   * **For audio features it became impossible to fetch since 27th of November because Spotify decided to depracate the endpoint.**\n",
        "\n",
        "3. Running the User Preference Model:\n",
        "   * Once the CSV data is loaded, the user preference model can be initialized. This model uses the data to identify patterns and deliver personalized recommendations based on user input.\n",
        "4. File Organization:\n",
        "   * Ensure that all CSV files are uploaded."
      ],
      "metadata": {
        "id": "5yMm8qZmqyd8"
      }
    },
    {
      "cell_type": "markdown",
      "source": [
        "Install All necessary libraries"
      ],
      "metadata": {
        "id": "tnyNwD0xZ6tT"
      }
    },
    {
      "cell_type": "code",
      "source": [
        "!pip install pyngrok\n",
        "!pip install spotipy"
      ],
      "metadata": {
        "id": "7dTIS9szn8MO",
        "colab": {
          "base_uri": "https://localhost:8080/"
        },
        "outputId": "64298bcc-e18c-413e-d196-554f6627fead"
      },
      "execution_count": null,
      "outputs": [
        {
          "output_type": "stream",
          "name": "stdout",
          "text": [
            "Requirement already satisfied: pyngrok in /usr/local/lib/python3.10/dist-packages (7.2.2)\n",
            "Requirement already satisfied: PyYAML>=5.1 in /usr/local/lib/python3.10/dist-packages (from pyngrok) (6.0.2)\n",
            "Requirement already satisfied: spotipy in /usr/local/lib/python3.10/dist-packages (2.24.0)\n",
            "Requirement already satisfied: redis>=3.5.3 in /usr/local/lib/python3.10/dist-packages (from spotipy) (5.2.1)\n",
            "Requirement already satisfied: requests>=2.25.0 in /usr/local/lib/python3.10/dist-packages (from spotipy) (2.32.3)\n",
            "Requirement already satisfied: urllib3>=1.26.0 in /usr/local/lib/python3.10/dist-packages (from spotipy) (2.2.3)\n",
            "Requirement already satisfied: async-timeout>=4.0.3 in /usr/local/lib/python3.10/dist-packages (from redis>=3.5.3->spotipy) (4.0.3)\n",
            "Requirement already satisfied: charset-normalizer<4,>=2 in /usr/local/lib/python3.10/dist-packages (from requests>=2.25.0->spotipy) (3.4.0)\n",
            "Requirement already satisfied: idna<4,>=2.5 in /usr/local/lib/python3.10/dist-packages (from requests>=2.25.0->spotipy) (3.10)\n",
            "Requirement already satisfied: certifi>=2017.4.17 in /usr/local/lib/python3.10/dist-packages (from requests>=2.25.0->spotipy) (2024.12.14)\n"
          ]
        }
      ]
    },
    {
      "cell_type": "code",
      "source": [
        "import spotipy\n",
        "from spotipy.exceptions import SpotifyException\n",
        "import spotipy\n",
        "spotipy.trace = True\n",
        "spotipy.trace_out = True\n",
        "from spotipy.oauth2 import SpotifyOAuth, SpotifyClientCredentials\n",
        "import pandas as pd\n",
        "from pyngrok import ngrok\n",
        "import pandas as pd\n",
        "import os\n",
        "from urllib.parse import urlparse, parse_qs\n",
        "from tqdm import tqdm\n",
        "import csv\n",
        "import time\n",
        "import numpy as np\n",
        "from sklearn.model_selection import train_test_split\n",
        "from sklearn.ensemble import RandomForestClassifier\n",
        "from sklearn.metrics import classification_report\n",
        "from sklearn.preprocessing import StandardScaler\n",
        "import re"
      ],
      "metadata": {
        "id": "zXyHkMMWgML2"
      },
      "execution_count": null,
      "outputs": []
    },
    {
      "cell_type": "markdown",
      "source": [
        "##**Approach:**\n",
        "\n",
        "We will scrape data using the **Spotify API**. To get started, we need to establish a connection to the API. An alternative, more advanced method is also provided. Its purpose was for retreiving track's feature. However since endpoint's deprecation, it is redundant as a method but we say a few words because of its potential usefulness in the future.\n",
        "\n",
        "Before proceeding, ensure you have entered your Client ID and Client Secret. These credentials are essential for accessing the API."
      ],
      "metadata": {
        "id": "XQw6qrLeaIGk"
      }
    },
    {
      "cell_type": "code",
      "source": [
        "CLIENT_ID = \"YOUR_CLIENT_ID\"\n",
        "CLIENT_SECRET = \"YOUR_CLIENT_SECRET\"\n",
        "SCOPE = \"user-library-read playlist-read-private playlist-read-collaborative\"\n",
        "REDIRECT_URI = \"\""
      ],
      "metadata": {
        "id": "yiw0DsP0_Db5"
      },
      "execution_count": null,
      "outputs": []
    },
    {
      "cell_type": "markdown",
      "source": [
        "##**CONNECT TO API:**\n",
        "\n",
        "We will use Spotipy, a lightweight Python library, to handle authorization with the Spotify API. If you experience issues logging in, double-check your credentials (Client ID and Client Secret).\n",
        "\n",
        "You can also enable an alternative method by setting `with_scope=True`. This method utilizes ngrok, a tool that creates a secure tunnel to expose your local server to the internet. Ngrok generates a public URL that Spotify can use for its API callback during the authentication process.\n",
        "\n",
        "This method is particularly useful if your local setup encounters connection issues or if you need a temporary, accessible endpoint for Spotify's OAuth flow."
      ],
      "metadata": {
        "id": "H0Idhu5JdRmA"
      }
    },
    {
      "cell_type": "code",
      "source": [
        "with_scope = False"
      ],
      "metadata": {
        "id": "KvULkS7ndPX4"
      },
      "execution_count": null,
      "outputs": []
    },
    {
      "cell_type": "markdown",
      "source": [
        "Helper Function to get the code from the URL (Only for alternative method)"
      ],
      "metadata": {
        "id": "-YkaF8WrgzEo"
      }
    },
    {
      "cell_type": "code",
      "source": [
        "def extract_code_from_url(url):\n",
        "    parsed_url = urlparse(url)\n",
        "    query_params = parse_qs(parsed_url.query)\n",
        "    return query_params.get(\"code\", [None])[0]"
      ],
      "metadata": {
        "id": "yIHJwdDjfDlX"
      },
      "execution_count": null,
      "outputs": []
    },
    {
      "cell_type": "markdown",
      "source": [
        "### **ALTERNATIVE METHOD:**\n",
        "\n",
        "To securely expose our local server to the internet, we will use ngrok. This allows us to create a public URL that Spotify can use for callbacks during the authentication process. The function below handles the setup by connecting ngrok to port 8080.\n",
        "\n",
        "Replace the NGROK_AUTH_TOKEN (no need to do that) with your personal token to establish the connection.\n",
        "\n",
        "For more info about NGROK and how to create a new authentication token visit: https://ngrok.com/\n",
        "\n",
        "If no altrernative method is required you dont need to provide the token and you can continue without this step. Run the code and go to next cells."
      ],
      "metadata": {
        "id": "8UVj5-rGhkFy"
      }
    },
    {
      "cell_type": "code",
      "source": [
        "def get_ngrok_url():\n",
        "    NGROK_AUTH_TOKEN = \"YOUR_NGROK_AUTH_TOKEN\"\n",
        "    try:\n",
        "        ngrok.set_auth_token(NGROK_AUTH_TOKEN)\n",
        "        public_url = ngrok.connect(8080).public_url\n",
        "        return public_url\n",
        "    except Exception as e:\n",
        "        print(f\"Error starting ngrok: {e}\")\n",
        "        return None"
      ],
      "metadata": {
        "id": "8RI9wnoZhYXp"
      },
      "execution_count": null,
      "outputs": []
    },
    {
      "cell_type": "code",
      "source": [
        "# HERE WE WOULD START OUR CONNECTION\n",
        "\n",
        "# public_url = get_ngrok_url()\n",
        "# if public_url is None:\n",
        "#     print(\"Failed to get ngrok URL. Exiting.\")\n",
        "# else:\n",
        "#     REDIRECT_URI = f\"{public_url}/callback\"\n",
        "#     print(f\"Redirect URI: {REDIRECT_URI}\")"
      ],
      "metadata": {
        "id": "snHie2qLhguk"
      },
      "execution_count": null,
      "outputs": []
    },
    {
      "cell_type": "markdown",
      "source": [
        "The `setup_spotify_oauth` function handles Spotify API authentication. It supports two modes of authorization:\n",
        "\n",
        "Without Scope (`with_scope=False`):\n",
        "\n",
        "* In this mode, the app uses the SpotifyClientCredentials flow, which does not require user-specific authentication.\n",
        "\n",
        "With Scope (`with_scope=True`):\n",
        "\n",
        "* If enabled, this mode utilizes Spotify's OAuth flow with a specified redirect_uri and permissions (scope).\n",
        "\n",
        "Ensure that your CLIENT_ID, CLIENT_SECRET, redirect_uri, and scope are correctly configured.\n",
        "\n",
        "The function intelligently selects the appropriate authentication flow based on the `with_scope` parameter, providing flexibility."
      ],
      "metadata": {
        "id": "IEZFI5nwgHY7"
      }
    },
    {
      "cell_type": "code",
      "source": [
        "def setup_spotify_oauth(with_scope = True, redirect_uri=REDIRECT_URI, scope=SCOPE):\n",
        "    if with_scope and redirect_uri != \"\" and scope:\n",
        "      print('Alternative method')\n",
        "      return SpotifyOAuth(\n",
        "          client_id=CLIENT_ID,\n",
        "          client_secret=CLIENT_SECRET,\n",
        "          redirect_uri=redirect_uri,\n",
        "          scope=scope,\n",
        "          requests_timeout=10\n",
        "      )\n",
        "    else:\n",
        "      return spotipy.Spotify(auth_manager=SpotifyClientCredentials(client_id=CLIENT_ID, client_secret=CLIENT_SECRET))"
      ],
      "metadata": {
        "id": "nWnMDhqRd4e3"
      },
      "execution_count": null,
      "outputs": []
    },
    {
      "cell_type": "markdown",
      "source": [
        "The `authenticate_user` function handles the Spotify user authentication process. It provides two modes of operation based on the with_scope parameter:\n",
        "\n",
        "***(BASIC METHOD)***\n",
        "Without Scope (with_scope=False):\n",
        "\n",
        "* Returns a client credentials-based authentication object for accessing public data without user-specific permissions.\n",
        "\n",
        "No further user interaction is required.\n",
        "\n",
        "***(ALTERNATIVE METHOD)***\n",
        "With Scope (with_scope=True):\n",
        "\n",
        "* Initiates Spotify's OAuth flow, allowing the application to access user-specific data or perform actions on behalf of the user.\n",
        "\n",
        "The process involves:\n",
        "* Go to https://developer.spotify.com/ -> dasboard -> Settings and change Redirect URI with the above coming from NGROK.\n",
        "* Paste it to input.\n",
        "* The method captures the authentication code from redirect URL after successful login.\n",
        "\n",
        "Exchanging the code for an access token to authenticate subsequent API requests.\n",
        "\n",
        "Upon successful login, the user's profile is retrieved and displayed as a test to make sure we logged in without any problems."
      ],
      "metadata": {
        "id": "YNplFmfhiRjL"
      }
    },
    {
      "cell_type": "code",
      "source": [
        "def authenticate_user(with_scope=True):\n",
        "    sp_oauth = setup_spotify_oauth(with_scope)\n",
        "\n",
        "    if not with_scope:\n",
        "        return sp_oauth\n",
        "\n",
        "    auth_url = sp_oauth.get_authorize_url()\n",
        "    print(f\"Authorization URL: {auth_url}\")\n",
        "\n",
        "    auth_redirect_url = input(\"Paste the redirect URL here (after you authenticate): \")\n",
        "    code = extract_code_from_url(auth_redirect_url)\n",
        "\n",
        "    if not code:\n",
        "        print(\"Authorization code not found in the URL. Exiting.\")\n",
        "        return None\n",
        "\n",
        "    try:\n",
        "        token_info = sp_oauth.get_access_token(code)\n",
        "        access_token = token_info['access_token']\n",
        "        sp = spotipy.Spotify(auth=access_token)\n",
        "        user_profile = sp.current_user()\n",
        "        print(f\"Logged in as: {user_profile['display_name']}\")\n",
        "        #return sp, access_token\n",
        "        return sp\n",
        "    except Exception as e:\n",
        "        print(f\"Error during authentication: {e}\")\n",
        "        return None"
      ],
      "metadata": {
        "id": "EYwGSbN6doV3"
      },
      "execution_count": null,
      "outputs": []
    },
    {
      "cell_type": "code",
      "source": [
        "sp = authenticate_user(with_scope)\n",
        "if not sp:\n",
        "    print(\"Failed to authenticate. Exiting.\")"
      ],
      "metadata": {
        "id": "DJ5y-PkNdoI8"
      },
      "execution_count": null,
      "outputs": []
    },
    {
      "cell_type": "markdown",
      "source": [
        "# **GATHERING DATA LOGIC:**"
      ],
      "metadata": {
        "id": "UjvGJGpFoC7y"
      }
    },
    {
      "cell_type": "markdown",
      "source": [
        "Spotify does not allow direct access to user preferences due to GDPR regulations. This restricts us from directly retrieving user data like track preferences.\n",
        "\n",
        "**Alternative Approach:**\n",
        "To work around this, we will indirectly infer user preferences by leveraging public playlists.\n",
        "\n",
        "1. Request Public Playlists:\n",
        "  * We will query Spotify’s API for playlists using a genre keyword (e.g., Pop, Jazz, Rock).\n",
        "  * Each playlist returned will be tagged with its owner ID, representing the user who created or owns the playlist.\n",
        "2. Capture Unique Owner IDs:\n",
        "  * Extract and store the owner IDs from the playlists.\n",
        "  * Ensure there are no duplicate IDs to avoid redundant processing.\n",
        "3. Fetch Playlists for Each Owner:\n",
        "  * Using the unique owner IDs, we will fetch their public playlists.\n",
        "  * Filter these playlists by the genre we targeted earlier.\n",
        "4. Assume Liked Tracks:\n",
        "  * From the filtered playlists, extract the track IDs and assume that these tracks represent the user’s preferences for the given genre.\n",
        "5. Create a User-Track Mapping:\n",
        "  * Build a dataset where each user is linked to the tracks they are inferred to like, based on their genre-specific playlists.\n",
        "6. Fetch Track Features:\n",
        "  * Using the track IDs gathered, create a new dataset containing the features of each track (e.g., danceability, energy, tempo).\n",
        "  * This will serve as the foundational data for our model.\n",
        "7. Combine Data for Model Training:\n",
        "  * Integrate all the collected data (user IDs, genres, tracks, and track features) into a training dataset.\n",
        "  * This dataset will serve as the input for our model, allowing us to predict user preferences.\n",
        "8. Prepare for Model Explanation:\n",
        "  * We will explain later in the notebook how the training data is structured and how it will be used to train the binary classifier."
      ],
      "metadata": {
        "id": "iq5DcgmToQwM"
      }
    },
    {
      "cell_type": "markdown",
      "source": [
        "The `search_spotify_playlists` function allows us to search Spotify for playlists that match a specific keyword.\n",
        "\n",
        "Key Features:\n",
        "\n",
        "Parameters:\n",
        "  * keyword: The search term to look for in playlist titles.\n",
        "  * limit: The number of playlists to return (default is 20).\n",
        "  * offset: The starting point for the search results, enabling pagination."
      ],
      "metadata": {
        "id": "zFuZMg2VkKKp"
      }
    },
    {
      "cell_type": "code",
      "source": [
        "def search_spotify_playlists(keyword, limit=20, offset=0):\n",
        "    try:\n",
        "        # Use the Spotify API to search for playlists matching the keyword\n",
        "        results = sp.search(q=keyword, type=\"playlist\", limit=limit, offset=offset)\n",
        "\n",
        "        # Extract and return the list of playlists\n",
        "        return results.get('playlists', {}).get('items', [])\n",
        "    except Exception as e:\n",
        "        print(f\"Error searching playlists for keyword '{keyword}': {e}\")\n",
        "        return []"
      ],
      "metadata": {
        "id": "bScrazZzE3Qw"
      },
      "execution_count": null,
      "outputs": []
    },
    {
      "cell_type": "markdown",
      "source": [
        "The `sanitize_keyword` function ensures that the provided keyword is cleaned of any unwanted characters before being used in playlist searches. This is important to avoid issues caused by special characters and ensures consistent search behavior.\n",
        "\n",
        "`extract_owner_ids_with_keywords`\n",
        "This function extracts the owner IDs from a list of playlists and associates them with the provided keyword. The keyword is sanitized for consistency, and each owner ID is paired with the genre or category represented by the keyword.\n",
        "\n",
        "Key Features:\n",
        "1. Keyword Sanitization:\n",
        "  * Removes special characters from the keyword to ensure a clean and valid search term.\n",
        "2. Owner ID Extraction:\n",
        "  * Iterates through the playlists and retrieves the owner ID for each.\n",
        "  * Associates the owner ID with the sanitized keyword.\n",
        "3. Output:\n",
        "  * Returns a list of dictionaries, each containing:\n",
        "      * owner_id: The ID of the playlist's owner.\n",
        "      * genre: The sanitized keyword associated with the playlist."
      ],
      "metadata": {
        "id": "rLwSbZe2pdxj"
      }
    },
    {
      "cell_type": "code",
      "source": [
        "def sanitize_keyword(keyword):\n",
        "    # Remove all characters except letters, numbers, and spaces\n",
        "    return re.sub(r\"[^\\w\\s]\", \"\", keyword)\n",
        "\n",
        "def extract_owner_ids_with_keywords(playlists, keyword):\n",
        "    # Sanitize the provided keyword\n",
        "    sanitized_keyword = sanitize_keyword(keyword)\n",
        "\n",
        "    # Initialize a list to store the extracted owner IDs and associated genres\n",
        "    owner_ids_with_keywords = []\n",
        "\n",
        "    # Iterate through the playlists to extract owner IDs\n",
        "    for playlist in playlists:\n",
        "        # Ensure the playlist and owner data are valid\n",
        "        if playlist and playlist.get('owner') and playlist['owner'].get('id'):\n",
        "            # Extract the owner ID\n",
        "            owner_id = playlist['owner']['id']\n",
        "            # Append the owner ID and sanitized keyword as a dictionary\n",
        "            owner_ids_with_keywords.append({'owner_id': owner_id, 'genre': sanitized_keyword})\n",
        "\n",
        "    return owner_ids_with_keywords"
      ],
      "metadata": {
        "id": "LiaKKKBfE3Nw"
      },
      "execution_count": null,
      "outputs": []
    },
    {
      "cell_type": "markdown",
      "source": [
        "The `search_playlists_by_genre` function allows us to search Spotify for playlists associated with a predefined list of genres or custom keywords. It iterates through the keywords, fetches playlists matching each keyword, and extracts the unique owner IDs while associating them with the corresponding genre.\n",
        "\n",
        "Key Features:\n",
        "1. It searches for popular genres like \"Pop,\" \"Rock,\" and \"Jazz.\"\n",
        "2. Pagination:\n",
        " * Supports Spotify's pagination mechanism using the offset parameter to fetch more playlists if available.\n",
        "\n",
        "3. Duplication:\n",
        " * Ensures that each owner ID is included only once, even if they appear in multiple playlists.\n",
        "\n",
        "4. Progress Tracking:\n",
        " * Utilizes a progress bar (tqdm) to visually indicate the status of the search process for each keyword."
      ],
      "metadata": {
        "id": "gM15xGXcq8tG"
      }
    },
    {
      "cell_type": "code",
      "source": [
        "def search_playlists_by_genre(keywords=None, max_playlists=20, limit=20):\n",
        "    if keywords is None:\n",
        "        keywords = ['*Pop*', '*Rock*', '*Hip hop*', '*EDM*', '*Country*', '*Jazz*', '*Latin*', '*Indie*']\n",
        "\n",
        "    owner_ids_with_keywords = []\n",
        "    existing_owner_ids = set()  # Track already added owner IDs for deduplication\n",
        "\n",
        "    with tqdm(total=len(keywords), desc=\"Processing Keywords\", unit=\"keyword\") as pbar:\n",
        "        for keyword in keywords:\n",
        "            playlists_found = 0  # Count the number of playlists processed for the current keyword\n",
        "            offset = 0  # Pagination offset for Spotify API\n",
        "\n",
        "            while playlists_found < max_playlists:\n",
        "                # Fetch playlists from Spotify\n",
        "                playlists = search_spotify_playlists(keyword, limit=limit, offset=offset)\n",
        "\n",
        "                if not playlists:\n",
        "                    break  # Exit loop if no more playlists are found\n",
        "\n",
        "                # Extract owner IDs and update the result\n",
        "                for owner_data in extract_owner_ids_with_keywords(playlists, keyword):\n",
        "                    owner_id = owner_data['owner_id']\n",
        "                    # Add only if the owner ID is not already in the list\n",
        "                    if owner_id not in existing_owner_ids:\n",
        "                        owner_ids_with_keywords.append(owner_data)\n",
        "                        existing_owner_ids.add(owner_id)  # Mark the owner ID as added\n",
        "\n",
        "                # Update counts and pagination\n",
        "                playlists_found += len(playlists)\n",
        "                if len(playlists) < limit:  # Stop if fewer playlists are returned than requested\n",
        "                    break\n",
        "\n",
        "                offset += limit\n",
        "\n",
        "            pbar.update(1)  # Update the progress bar\n",
        "\n",
        "    return owner_ids_with_keywords"
      ],
      "metadata": {
        "id": "cggYOJglE3IY"
      },
      "execution_count": null,
      "outputs": []
    },
    {
      "cell_type": "code",
      "source": [
        "owners = search_playlists_by_genre()"
      ],
      "metadata": {
        "colab": {
          "base_uri": "https://localhost:8080/"
        },
        "id": "D7UV8msEE3FY",
        "outputId": "2616f3de-723f-42ec-f70f-df994b8590f7"
      },
      "execution_count": null,
      "outputs": [
        {
          "output_type": "stream",
          "name": "stderr",
          "text": [
            "Processing Keywords: 100%|██████████| 8/8 [00:01<00:00,  4.86keyword/s]\n"
          ]
        }
      ]
    },
    {
      "cell_type": "code",
      "source": [
        "list(owners)[:5]"
      ],
      "metadata": {
        "colab": {
          "base_uri": "https://localhost:8080/"
        },
        "id": "TskX6AYqE3CI",
        "outputId": "d78af32d-f955-48f5-e0fe-5e7f9487f670"
      },
      "execution_count": null,
      "outputs": [
        {
          "output_type": "execute_result",
          "data": {
            "text/plain": [
              "[{'owner_id': 'j56o61v49o50jtej2b9cqptjm', 'genre': 'Pop'},\n",
              " {'owner_id': '31heeg5wrzm67nrgtehxz23z2mmq', 'genre': 'Pop'},\n",
              " {'owner_id': 'kigoty6gopjftnazhhk7e0hh5', 'genre': 'Pop'},\n",
              " {'owner_id': 'jsq8ypmzowlahoi09rbudxkrl', 'genre': 'Pop'},\n",
              " {'owner_id': '12124874489', 'genre': 'Pop'}]"
            ]
          },
          "metadata": {},
          "execution_count": 15
        }
      ]
    },
    {
      "cell_type": "code",
      "source": [
        "len(list(owners))"
      ],
      "metadata": {
        "colab": {
          "base_uri": "https://localhost:8080/"
        },
        "id": "m3nYhnHeE2_G",
        "outputId": "c9f36718-0aef-4c8a-d772-0fdc122102a9"
      },
      "execution_count": null,
      "outputs": [
        {
          "output_type": "execute_result",
          "data": {
            "text/plain": [
              "80"
            ]
          },
          "metadata": {},
          "execution_count": 16
        }
      ]
    },
    {
      "cell_type": "markdown",
      "source": [
        "Helper function to write the data to a csv file so we can re use it later."
      ],
      "metadata": {
        "id": "6Kv50jkgqV1F"
      }
    },
    {
      "cell_type": "code",
      "source": [
        "def write_to_csv(data, filename):\n",
        "    if not data:\n",
        "        print(f\"No data to write to {filename}.\")\n",
        "        return\n",
        "\n",
        "    fieldnames = set\n",
        "    fieldnames = data[0].keys()\n",
        "\n",
        "    try:\n",
        "        with open(filename, mode='w', newline='', encoding='utf-8') as file:\n",
        "            writer = csv.DictWriter(file, fieldnames=fieldnames)\n",
        "            writer.writeheader()  # Write the header row\n",
        "            writer.writerows(data)  # Write all data rows\n",
        "\n",
        "        print(f\"Data successfully written to {filename}.\")\n",
        "    except Exception as e:\n",
        "        print(f\"An error occurred while writing to {filename}: {e}\")"
      ],
      "metadata": {
        "id": "1gZpT--wK7ZA"
      },
      "execution_count": null,
      "outputs": []
    },
    {
      "cell_type": "code",
      "source": [
        "owners_filename = \"Owners.csv\""
      ],
      "metadata": {
        "id": "rr3kwZUcmV9e"
      },
      "execution_count": null,
      "outputs": []
    },
    {
      "cell_type": "code",
      "source": [
        "write_to_csv(owners, owners_filename)"
      ],
      "metadata": {
        "colab": {
          "base_uri": "https://localhost:8080/"
        },
        "id": "mgoZVP68K91Y",
        "outputId": "6caf6106-fc30-4479-984a-70d319cd7458"
      },
      "execution_count": null,
      "outputs": [
        {
          "output_type": "stream",
          "name": "stdout",
          "text": [
            "Data successfully written to Owners.csv.\n"
          ]
        }
      ]
    },
    {
      "cell_type": "markdown",
      "source": [
        "Helper Function to load data from a csv file."
      ],
      "metadata": {
        "id": "6m1uLDZlsPEY"
      }
    },
    {
      "cell_type": "code",
      "source": [
        "def load_data(file_path):\n",
        "    return pd.read_csv(file_path)"
      ],
      "metadata": {
        "id": "xo4MLTU2fhOb"
      },
      "execution_count": null,
      "outputs": []
    },
    {
      "cell_type": "code",
      "source": [
        "owners = load_data(owners_filename)"
      ],
      "metadata": {
        "id": "SlN4oj22fsIb"
      },
      "execution_count": null,
      "outputs": []
    },
    {
      "cell_type": "markdown",
      "source": [
        "The `fetch_user_playlists_by_genre` function retrieves playlists for a specific user, filtered by a specified genre. This is useful for identifying playlists curated by the user that match a particular theme or category.\n",
        "\n",
        "Key Features:\n",
        "1. User-Specific Playlists:\n",
        "  * Fetches playlists belonging to a specific user (user_id).\n",
        "2. Genre Filtering:\n",
        "  * Filters playlists based on the presence of the genre keyword in the playlist’s name or description (case-insensitive).\n",
        "3. Pagination:\n",
        "  * Utilizes Spotify's pagination to fetch additional results if needed, up to the specified maximum number of playlists (max_playlists)."
      ],
      "metadata": {
        "id": "UW2EKIobsk8B"
      }
    },
    {
      "cell_type": "code",
      "source": [
        "def fetch_user_playlists_by_genre(user_id, genre, max_playlists=2, limit=20):\n",
        "    playlists = []\n",
        "    offset = 0\n",
        "    genre_lower = genre.lower()  # Convert genre to lowercase for case-insensitive matching\n",
        "\n",
        "    while len(playlists) < max_playlists:\n",
        "        try:\n",
        "            # Fetch user playlists with pagination\n",
        "            results = sp.user_playlists(user_id, limit=limit, offset=offset)\n",
        "\n",
        "            # Filter playlists by genre\n",
        "            for playlist in results['items']:\n",
        "                playlist_name = playlist.get('name', '').lower()\n",
        "                playlist_description = playlist.get('description', '').lower()\n",
        "\n",
        "                if genre_lower in playlist_name or genre_lower in playlist_description:\n",
        "                    playlists.append(playlist)\n",
        "                    if len(playlists) >= max_playlists:\n",
        "                        break  # Stop if max_playlists is reached\n",
        "\n",
        "            # Exit loop if there are no more results\n",
        "            if results['next'] is None:\n",
        "                break\n",
        "\n",
        "            offset += limit\n",
        "        except Exception as e:\n",
        "            print(f\"Error fetching playlists for user {user_id}: {e}\")\n",
        "            break  # Exit if an error occurs\n",
        "\n",
        "    return playlists[:max_playlists]"
      ],
      "metadata": {
        "id": "6fxV4xxRHIBh"
      },
      "execution_count": null,
      "outputs": []
    },
    {
      "cell_type": "markdown",
      "source": [
        "The `fetch_playlist_tracks` function retrieves all unique track IDs from a given playlist. It uses Spotify's pagination mechanism to fetch tracks in batches, ensuring all tracks are captured, even for large playlists.\n",
        "\n",
        "Key Features:\n",
        "1. Playlist-Specific Tracks:\n",
        "  * Fetches tracks from a specific playlist identified by its playlist_id.\n",
        "2. Unique Track IDs:\n",
        "  * Stores track IDs in a set to ensure uniqueness, preventing duplicates.\n",
        "3. Pagination:\n",
        "  * Handles large playlists by iterating through Spotify's paginated results."
      ],
      "metadata": {
        "id": "z6_9NFlctLwa"
      }
    },
    {
      "cell_type": "code",
      "source": [
        "def fetch_playlist_tracks(playlist_id):\n",
        "    track_ids = set()\n",
        "    offset = 0\n",
        "\n",
        "    while True:\n",
        "        try:\n",
        "            # Fetch playlist items with pagination\n",
        "            results = sp.playlist_items(playlist_id, limit=20, offset=offset)\n",
        "            for item in results['items']:\n",
        "                track = item.get('track')\n",
        "                if track and track.get('id'):\n",
        "                    track_ids.add(track['id'])  # Add unique track IDs to the set\n",
        "\n",
        "            if results['next'] is None:\n",
        "                break  # Exit loop if there are no more results\n",
        "\n",
        "            offset += 20\n",
        "        except Exception as e:\n",
        "            print(f\"Error fetching tracks from playlist {playlist_id}: {e}\")\n",
        "            break  # Exit if an error occurs\n",
        "\n",
        "    return track_ids"
      ],
      "metadata": {
        "id": "G21VuAJnHH9q"
      },
      "execution_count": null,
      "outputs": []
    },
    {
      "cell_type": "markdown",
      "source": [
        "The `get_tracks_by_user` function retrieves all unique tracks from a specific user’s playlists that match a specified genre. This function integrates playlist filtering and track extraction into a single process, providing an efficient way to collect tracks curated by a user for a specific theme or category.\n",
        "\n",
        "Key Features:\n",
        "1. Genre-Based Playlist Filtering:\n",
        "  * Filters the user’s playlists to include only those whose name or description matches the specified genre.\n",
        "2. Track Collection:\n",
        "  * Fetches all tracks from the filtered playlists and ensures only unique tracks are returned."
      ],
      "metadata": {
        "id": "OH62rilXtlPG"
      }
    },
    {
      "cell_type": "code",
      "source": [
        "def get_tracks_by_user(user_id, genre, max_playlists=2):\n",
        "    try:\n",
        "        # Fetch playlists for the user filtered by genre\n",
        "        playlists = fetch_user_playlists_by_genre(user_id, genre, max_playlists=max_playlists)\n",
        "        all_track_ids = set()\n",
        "\n",
        "        # Fetch tracks from each playlist\n",
        "        for playlist in playlists:\n",
        "            playlist_name = playlist.get('name', 'Unknown Playlist')\n",
        "            playlist_id = playlist['id']\n",
        "            #print(f\"Fetching tracks from playlist: {playlist_name} (ID: {playlist_id})\")\n",
        "\n",
        "            track_ids = fetch_playlist_tracks(playlist_id)\n",
        "            all_track_ids.update(track_ids)  # Add tracks to the set\n",
        "\n",
        "        return list(all_track_ids)\n",
        "    except Exception as e:\n",
        "        print(f\"Error fetching tracks for user {user_id} (Genre: {genre}): {e}\")\n",
        "        return []  # Return an empty list if an error occurs"
      ],
      "metadata": {
        "id": "2f-R_JIUHH7J"
      },
      "execution_count": null,
      "outputs": []
    },
    {
      "cell_type": "markdown",
      "source": [
        "We then process a list of Spotify playlist owners and retrieves track data for each owner based on their associated genre. The results are stored in a dictionary (owners_tracks), where each owner's tracks and genre are recorded.\n",
        "\n",
        "Key Features:\n",
        "1. Owner-Track Mapping:\n",
        "  * Iterates through the list of owners and retrieves tracks for each based on their associated genre.\n",
        "2. Progress Feedback:\n",
        "  * Displays real-time progress using tqdm, showing the current owner and genre being processed."
      ],
      "metadata": {
        "id": "SmtZNl2Ut78l"
      }
    },
    {
      "cell_type": "code",
      "source": [
        "# Initialize an empty dictionary to store track data for each owner\n",
        "owners_tracks = {}\n",
        "\n",
        "# Iterate over the DataFrame rows\n",
        "with tqdm(total=len(owners), desc=\"Processing Owners\", unit=\"owner\") as pbar:\n",
        "    for _, row in owners.iterrows():  # Use iterrows to get each row as a Series\n",
        "        owner_id = row['owner_id']  # Access 'owner_id' column\n",
        "        genre = row['genre']  # Access 'genre' column\n",
        "        #print(f\"Processing owner: {owner_id} (Genre: {genre})\")\n",
        "\n",
        "        try:\n",
        "            # Fetch tracks for the current owner and genre\n",
        "            tracks = get_tracks_by_user(owner_id, genre)\n",
        "            owners_tracks[owner_id] = {'genre': genre, 'tracks': tracks}\n",
        "\n",
        "            # Update progress bar with the current owner and genre\n",
        "            pbar.set_postfix(owner=owner_id, genre=genre)\n",
        "        except Exception as e:\n",
        "            print(f\"Error processing owner {owner_id} (Genre: {genre}): {e}\")\n",
        "            owners_tracks[owner_id] = {'genre': genre, 'tracks': []}  # Fallback in case of error\n",
        "\n",
        "        pbar.update(1)  # Increment progress bar"
      ],
      "metadata": {
        "colab": {
          "base_uri": "https://localhost:8080/"
        },
        "id": "VeqwuAz0HH4J",
        "outputId": "f168032a-b79b-49ce-b0e3-332116b31f4e"
      },
      "execution_count": null,
      "outputs": [
        {
          "output_type": "stream",
          "name": "stderr",
          "text": [
            "Processing Owners:   2%|▏         | 2/87 [00:05<03:29,  2.46s/owner, genre=Pop, owner=j56o61v49o50jtej2b9cqptjm]ERROR:spotipy.client:HTTP Error for GET to https://api.spotify.com/v1/playlists/44XJR1i3Vl2B3acOEYwinE/tracks with Params: {'limit': 20, 'offset': 0, 'fields': None, 'market': None, 'additional_types': 'track,episode'} returned 404 due to Resource not found\n",
            "ERROR:spotipy.client:HTTP Error for GET to https://api.spotify.com/v1/playlists/6LY1QKuuZv6rtPKsHJSsnF/tracks with Params: {'limit': 20, 'offset': 0, 'fields': None, 'market': None, 'additional_types': 'track,episode'} returned 404 due to Resource not found\n",
            "Processing Owners:   3%|▎         | 3/87 [00:06<02:56,  2.10s/owner, genre=Pop, owner=spotify]"
          ]
        },
        {
          "output_type": "stream",
          "name": "stdout",
          "text": [
            "Error fetching tracks from playlist 44XJR1i3Vl2B3acOEYwinE: http status: 404, code:-1 - https://api.spotify.com/v1/playlists/44XJR1i3Vl2B3acOEYwinE/tracks?limit=20&offset=0&additional_types=track%2Cepisode:\n",
            " Resource not found, reason: None\n",
            "Error fetching tracks from playlist 6LY1QKuuZv6rtPKsHJSsnF: http status: 404, code:-1 - https://api.spotify.com/v1/playlists/6LY1QKuuZv6rtPKsHJSsnF/tracks?limit=20&offset=0&additional_types=track%2Cepisode:\n",
            " Resource not found, reason: None\n"
          ]
        },
        {
          "output_type": "stream",
          "name": "stderr",
          "text": [
            "Processing Owners: 100%|██████████| 87/87 [04:16<00:00,  2.95s/owner, genre=Indie, owner=ansadesigner]\n"
          ]
        }
      ]
    },
    {
      "cell_type": "code",
      "source": [
        "for idx, owner_id in enumerate(list(owners_tracks.keys())[:5]):  # Access keys and slice the first 5\n",
        "    owner_data = owners_tracks[owner_id]\n",
        "    genre = owner_data.get('genre', 'Unknown')\n",
        "    tracks = owner_data.get('tracks', [])\n",
        "\n",
        "    print(f\"Owner {idx + 1}: {owner_id}\")\n",
        "    print(f\"Genre: {genre}\")\n",
        "    print(f\"Tracks ({len(tracks)}): {', '.join(tracks[:5])}...\")  # Display up to 5 tracks\n",
        "    print(\"-\" * 40)"
      ],
      "metadata": {
        "id": "41zpqNYdHtRQ",
        "colab": {
          "base_uri": "https://localhost:8080/"
        },
        "outputId": "0401145e-27b1-4789-db9c-0f96f2b21378"
      },
      "execution_count": null,
      "outputs": [
        {
          "output_type": "stream",
          "name": "stdout",
          "text": [
            "Owner 1: j56o61v49o50jtej2b9cqptjm\n",
            "Genre: Pop\n",
            "Tracks (153): 3d0XzPv4mvpC4982A1y4NL, 5rsMoB1AbPRRyDfQy8ZvUU, 0RSyQJ6J3yEEEQS5MVamvW, 0H2Fc5aEaB3GvHBlKS5DEu, 6mUf8ugYOVdOzp7cagyiqb...\n",
            "----------------------------------------\n",
            "Owner 2: 31heeg5wrzm67nrgtehxz23z2mmq\n",
            "Genre: Pop\n",
            "Tracks (220): 3F5CgOj3wFlRv51JsHbxhe, 17phhZDn6oGtzMe56NuWvj, 6wsqVwoiVH2kde4k4KKAFU, 377uEWjxVKksQDlwDqaIfx, 4P8XKXpkJ2QGM442VUwfOX...\n",
            "----------------------------------------\n",
            "Owner 3: kigoty6gopjftnazhhk7e0hh5\n",
            "Genre: Pop\n",
            "Tracks (195): 003vvx7Niy0yvhvHt4a68B, 731w8hrJwku7jXrP30ZJJt, 7a8FwfEPX4fPZjB8JytSWG, 7xoUc6faLbCqZO6fQEYprd, 3bH2Eu9A9ymI4UnGHRmoXg...\n",
            "----------------------------------------\n",
            "Owner 4: jsq8ypmzowlahoi09rbudxkrl\n",
            "Genre: Pop\n",
            "Tracks (621): 1kQRahBqpKWMAhsoqfEETp, 1B0kLftVGJsZqJZGdHbAWZ, 2c87x3mBYuffK4ihylVwAG, 0prNGof3XqfTvNDxHonvdK, 4fouWK6XVHhzl78KzQ1UjL...\n",
            "----------------------------------------\n",
            "Owner 5: 12124874489\n",
            "Genre: Pop\n",
            "Tracks (255): 5TJEBoTCDbJXiKMdCN9pd3, 3GXgrEjBjonrQrPEEi13yU, 3w3y8KPTfNeOKPiqUTakBh, 21jGcNKet2qwijlDFuPiPb, 6sZo5nJIsFWXefRCCexpx0...\n",
            "----------------------------------------\n"
          ]
        }
      ]
    },
    {
      "cell_type": "markdown",
      "source": [
        "The provided code snippet expands the owners_tracks dictionary into a flattened dataset where each track is associated with its corresponding owner and genre."
      ],
      "metadata": {
        "id": "MYBzIoST6Df3"
      }
    },
    {
      "cell_type": "code",
      "source": [
        "expanded_data = []\n",
        "for owner_id in owners_tracks.keys():\n",
        "    owner_data = owners_tracks[owner_id]\n",
        "    genre = owner_data.get('genre', 'Unknown')\n",
        "    tracks = owner_data.get('tracks', [])\n",
        "    for track in tracks:\n",
        "        expanded_data.append({\"owner_id\": owner_id, \"genre\": genre, \"track\": track})"
      ],
      "metadata": {
        "id": "SZyfVJqNbE04"
      },
      "execution_count": null,
      "outputs": []
    },
    {
      "cell_type": "code",
      "source": [
        "owners_tracks_filename = \"Owners_Tracks.csv\""
      ],
      "metadata": {
        "id": "g5cPs9rSumPy"
      },
      "execution_count": null,
      "outputs": []
    },
    {
      "cell_type": "code",
      "source": [
        "write_to_csv(expanded_data, owners_tracks_filename)"
      ],
      "metadata": {
        "id": "KBU6rkRNhkW7",
        "colab": {
          "base_uri": "https://localhost:8080/"
        },
        "outputId": "524538c0-061a-40f0-b1d8-b9d8b8714a1d"
      },
      "execution_count": null,
      "outputs": [
        {
          "output_type": "stream",
          "name": "stdout",
          "text": [
            "Data successfully written to Owners_Tracks.csv.\n"
          ]
        }
      ]
    },
    {
      "cell_type": "code",
      "source": [
        "owners_tracks = load_data(owners_tracks_filename)"
      ],
      "metadata": {
        "id": "EqdFXvsGhkTd"
      },
      "execution_count": null,
      "outputs": []
    },
    {
      "cell_type": "code",
      "source": [
        "print(owners_tracks.head(5))"
      ],
      "metadata": {
        "colab": {
          "base_uri": "https://localhost:8080/"
        },
        "id": "-v5aRcVLnfz9",
        "outputId": "d10780ec-c545-4bef-8ec5-319ce4f8715f"
      },
      "execution_count": null,
      "outputs": [
        {
          "output_type": "stream",
          "name": "stdout",
          "text": [
            "                    owner_id genre                   track\n",
            "0  j56o61v49o50jtej2b9cqptjm   Pop  3d0XzPv4mvpC4982A1y4NL\n",
            "1  j56o61v49o50jtej2b9cqptjm   Pop  5rsMoB1AbPRRyDfQy8ZvUU\n",
            "2  j56o61v49o50jtej2b9cqptjm   Pop  0RSyQJ6J3yEEEQS5MVamvW\n",
            "3  j56o61v49o50jtej2b9cqptjm   Pop  0H2Fc5aEaB3GvHBlKS5DEu\n",
            "4  j56o61v49o50jtej2b9cqptjm   Pop  6mUf8ugYOVdOzp7cagyiqb\n"
          ]
        }
      ]
    },
    {
      "cell_type": "markdown",
      "source": [
        "The `fetch_tracks` function retrieves detailed metadata for a list of track IDs from Spotify. This is useful for gathering information about the tracks, such as their features, names, artists, and albums.\n",
        "\n",
        "Key Features:\n",
        "1. Batch Fetching:\n",
        "  * Spotify's API allows batch requests for track details. This function utilizes that capability to fetch metadata for multiple track IDs at once.\n",
        "2. Output:\n",
        "  * Returns a list of detailed track information for the provided IDs."
      ],
      "metadata": {
        "id": "RCdf1XCU0Zk3"
      }
    },
    {
      "cell_type": "code",
      "source": [
        "# HERE WE WOULD UTILIZE THE ALTERNATIVE METHOD TO AUTHENTICATE WITH SCOPE AND REDIRECT URI WHICH WOULD PRODUCE A USEFUL TOKEN FOR FETCHING TRACKS AND THEIR FEATURES\n",
        "\n",
        "# with_scope = True\n",
        "# sp = authenticate_user(with_scope)\n",
        "# if not sp:\n",
        "#     print(\"Failed to authenticate. Exiting.\")"
      ],
      "metadata": {
        "id": "a_HcrtsTMC_e"
      },
      "execution_count": null,
      "outputs": []
    },
    {
      "cell_type": "code",
      "source": [
        "def fetch_tracks(track_ids, sp):\n",
        "    try:\n",
        "        tracks = sp.tracks(track_ids)[\"tracks\"]\n",
        "        return tracks\n",
        "    except Exception as e:\n",
        "        print(f\"Error fetching track details for IDs {track_ids}: {e}\")\n",
        "        return []"
      ],
      "metadata": {
        "id": "KQcTicaoi6gj"
      },
      "execution_count": null,
      "outputs": []
    },
    {
      "cell_type": "markdown",
      "source": [
        "The `fetch_audio_features` function retrieves audio feature data for a list of track IDs from Spotify. Audio features provide valuable insights into a track's characteristics, such as tempo, energy, danceability, and more. These features are essential for building data-driven music models.\n",
        "\n",
        "Key Features:\n",
        "1. Batch Fetching:\n",
        "  * Spotify’s API supports batch requests for audio features of up to 100 tracks in a single call, making it efficient for processing large datasets.\n",
        "2. Audio Features:\n",
        "  * Retrieves detailed attributes for each track, such as:\n",
        "danceability, energy, tempo, valence."
      ],
      "metadata": {
        "id": "1sFO8ile1VuV"
      }
    },
    {
      "cell_type": "markdown",
      "source": [
        "NOTE: Since 27th of November of 2024 this endpoint deprecated.\n",
        "Because we made a *get request* for the audio features before this date, we didnt have a problem collecting the data and thats why we have a CSV file with the tracks and metadata.\n",
        "\n",
        "https://stackoverflow.com/questions/79239871/cant-access-tracks-audio-features-using-spotipy-fetching-from-spotify-api"
      ],
      "metadata": {
        "id": "Ybmmsxd4wFeE"
      }
    },
    {
      "cell_type": "code",
      "source": [
        "def fetch_audio_features(track_ids):\n",
        "    try:\n",
        "        features = sp.audio_features(track_ids)\n",
        "        return features\n",
        "    except Exception as e:\n",
        "        print(f\"Error fetching audio features for IDs {track_ids}: {e}\")\n",
        "        return []"
      ],
      "metadata": {
        "id": "gpuX5bopi9Nr"
      },
      "execution_count": null,
      "outputs": []
    },
    {
      "cell_type": "markdown",
      "source": [
        "Fetch artists by artist ids."
      ],
      "metadata": {
        "id": "zz3FGRPh1yn7"
      }
    },
    {
      "cell_type": "code",
      "source": [
        "def fetch_artist_genres(artist_ids, sp):\n",
        "    try:\n",
        "        artists = sp.artists(artist_ids)[\"artists\"]\n",
        "        artist_genres = {artist[\"id\"]: artist.get(\"genres\", []) for artist in artists}\n",
        "        return artist_genres\n",
        "    except Exception as e:\n",
        "        print(f\"Error fetching artist genres for IDs {artist_ids}: {e}\")\n",
        "        return {}"
      ],
      "metadata": {
        "id": "5fdes0PLjBnz"
      },
      "execution_count": null,
      "outputs": []
    },
    {
      "cell_type": "markdown",
      "source": [
        "The `combine_metadata_with_features` function merges track metadata, audio features, and artist genre information into a single, cohesive dataset. This combined data is essential for building a comprehensive dataset for music analysis and modeling.\n",
        "\n",
        "Key Features:\n",
        "1. Combining Multiple Sources:\n",
        "  * Merges track metadata (e.g., name, artist, release date), audio features (e.g., danceability, energy), and artist genres into a unified format.\n",
        "2. Output:\n",
        "  * Returns a list of dictionaries, where each dictionary contains detailed information about a single track."
      ],
      "metadata": {
        "id": "7T17KBcH2PIG"
      }
    },
    {
      "cell_type": "code",
      "source": [
        "def combine_metadata_with_features(tracks, features_list, artist_genres):\n",
        "    track_metadata = []\n",
        "    for track, features in zip(tracks, features_list):\n",
        "        # Skip if features or track details are missing\n",
        "        if not track or features is None:\n",
        "            continue\n",
        "\n",
        "        try:\n",
        "            artist_id = track[\"artists\"][0][\"id\"]\n",
        "            genres = artist_genres.get(artist_id, [])\n",
        "\n",
        "            # Combine metadata and features, with safe defaults\n",
        "            metadata = {\n",
        "                \"id\": track.get(\"id\", \"Unknown\"),\n",
        "                \"name\": track.get(\"name\", \"Unknown\"),\n",
        "                \"artists\": \", \".join(artist[\"name\"] for artist in track.get(\"artists\", [])),\n",
        "                \"release_date\": track[\"album\"].get(\"release_date\", \"Unknown\"),\n",
        "                \"popularity\": track.get(\"popularity\", 0),\n",
        "                \"duration_ms\": track.get(\"duration_ms\", 0),\n",
        "                \"genres\": \", \".join(genres),\n",
        "                \"danceability\": features.get(\"danceability\", None),\n",
        "                \"energy\": features.get(\"energy\", None),\n",
        "                \"key\": features.get(\"key\", None),\n",
        "                \"loudness\": features.get(\"loudness\", None),\n",
        "                \"mode\": features.get(\"mode\", None),\n",
        "                \"speechiness\": features.get(\"speechiness\", None),\n",
        "                \"acousticness\": features.get(\"acousticness\", None),\n",
        "                \"instrumentalness\": features.get(\"instrumentalness\", None),\n",
        "                \"liveness\": features.get(\"liveness\", None),\n",
        "                \"valence\": features.get(\"valence\", None),\n",
        "                \"tempo\": features.get(\"tempo\", None),\n",
        "            }\n",
        "            track_metadata.append(metadata)\n",
        "        except KeyError as e:\n",
        "            print(f\"Missing key in track or features data: {e}\")\n",
        "\n",
        "    return track_metadata\n"
      ],
      "metadata": {
        "id": "I2IQc75zjL1j"
      },
      "execution_count": null,
      "outputs": []
    },
    {
      "cell_type": "markdown",
      "source": [
        "The `get_tracks_metadata` function retrieves metadata, audio features, and genres for a list of Spotify track IDs. It processes the tracks in batches to optimize API calls and avoid exceeding request limits. The resulting dataset combines track information, audio features, and artist genres into a unified format.\n",
        "\n",
        "Key Features:\n",
        "1. Batch Processing:\n",
        "  * Processes track IDs in batches (default: 50 tracks per batch) to comply with Spotify API limits and improve efficiency.\n",
        "2. Integrated Data Retrieval:\n",
        "  * Fetches track metadata, audio features, and artist genres in a single workflow.\n",
        "3. Progress Tracking:\n",
        "  * Uses a progress bar (tqdm) to provide real-time feedback on the processing status."
      ],
      "metadata": {
        "id": "lE9qlVjz2Qgi"
      }
    },
    {
      "cell_type": "code",
      "source": [
        "def get_tracks_metadata(track_ids, sp, batch_size=50):\n",
        "    track_metadata = []\n",
        "\n",
        "    # Initialize tqdm progress bar\n",
        "    with tqdm(total=len(track_ids), desc=\"Fetching metadata batches\", unit=\"track\") as pbar:\n",
        "        for i in range(0, len(track_ids), batch_size):\n",
        "            batch = track_ids[i:i + batch_size]\n",
        "\n",
        "            # Fetch the tracks, audio features, and artist genres\n",
        "            tracks = fetch_tracks(batch, sp)\n",
        "            # print(f\"Fetched {len(tracks)} tracks for batch {i // batch_size + 1}\")\n",
        "            features_list = fetch_audio_features(batch, sp)\n",
        "            # print(f\"Fetched {len(features_list)} audio features for batch {i // batch_size + 1}\")\n",
        "            artist_ids = {track[\"artists\"][0][\"id\"] for track in tracks if \"artists\" in track and track[\"artists\"]}\n",
        "            artist_genres = fetch_artist_genres(list(artist_ids), sp)\n",
        "\n",
        "            # Combine metadata\n",
        "            batch_metadata = combine_metadata_with_features(tracks, features_list, artist_genres)\n",
        "            track_metadata.extend(batch_metadata)\n",
        "\n",
        "            # Update progress bar with the batch size (or remaining tracks)\n",
        "            pbar.update(len(batch))\n",
        "\n",
        "    return track_metadata"
      ],
      "metadata": {
        "id": "Iqg2J5rEhkPr"
      },
      "execution_count": null,
      "outputs": []
    },
    {
      "cell_type": "code",
      "source": [
        "track_ids = owners_tracks[\"track\"].drop_duplicates()"
      ],
      "metadata": {
        "id": "9YulI9TXdBHK"
      },
      "execution_count": null,
      "outputs": []
    },
    {
      "cell_type": "code",
      "source": [
        "track_ids[:5]"
      ],
      "metadata": {
        "colab": {
          "base_uri": "https://localhost:8080/",
          "height": 241
        },
        "id": "lPaVzr0mfpLA",
        "outputId": "a9208695-42dd-4f64-f708-d358f6af9f1b"
      },
      "execution_count": null,
      "outputs": [
        {
          "output_type": "execute_result",
          "data": {
            "text/plain": [
              "0    3d0XzPv4mvpC4982A1y4NL\n",
              "1    5rsMoB1AbPRRyDfQy8ZvUU\n",
              "2    0RSyQJ6J3yEEEQS5MVamvW\n",
              "3    0H2Fc5aEaB3GvHBlKS5DEu\n",
              "4    6mUf8ugYOVdOzp7cagyiqb\n",
              "Name: track, dtype: object"
            ],
            "text/html": [
              "<div>\n",
              "<style scoped>\n",
              "    .dataframe tbody tr th:only-of-type {\n",
              "        vertical-align: middle;\n",
              "    }\n",
              "\n",
              "    .dataframe tbody tr th {\n",
              "        vertical-align: top;\n",
              "    }\n",
              "\n",
              "    .dataframe thead th {\n",
              "        text-align: right;\n",
              "    }\n",
              "</style>\n",
              "<table border=\"1\" class=\"dataframe\">\n",
              "  <thead>\n",
              "    <tr style=\"text-align: right;\">\n",
              "      <th></th>\n",
              "      <th>track</th>\n",
              "    </tr>\n",
              "  </thead>\n",
              "  <tbody>\n",
              "    <tr>\n",
              "      <th>0</th>\n",
              "      <td>3d0XzPv4mvpC4982A1y4NL</td>\n",
              "    </tr>\n",
              "    <tr>\n",
              "      <th>1</th>\n",
              "      <td>5rsMoB1AbPRRyDfQy8ZvUU</td>\n",
              "    </tr>\n",
              "    <tr>\n",
              "      <th>2</th>\n",
              "      <td>0RSyQJ6J3yEEEQS5MVamvW</td>\n",
              "    </tr>\n",
              "    <tr>\n",
              "      <th>3</th>\n",
              "      <td>0H2Fc5aEaB3GvHBlKS5DEu</td>\n",
              "    </tr>\n",
              "    <tr>\n",
              "      <th>4</th>\n",
              "      <td>6mUf8ugYOVdOzp7cagyiqb</td>\n",
              "    </tr>\n",
              "  </tbody>\n",
              "</table>\n",
              "</div><br><label><b>dtype:</b> object</label>"
            ]
          },
          "metadata": {},
          "execution_count": 29
        }
      ]
    },
    {
      "cell_type": "markdown",
      "source": [
        "Due to limitations on the number of API requests a user can make, you may encounter issues running this part of the code. In such cases, you might need to wait a few hours before retrying. To avoid delays, the corresponding CSV files have been provided, allowing you to skip this step. If you encounter error messages, proceed by loading the data from `tracks.csv`."
      ],
      "metadata": {
        "id": "V3yRADjS77tr"
      }
    },
    {
      "cell_type": "code",
      "source": [
        "# SINCE THE ENDPOINT IS NO LONGER AVAILABLE WITH SKIP THIS AND RETRIEVE THE DATA FROM THE CSV FILES.\n",
        "# BECAUSE WE RUN THIS SEQUENCE BEFORE THE 27TH OF NOVEMBER WE COLLECTED THE DATA THEN.\n",
        "\n",
        "# metadata = get_tracks_metadata(track_ids)"
      ],
      "metadata": {
        "id": "0xbhs9ZXgFfW"
      },
      "execution_count": null,
      "outputs": []
    },
    {
      "cell_type": "code",
      "source": [
        "# metadata_df = pd.DataFrame(metadata)\n",
        "# print(metadata_df.head())"
      ],
      "metadata": {
        "id": "iYAbthmPiyTE"
      },
      "execution_count": null,
      "outputs": []
    },
    {
      "cell_type": "code",
      "source": [
        "tracks_filename = \"Tracks.csv\""
      ],
      "metadata": {
        "id": "_n9KRIfojbgR"
      },
      "execution_count": null,
      "outputs": []
    },
    {
      "cell_type": "code",
      "source": [
        "# write_to_csv(metadata, tracks_filename)"
      ],
      "metadata": {
        "id": "H-dkg2dojfCN"
      },
      "execution_count": null,
      "outputs": []
    },
    {
      "cell_type": "code",
      "source": [
        "metadata = load_data(tracks_filename)"
      ],
      "metadata": {
        "id": "qBpKJ51pj4Br"
      },
      "execution_count": null,
      "outputs": []
    },
    {
      "cell_type": "code",
      "source": [
        "print(metadata.head())"
      ],
      "metadata": {
        "id": "wB4UBntBj3-7",
        "colab": {
          "base_uri": "https://localhost:8080/"
        },
        "outputId": "8724c917-1bce-4aa4-ed88-9d2fcb72bec0"
      },
      "execution_count": null,
      "outputs": [
        {
          "output_type": "stream",
          "name": "stdout",
          "text": [
            "                       id               name         artists release_date  \\\n",
            "0  0CraBBTipNqDatEHNcvb3j         Small Talk      Isla-Maria   2024-10-25   \n",
            "1  7qvsl2pYzrsYgPeFBN5jxp              Juicy  Doja Cat, Tyga   2019-08-15   \n",
            "2  1BxfuPKGuaTgP7aM0Bbdwr       Cruel Summer    Taylor Swift   2019-08-23   \n",
            "3  4mDLApzbhjNSutiW2EOakg  How I Look On You   Ariana Grande   2019-11-01   \n",
            "4  3DmW6y7wTEYHJZlLo1r6XJ             Shower         Becky G   2014-04-23   \n",
            "\n",
            "   popularity  duration_ms                                             genres  \\\n",
            "0          33       156375                                                NaN   \n",
            "1          42       202333                                     dance pop, pop   \n",
            "2          89       178426                                                pop   \n",
            "3          51       174426                                                pop   \n",
            "4          75       206166  latin pop, latin viral pop, rap latina, reggae...   \n",
            "\n",
            "   danceability  energy  key  loudness  mode  speechiness  acousticness  \\\n",
            "0         0.655   0.532    8    -7.632     1       0.0427        0.4430   \n",
            "1         0.786   0.658    0    -2.610     1       0.0661        0.0856   \n",
            "2         0.552   0.702    9    -5.707     1       0.1570        0.1170   \n",
            "3         0.407   0.520    4    -7.330     0       0.2010        0.2000   \n",
            "4         0.699   0.529    2    -7.548     1       0.0487        0.0317   \n",
            "\n",
            "   instrumentalness  liveness  valence    tempo  \n",
            "0          0.000000    0.2550    0.641  119.957  \n",
            "1          0.000000    0.0689    0.458  170.037  \n",
            "2          0.000021    0.1050    0.564  169.994  \n",
            "3          0.000199    0.0878    0.411  169.758  \n",
            "4          0.000036    0.2850    0.121  119.987  \n"
          ]
        }
      ]
    },
    {
      "cell_type": "markdown",
      "source": [
        "We load again all data from the csv files."
      ],
      "metadata": {
        "id": "Kc-NhyR_80AF"
      }
    },
    {
      "cell_type": "code",
      "source": [
        "owners_filename = \"Owners.csv\"\n",
        "owners_tracks_filename = \"Owners_Tracks.csv\"\n",
        "tracks_filename = \"Tracks.csv\"\n",
        "\n",
        "owners = load_data(owners_filename)\n",
        "owners_tracks = load_data(owners_tracks_filename)\n",
        "metadata = load_data(tracks_filename)"
      ],
      "metadata": {
        "id": "D1VNJ5_xqQwA"
      },
      "execution_count": null,
      "outputs": []
    },
    {
      "cell_type": "code",
      "source": [
        "owners_tracks.head()"
      ],
      "metadata": {
        "id": "668kSMHONZba",
        "colab": {
          "base_uri": "https://localhost:8080/",
          "height": 206
        },
        "outputId": "9a2d623f-9229-4a40-c2cd-1e7462988f82"
      },
      "execution_count": null,
      "outputs": [
        {
          "output_type": "execute_result",
          "data": {
            "text/plain": [
              "  owner_id genre                   track\n",
              "0  biels09   Pop  0CraBBTipNqDatEHNcvb3j\n",
              "1  biels09   Pop  7qvsl2pYzrsYgPeFBN5jxp\n",
              "2  biels09   Pop  1BxfuPKGuaTgP7aM0Bbdwr\n",
              "3  biels09   Pop  4mDLApzbhjNSutiW2EOakg\n",
              "4  biels09   Pop  3DmW6y7wTEYHJZlLo1r6XJ"
            ],
            "text/html": [
              "\n",
              "  <div id=\"df-bf30db89-6438-4b47-afaf-6604691f6308\" class=\"colab-df-container\">\n",
              "    <div>\n",
              "<style scoped>\n",
              "    .dataframe tbody tr th:only-of-type {\n",
              "        vertical-align: middle;\n",
              "    }\n",
              "\n",
              "    .dataframe tbody tr th {\n",
              "        vertical-align: top;\n",
              "    }\n",
              "\n",
              "    .dataframe thead th {\n",
              "        text-align: right;\n",
              "    }\n",
              "</style>\n",
              "<table border=\"1\" class=\"dataframe\">\n",
              "  <thead>\n",
              "    <tr style=\"text-align: right;\">\n",
              "      <th></th>\n",
              "      <th>owner_id</th>\n",
              "      <th>genre</th>\n",
              "      <th>track</th>\n",
              "    </tr>\n",
              "  </thead>\n",
              "  <tbody>\n",
              "    <tr>\n",
              "      <th>0</th>\n",
              "      <td>biels09</td>\n",
              "      <td>Pop</td>\n",
              "      <td>0CraBBTipNqDatEHNcvb3j</td>\n",
              "    </tr>\n",
              "    <tr>\n",
              "      <th>1</th>\n",
              "      <td>biels09</td>\n",
              "      <td>Pop</td>\n",
              "      <td>7qvsl2pYzrsYgPeFBN5jxp</td>\n",
              "    </tr>\n",
              "    <tr>\n",
              "      <th>2</th>\n",
              "      <td>biels09</td>\n",
              "      <td>Pop</td>\n",
              "      <td>1BxfuPKGuaTgP7aM0Bbdwr</td>\n",
              "    </tr>\n",
              "    <tr>\n",
              "      <th>3</th>\n",
              "      <td>biels09</td>\n",
              "      <td>Pop</td>\n",
              "      <td>4mDLApzbhjNSutiW2EOakg</td>\n",
              "    </tr>\n",
              "    <tr>\n",
              "      <th>4</th>\n",
              "      <td>biels09</td>\n",
              "      <td>Pop</td>\n",
              "      <td>3DmW6y7wTEYHJZlLo1r6XJ</td>\n",
              "    </tr>\n",
              "  </tbody>\n",
              "</table>\n",
              "</div>\n",
              "    <div class=\"colab-df-buttons\">\n",
              "\n",
              "  <div class=\"colab-df-container\">\n",
              "    <button class=\"colab-df-convert\" onclick=\"convertToInteractive('df-bf30db89-6438-4b47-afaf-6604691f6308')\"\n",
              "            title=\"Convert this dataframe to an interactive table.\"\n",
              "            style=\"display:none;\">\n",
              "\n",
              "  <svg xmlns=\"http://www.w3.org/2000/svg\" height=\"24px\" viewBox=\"0 -960 960 960\">\n",
              "    <path d=\"M120-120v-720h720v720H120Zm60-500h600v-160H180v160Zm220 220h160v-160H400v160Zm0 220h160v-160H400v160ZM180-400h160v-160H180v160Zm440 0h160v-160H620v160ZM180-180h160v-160H180v160Zm440 0h160v-160H620v160Z\"/>\n",
              "  </svg>\n",
              "    </button>\n",
              "\n",
              "  <style>\n",
              "    .colab-df-container {\n",
              "      display:flex;\n",
              "      gap: 12px;\n",
              "    }\n",
              "\n",
              "    .colab-df-convert {\n",
              "      background-color: #E8F0FE;\n",
              "      border: none;\n",
              "      border-radius: 50%;\n",
              "      cursor: pointer;\n",
              "      display: none;\n",
              "      fill: #1967D2;\n",
              "      height: 32px;\n",
              "      padding: 0 0 0 0;\n",
              "      width: 32px;\n",
              "    }\n",
              "\n",
              "    .colab-df-convert:hover {\n",
              "      background-color: #E2EBFA;\n",
              "      box-shadow: 0px 1px 2px rgba(60, 64, 67, 0.3), 0px 1px 3px 1px rgba(60, 64, 67, 0.15);\n",
              "      fill: #174EA6;\n",
              "    }\n",
              "\n",
              "    .colab-df-buttons div {\n",
              "      margin-bottom: 4px;\n",
              "    }\n",
              "\n",
              "    [theme=dark] .colab-df-convert {\n",
              "      background-color: #3B4455;\n",
              "      fill: #D2E3FC;\n",
              "    }\n",
              "\n",
              "    [theme=dark] .colab-df-convert:hover {\n",
              "      background-color: #434B5C;\n",
              "      box-shadow: 0px 1px 3px 1px rgba(0, 0, 0, 0.15);\n",
              "      filter: drop-shadow(0px 1px 2px rgba(0, 0, 0, 0.3));\n",
              "      fill: #FFFFFF;\n",
              "    }\n",
              "  </style>\n",
              "\n",
              "    <script>\n",
              "      const buttonEl =\n",
              "        document.querySelector('#df-bf30db89-6438-4b47-afaf-6604691f6308 button.colab-df-convert');\n",
              "      buttonEl.style.display =\n",
              "        google.colab.kernel.accessAllowed ? 'block' : 'none';\n",
              "\n",
              "      async function convertToInteractive(key) {\n",
              "        const element = document.querySelector('#df-bf30db89-6438-4b47-afaf-6604691f6308');\n",
              "        const dataTable =\n",
              "          await google.colab.kernel.invokeFunction('convertToInteractive',\n",
              "                                                    [key], {});\n",
              "        if (!dataTable) return;\n",
              "\n",
              "        const docLinkHtml = 'Like what you see? Visit the ' +\n",
              "          '<a target=\"_blank\" href=https://colab.research.google.com/notebooks/data_table.ipynb>data table notebook</a>'\n",
              "          + ' to learn more about interactive tables.';\n",
              "        element.innerHTML = '';\n",
              "        dataTable['output_type'] = 'display_data';\n",
              "        await google.colab.output.renderOutput(dataTable, element);\n",
              "        const docLink = document.createElement('div');\n",
              "        docLink.innerHTML = docLinkHtml;\n",
              "        element.appendChild(docLink);\n",
              "      }\n",
              "    </script>\n",
              "  </div>\n",
              "\n",
              "\n",
              "<div id=\"df-3df4b298-4652-420b-8062-3805e7821aff\">\n",
              "  <button class=\"colab-df-quickchart\" onclick=\"quickchart('df-3df4b298-4652-420b-8062-3805e7821aff')\"\n",
              "            title=\"Suggest charts\"\n",
              "            style=\"display:none;\">\n",
              "\n",
              "<svg xmlns=\"http://www.w3.org/2000/svg\" height=\"24px\"viewBox=\"0 0 24 24\"\n",
              "     width=\"24px\">\n",
              "    <g>\n",
              "        <path d=\"M19 3H5c-1.1 0-2 .9-2 2v14c0 1.1.9 2 2 2h14c1.1 0 2-.9 2-2V5c0-1.1-.9-2-2-2zM9 17H7v-7h2v7zm4 0h-2V7h2v10zm4 0h-2v-4h2v4z\"/>\n",
              "    </g>\n",
              "</svg>\n",
              "  </button>\n",
              "\n",
              "<style>\n",
              "  .colab-df-quickchart {\n",
              "      --bg-color: #E8F0FE;\n",
              "      --fill-color: #1967D2;\n",
              "      --hover-bg-color: #E2EBFA;\n",
              "      --hover-fill-color: #174EA6;\n",
              "      --disabled-fill-color: #AAA;\n",
              "      --disabled-bg-color: #DDD;\n",
              "  }\n",
              "\n",
              "  [theme=dark] .colab-df-quickchart {\n",
              "      --bg-color: #3B4455;\n",
              "      --fill-color: #D2E3FC;\n",
              "      --hover-bg-color: #434B5C;\n",
              "      --hover-fill-color: #FFFFFF;\n",
              "      --disabled-bg-color: #3B4455;\n",
              "      --disabled-fill-color: #666;\n",
              "  }\n",
              "\n",
              "  .colab-df-quickchart {\n",
              "    background-color: var(--bg-color);\n",
              "    border: none;\n",
              "    border-radius: 50%;\n",
              "    cursor: pointer;\n",
              "    display: none;\n",
              "    fill: var(--fill-color);\n",
              "    height: 32px;\n",
              "    padding: 0;\n",
              "    width: 32px;\n",
              "  }\n",
              "\n",
              "  .colab-df-quickchart:hover {\n",
              "    background-color: var(--hover-bg-color);\n",
              "    box-shadow: 0 1px 2px rgba(60, 64, 67, 0.3), 0 1px 3px 1px rgba(60, 64, 67, 0.15);\n",
              "    fill: var(--button-hover-fill-color);\n",
              "  }\n",
              "\n",
              "  .colab-df-quickchart-complete:disabled,\n",
              "  .colab-df-quickchart-complete:disabled:hover {\n",
              "    background-color: var(--disabled-bg-color);\n",
              "    fill: var(--disabled-fill-color);\n",
              "    box-shadow: none;\n",
              "  }\n",
              "\n",
              "  .colab-df-spinner {\n",
              "    border: 2px solid var(--fill-color);\n",
              "    border-color: transparent;\n",
              "    border-bottom-color: var(--fill-color);\n",
              "    animation:\n",
              "      spin 1s steps(1) infinite;\n",
              "  }\n",
              "\n",
              "  @keyframes spin {\n",
              "    0% {\n",
              "      border-color: transparent;\n",
              "      border-bottom-color: var(--fill-color);\n",
              "      border-left-color: var(--fill-color);\n",
              "    }\n",
              "    20% {\n",
              "      border-color: transparent;\n",
              "      border-left-color: var(--fill-color);\n",
              "      border-top-color: var(--fill-color);\n",
              "    }\n",
              "    30% {\n",
              "      border-color: transparent;\n",
              "      border-left-color: var(--fill-color);\n",
              "      border-top-color: var(--fill-color);\n",
              "      border-right-color: var(--fill-color);\n",
              "    }\n",
              "    40% {\n",
              "      border-color: transparent;\n",
              "      border-right-color: var(--fill-color);\n",
              "      border-top-color: var(--fill-color);\n",
              "    }\n",
              "    60% {\n",
              "      border-color: transparent;\n",
              "      border-right-color: var(--fill-color);\n",
              "    }\n",
              "    80% {\n",
              "      border-color: transparent;\n",
              "      border-right-color: var(--fill-color);\n",
              "      border-bottom-color: var(--fill-color);\n",
              "    }\n",
              "    90% {\n",
              "      border-color: transparent;\n",
              "      border-bottom-color: var(--fill-color);\n",
              "    }\n",
              "  }\n",
              "</style>\n",
              "\n",
              "  <script>\n",
              "    async function quickchart(key) {\n",
              "      const quickchartButtonEl =\n",
              "        document.querySelector('#' + key + ' button');\n",
              "      quickchartButtonEl.disabled = true;  // To prevent multiple clicks.\n",
              "      quickchartButtonEl.classList.add('colab-df-spinner');\n",
              "      try {\n",
              "        const charts = await google.colab.kernel.invokeFunction(\n",
              "            'suggestCharts', [key], {});\n",
              "      } catch (error) {\n",
              "        console.error('Error during call to suggestCharts:', error);\n",
              "      }\n",
              "      quickchartButtonEl.classList.remove('colab-df-spinner');\n",
              "      quickchartButtonEl.classList.add('colab-df-quickchart-complete');\n",
              "    }\n",
              "    (() => {\n",
              "      let quickchartButtonEl =\n",
              "        document.querySelector('#df-3df4b298-4652-420b-8062-3805e7821aff button');\n",
              "      quickchartButtonEl.style.display =\n",
              "        google.colab.kernel.accessAllowed ? 'block' : 'none';\n",
              "    })();\n",
              "  </script>\n",
              "</div>\n",
              "\n",
              "    </div>\n",
              "  </div>\n"
            ],
            "application/vnd.google.colaboratory.intrinsic+json": {
              "type": "dataframe",
              "variable_name": "owners_tracks",
              "summary": "{\n  \"name\": \"owners_tracks\",\n  \"rows\": 22161,\n  \"fields\": [\n    {\n      \"column\": \"owner_id\",\n      \"properties\": {\n        \"dtype\": \"category\",\n        \"num_unique_values\": 74,\n        \"samples\": [\n          \"hotamazingnetwork\",\n          \"zy6q7yim7xlqs0he83qbm5swv\",\n          \"9tj6qwakyk5ulp7xxsj8qia6h\"\n        ],\n        \"semantic_type\": \"\",\n        \"description\": \"\"\n      }\n    },\n    {\n      \"column\": \"genre\",\n      \"properties\": {\n        \"dtype\": \"category\",\n        \"num_unique_values\": 8,\n        \"samples\": [\n          \"Rock\",\n          \"Jazz\",\n          \"Pop\"\n        ],\n        \"semantic_type\": \"\",\n        \"description\": \"\"\n      }\n    },\n    {\n      \"column\": \"track\",\n      \"properties\": {\n        \"dtype\": \"string\",\n        \"num_unique_values\": 18645,\n        \"samples\": [\n          \"5EUXRdukDwEkNays7HQ3AB\",\n          \"6MI8bpSgRyd378YETBbNfZ\",\n          \"0JAZWvvqttGFm4UMDsPQXC\"\n        ],\n        \"semantic_type\": \"\",\n        \"description\": \"\"\n      }\n    }\n  ]\n}"
            }
          },
          "metadata": {},
          "execution_count": 39
        }
      ]
    },
    {
      "cell_type": "code",
      "source": [
        "metadata.head()"
      ],
      "metadata": {
        "id": "IhSKi2d_Nega",
        "colab": {
          "base_uri": "https://localhost:8080/",
          "height": 417
        },
        "outputId": "9f54521a-2180-4113-ccaf-2d244cf62a1f"
      },
      "execution_count": null,
      "outputs": [
        {
          "output_type": "execute_result",
          "data": {
            "text/plain": [
              "                       id               name         artists release_date  \\\n",
              "0  0CraBBTipNqDatEHNcvb3j         Small Talk      Isla-Maria   2024-10-25   \n",
              "1  7qvsl2pYzrsYgPeFBN5jxp              Juicy  Doja Cat, Tyga   2019-08-15   \n",
              "2  1BxfuPKGuaTgP7aM0Bbdwr       Cruel Summer    Taylor Swift   2019-08-23   \n",
              "3  4mDLApzbhjNSutiW2EOakg  How I Look On You   Ariana Grande   2019-11-01   \n",
              "4  3DmW6y7wTEYHJZlLo1r6XJ             Shower         Becky G   2014-04-23   \n",
              "\n",
              "   popularity  duration_ms                                             genres  \\\n",
              "0          33       156375                                                NaN   \n",
              "1          42       202333                                     dance pop, pop   \n",
              "2          89       178426                                                pop   \n",
              "3          51       174426                                                pop   \n",
              "4          75       206166  latin pop, latin viral pop, rap latina, reggae...   \n",
              "\n",
              "   danceability  energy  key  loudness  mode  speechiness  acousticness  \\\n",
              "0         0.655   0.532    8    -7.632     1       0.0427        0.4430   \n",
              "1         0.786   0.658    0    -2.610     1       0.0661        0.0856   \n",
              "2         0.552   0.702    9    -5.707     1       0.1570        0.1170   \n",
              "3         0.407   0.520    4    -7.330     0       0.2010        0.2000   \n",
              "4         0.699   0.529    2    -7.548     1       0.0487        0.0317   \n",
              "\n",
              "   instrumentalness  liveness  valence    tempo  \n",
              "0          0.000000    0.2550    0.641  119.957  \n",
              "1          0.000000    0.0689    0.458  170.037  \n",
              "2          0.000021    0.1050    0.564  169.994  \n",
              "3          0.000199    0.0878    0.411  169.758  \n",
              "4          0.000036    0.2850    0.121  119.987  "
            ],
            "text/html": [
              "\n",
              "  <div id=\"df-167175be-ed6f-4c2c-9b4a-b67045a05364\" class=\"colab-df-container\">\n",
              "    <div>\n",
              "<style scoped>\n",
              "    .dataframe tbody tr th:only-of-type {\n",
              "        vertical-align: middle;\n",
              "    }\n",
              "\n",
              "    .dataframe tbody tr th {\n",
              "        vertical-align: top;\n",
              "    }\n",
              "\n",
              "    .dataframe thead th {\n",
              "        text-align: right;\n",
              "    }\n",
              "</style>\n",
              "<table border=\"1\" class=\"dataframe\">\n",
              "  <thead>\n",
              "    <tr style=\"text-align: right;\">\n",
              "      <th></th>\n",
              "      <th>id</th>\n",
              "      <th>name</th>\n",
              "      <th>artists</th>\n",
              "      <th>release_date</th>\n",
              "      <th>popularity</th>\n",
              "      <th>duration_ms</th>\n",
              "      <th>genres</th>\n",
              "      <th>danceability</th>\n",
              "      <th>energy</th>\n",
              "      <th>key</th>\n",
              "      <th>loudness</th>\n",
              "      <th>mode</th>\n",
              "      <th>speechiness</th>\n",
              "      <th>acousticness</th>\n",
              "      <th>instrumentalness</th>\n",
              "      <th>liveness</th>\n",
              "      <th>valence</th>\n",
              "      <th>tempo</th>\n",
              "    </tr>\n",
              "  </thead>\n",
              "  <tbody>\n",
              "    <tr>\n",
              "      <th>0</th>\n",
              "      <td>0CraBBTipNqDatEHNcvb3j</td>\n",
              "      <td>Small Talk</td>\n",
              "      <td>Isla-Maria</td>\n",
              "      <td>2024-10-25</td>\n",
              "      <td>33</td>\n",
              "      <td>156375</td>\n",
              "      <td>NaN</td>\n",
              "      <td>0.655</td>\n",
              "      <td>0.532</td>\n",
              "      <td>8</td>\n",
              "      <td>-7.632</td>\n",
              "      <td>1</td>\n",
              "      <td>0.0427</td>\n",
              "      <td>0.4430</td>\n",
              "      <td>0.000000</td>\n",
              "      <td>0.2550</td>\n",
              "      <td>0.641</td>\n",
              "      <td>119.957</td>\n",
              "    </tr>\n",
              "    <tr>\n",
              "      <th>1</th>\n",
              "      <td>7qvsl2pYzrsYgPeFBN5jxp</td>\n",
              "      <td>Juicy</td>\n",
              "      <td>Doja Cat, Tyga</td>\n",
              "      <td>2019-08-15</td>\n",
              "      <td>42</td>\n",
              "      <td>202333</td>\n",
              "      <td>dance pop, pop</td>\n",
              "      <td>0.786</td>\n",
              "      <td>0.658</td>\n",
              "      <td>0</td>\n",
              "      <td>-2.610</td>\n",
              "      <td>1</td>\n",
              "      <td>0.0661</td>\n",
              "      <td>0.0856</td>\n",
              "      <td>0.000000</td>\n",
              "      <td>0.0689</td>\n",
              "      <td>0.458</td>\n",
              "      <td>170.037</td>\n",
              "    </tr>\n",
              "    <tr>\n",
              "      <th>2</th>\n",
              "      <td>1BxfuPKGuaTgP7aM0Bbdwr</td>\n",
              "      <td>Cruel Summer</td>\n",
              "      <td>Taylor Swift</td>\n",
              "      <td>2019-08-23</td>\n",
              "      <td>89</td>\n",
              "      <td>178426</td>\n",
              "      <td>pop</td>\n",
              "      <td>0.552</td>\n",
              "      <td>0.702</td>\n",
              "      <td>9</td>\n",
              "      <td>-5.707</td>\n",
              "      <td>1</td>\n",
              "      <td>0.1570</td>\n",
              "      <td>0.1170</td>\n",
              "      <td>0.000021</td>\n",
              "      <td>0.1050</td>\n",
              "      <td>0.564</td>\n",
              "      <td>169.994</td>\n",
              "    </tr>\n",
              "    <tr>\n",
              "      <th>3</th>\n",
              "      <td>4mDLApzbhjNSutiW2EOakg</td>\n",
              "      <td>How I Look On You</td>\n",
              "      <td>Ariana Grande</td>\n",
              "      <td>2019-11-01</td>\n",
              "      <td>51</td>\n",
              "      <td>174426</td>\n",
              "      <td>pop</td>\n",
              "      <td>0.407</td>\n",
              "      <td>0.520</td>\n",
              "      <td>4</td>\n",
              "      <td>-7.330</td>\n",
              "      <td>0</td>\n",
              "      <td>0.2010</td>\n",
              "      <td>0.2000</td>\n",
              "      <td>0.000199</td>\n",
              "      <td>0.0878</td>\n",
              "      <td>0.411</td>\n",
              "      <td>169.758</td>\n",
              "    </tr>\n",
              "    <tr>\n",
              "      <th>4</th>\n",
              "      <td>3DmW6y7wTEYHJZlLo1r6XJ</td>\n",
              "      <td>Shower</td>\n",
              "      <td>Becky G</td>\n",
              "      <td>2014-04-23</td>\n",
              "      <td>75</td>\n",
              "      <td>206166</td>\n",
              "      <td>latin pop, latin viral pop, rap latina, reggae...</td>\n",
              "      <td>0.699</td>\n",
              "      <td>0.529</td>\n",
              "      <td>2</td>\n",
              "      <td>-7.548</td>\n",
              "      <td>1</td>\n",
              "      <td>0.0487</td>\n",
              "      <td>0.0317</td>\n",
              "      <td>0.000036</td>\n",
              "      <td>0.2850</td>\n",
              "      <td>0.121</td>\n",
              "      <td>119.987</td>\n",
              "    </tr>\n",
              "  </tbody>\n",
              "</table>\n",
              "</div>\n",
              "    <div class=\"colab-df-buttons\">\n",
              "\n",
              "  <div class=\"colab-df-container\">\n",
              "    <button class=\"colab-df-convert\" onclick=\"convertToInteractive('df-167175be-ed6f-4c2c-9b4a-b67045a05364')\"\n",
              "            title=\"Convert this dataframe to an interactive table.\"\n",
              "            style=\"display:none;\">\n",
              "\n",
              "  <svg xmlns=\"http://www.w3.org/2000/svg\" height=\"24px\" viewBox=\"0 -960 960 960\">\n",
              "    <path d=\"M120-120v-720h720v720H120Zm60-500h600v-160H180v160Zm220 220h160v-160H400v160Zm0 220h160v-160H400v160ZM180-400h160v-160H180v160Zm440 0h160v-160H620v160ZM180-180h160v-160H180v160Zm440 0h160v-160H620v160Z\"/>\n",
              "  </svg>\n",
              "    </button>\n",
              "\n",
              "  <style>\n",
              "    .colab-df-container {\n",
              "      display:flex;\n",
              "      gap: 12px;\n",
              "    }\n",
              "\n",
              "    .colab-df-convert {\n",
              "      background-color: #E8F0FE;\n",
              "      border: none;\n",
              "      border-radius: 50%;\n",
              "      cursor: pointer;\n",
              "      display: none;\n",
              "      fill: #1967D2;\n",
              "      height: 32px;\n",
              "      padding: 0 0 0 0;\n",
              "      width: 32px;\n",
              "    }\n",
              "\n",
              "    .colab-df-convert:hover {\n",
              "      background-color: #E2EBFA;\n",
              "      box-shadow: 0px 1px 2px rgba(60, 64, 67, 0.3), 0px 1px 3px 1px rgba(60, 64, 67, 0.15);\n",
              "      fill: #174EA6;\n",
              "    }\n",
              "\n",
              "    .colab-df-buttons div {\n",
              "      margin-bottom: 4px;\n",
              "    }\n",
              "\n",
              "    [theme=dark] .colab-df-convert {\n",
              "      background-color: #3B4455;\n",
              "      fill: #D2E3FC;\n",
              "    }\n",
              "\n",
              "    [theme=dark] .colab-df-convert:hover {\n",
              "      background-color: #434B5C;\n",
              "      box-shadow: 0px 1px 3px 1px rgba(0, 0, 0, 0.15);\n",
              "      filter: drop-shadow(0px 1px 2px rgba(0, 0, 0, 0.3));\n",
              "      fill: #FFFFFF;\n",
              "    }\n",
              "  </style>\n",
              "\n",
              "    <script>\n",
              "      const buttonEl =\n",
              "        document.querySelector('#df-167175be-ed6f-4c2c-9b4a-b67045a05364 button.colab-df-convert');\n",
              "      buttonEl.style.display =\n",
              "        google.colab.kernel.accessAllowed ? 'block' : 'none';\n",
              "\n",
              "      async function convertToInteractive(key) {\n",
              "        const element = document.querySelector('#df-167175be-ed6f-4c2c-9b4a-b67045a05364');\n",
              "        const dataTable =\n",
              "          await google.colab.kernel.invokeFunction('convertToInteractive',\n",
              "                                                    [key], {});\n",
              "        if (!dataTable) return;\n",
              "\n",
              "        const docLinkHtml = 'Like what you see? Visit the ' +\n",
              "          '<a target=\"_blank\" href=https://colab.research.google.com/notebooks/data_table.ipynb>data table notebook</a>'\n",
              "          + ' to learn more about interactive tables.';\n",
              "        element.innerHTML = '';\n",
              "        dataTable['output_type'] = 'display_data';\n",
              "        await google.colab.output.renderOutput(dataTable, element);\n",
              "        const docLink = document.createElement('div');\n",
              "        docLink.innerHTML = docLinkHtml;\n",
              "        element.appendChild(docLink);\n",
              "      }\n",
              "    </script>\n",
              "  </div>\n",
              "\n",
              "\n",
              "<div id=\"df-ce125308-92dd-449e-8901-c27132583c99\">\n",
              "  <button class=\"colab-df-quickchart\" onclick=\"quickchart('df-ce125308-92dd-449e-8901-c27132583c99')\"\n",
              "            title=\"Suggest charts\"\n",
              "            style=\"display:none;\">\n",
              "\n",
              "<svg xmlns=\"http://www.w3.org/2000/svg\" height=\"24px\"viewBox=\"0 0 24 24\"\n",
              "     width=\"24px\">\n",
              "    <g>\n",
              "        <path d=\"M19 3H5c-1.1 0-2 .9-2 2v14c0 1.1.9 2 2 2h14c1.1 0 2-.9 2-2V5c0-1.1-.9-2-2-2zM9 17H7v-7h2v7zm4 0h-2V7h2v10zm4 0h-2v-4h2v4z\"/>\n",
              "    </g>\n",
              "</svg>\n",
              "  </button>\n",
              "\n",
              "<style>\n",
              "  .colab-df-quickchart {\n",
              "      --bg-color: #E8F0FE;\n",
              "      --fill-color: #1967D2;\n",
              "      --hover-bg-color: #E2EBFA;\n",
              "      --hover-fill-color: #174EA6;\n",
              "      --disabled-fill-color: #AAA;\n",
              "      --disabled-bg-color: #DDD;\n",
              "  }\n",
              "\n",
              "  [theme=dark] .colab-df-quickchart {\n",
              "      --bg-color: #3B4455;\n",
              "      --fill-color: #D2E3FC;\n",
              "      --hover-bg-color: #434B5C;\n",
              "      --hover-fill-color: #FFFFFF;\n",
              "      --disabled-bg-color: #3B4455;\n",
              "      --disabled-fill-color: #666;\n",
              "  }\n",
              "\n",
              "  .colab-df-quickchart {\n",
              "    background-color: var(--bg-color);\n",
              "    border: none;\n",
              "    border-radius: 50%;\n",
              "    cursor: pointer;\n",
              "    display: none;\n",
              "    fill: var(--fill-color);\n",
              "    height: 32px;\n",
              "    padding: 0;\n",
              "    width: 32px;\n",
              "  }\n",
              "\n",
              "  .colab-df-quickchart:hover {\n",
              "    background-color: var(--hover-bg-color);\n",
              "    box-shadow: 0 1px 2px rgba(60, 64, 67, 0.3), 0 1px 3px 1px rgba(60, 64, 67, 0.15);\n",
              "    fill: var(--button-hover-fill-color);\n",
              "  }\n",
              "\n",
              "  .colab-df-quickchart-complete:disabled,\n",
              "  .colab-df-quickchart-complete:disabled:hover {\n",
              "    background-color: var(--disabled-bg-color);\n",
              "    fill: var(--disabled-fill-color);\n",
              "    box-shadow: none;\n",
              "  }\n",
              "\n",
              "  .colab-df-spinner {\n",
              "    border: 2px solid var(--fill-color);\n",
              "    border-color: transparent;\n",
              "    border-bottom-color: var(--fill-color);\n",
              "    animation:\n",
              "      spin 1s steps(1) infinite;\n",
              "  }\n",
              "\n",
              "  @keyframes spin {\n",
              "    0% {\n",
              "      border-color: transparent;\n",
              "      border-bottom-color: var(--fill-color);\n",
              "      border-left-color: var(--fill-color);\n",
              "    }\n",
              "    20% {\n",
              "      border-color: transparent;\n",
              "      border-left-color: var(--fill-color);\n",
              "      border-top-color: var(--fill-color);\n",
              "    }\n",
              "    30% {\n",
              "      border-color: transparent;\n",
              "      border-left-color: var(--fill-color);\n",
              "      border-top-color: var(--fill-color);\n",
              "      border-right-color: var(--fill-color);\n",
              "    }\n",
              "    40% {\n",
              "      border-color: transparent;\n",
              "      border-right-color: var(--fill-color);\n",
              "      border-top-color: var(--fill-color);\n",
              "    }\n",
              "    60% {\n",
              "      border-color: transparent;\n",
              "      border-right-color: var(--fill-color);\n",
              "    }\n",
              "    80% {\n",
              "      border-color: transparent;\n",
              "      border-right-color: var(--fill-color);\n",
              "      border-bottom-color: var(--fill-color);\n",
              "    }\n",
              "    90% {\n",
              "      border-color: transparent;\n",
              "      border-bottom-color: var(--fill-color);\n",
              "    }\n",
              "  }\n",
              "</style>\n",
              "\n",
              "  <script>\n",
              "    async function quickchart(key) {\n",
              "      const quickchartButtonEl =\n",
              "        document.querySelector('#' + key + ' button');\n",
              "      quickchartButtonEl.disabled = true;  // To prevent multiple clicks.\n",
              "      quickchartButtonEl.classList.add('colab-df-spinner');\n",
              "      try {\n",
              "        const charts = await google.colab.kernel.invokeFunction(\n",
              "            'suggestCharts', [key], {});\n",
              "      } catch (error) {\n",
              "        console.error('Error during call to suggestCharts:', error);\n",
              "      }\n",
              "      quickchartButtonEl.classList.remove('colab-df-spinner');\n",
              "      quickchartButtonEl.classList.add('colab-df-quickchart-complete');\n",
              "    }\n",
              "    (() => {\n",
              "      let quickchartButtonEl =\n",
              "        document.querySelector('#df-ce125308-92dd-449e-8901-c27132583c99 button');\n",
              "      quickchartButtonEl.style.display =\n",
              "        google.colab.kernel.accessAllowed ? 'block' : 'none';\n",
              "    })();\n",
              "  </script>\n",
              "</div>\n",
              "\n",
              "    </div>\n",
              "  </div>\n"
            ],
            "application/vnd.google.colaboratory.intrinsic+json": {
              "type": "dataframe",
              "variable_name": "metadata",
              "summary": "{\n  \"name\": \"metadata\",\n  \"rows\": 18641,\n  \"fields\": [\n    {\n      \"column\": \"id\",\n      \"properties\": {\n        \"dtype\": \"string\",\n        \"num_unique_values\": 18641,\n        \"samples\": [\n          \"4vnCOTT3hRLXWogSFfFd1j\",\n          \"0SA1RVvy3x161K2PcW2CSO\",\n          \"4vgTAdLit4VNnxZ7YK06NW\"\n        ],\n        \"semantic_type\": \"\",\n        \"description\": \"\"\n      }\n    },\n    {\n      \"column\": \"name\",\n      \"properties\": {\n        \"dtype\": \"string\",\n        \"num_unique_values\": 16409,\n        \"samples\": [\n          \"Y'all Come Back Saloon\",\n          \"Presidentes Muertos\",\n          \"Dance Now (feat. Kenny Mason)\"\n        ],\n        \"semantic_type\": \"\",\n        \"description\": \"\"\n      }\n    },\n    {\n      \"column\": \"artists\",\n      \"properties\": {\n        \"dtype\": \"category\",\n        \"num_unique_values\": 7928,\n        \"samples\": [\n          \"Jazmin Ghent\",\n          \"Koyo\",\n          \"Austin Bohannon\"\n        ],\n        \"semantic_type\": \"\",\n        \"description\": \"\"\n      }\n    },\n    {\n      \"column\": \"release_date\",\n      \"properties\": {\n        \"dtype\": \"category\",\n        \"num_unique_values\": 4383,\n        \"samples\": [\n          \"2024-11-17\",\n          \"2005-08-16\",\n          \"2014-07-18\"\n        ],\n        \"semantic_type\": \"\",\n        \"description\": \"\"\n      }\n    },\n    {\n      \"column\": \"popularity\",\n      \"properties\": {\n        \"dtype\": \"number\",\n        \"std\": 26,\n        \"min\": 0,\n        \"max\": 100,\n        \"num_unique_values\": 97,\n        \"samples\": [\n          59,\n          36,\n          5\n        ],\n        \"semantic_type\": \"\",\n        \"description\": \"\"\n      }\n    },\n    {\n      \"column\": \"duration_ms\",\n      \"properties\": {\n        \"dtype\": \"number\",\n        \"std\": 71641,\n        \"min\": 31010,\n        \"max\": 3367814,\n        \"num_unique_values\": 14282,\n        \"samples\": [\n          266616,\n          136680,\n          186989\n        ],\n        \"semantic_type\": \"\",\n        \"description\": \"\"\n      }\n    },\n    {\n      \"column\": \"genres\",\n      \"properties\": {\n        \"dtype\": \"category\",\n        \"num_unique_values\": 2630,\n        \"samples\": [\n          \"basshall, pop urbaine, r&b francais\",\n          \"surf music\",\n          \"indie pop rap, oakland hip hop, pop rap, rap\"\n        ],\n        \"semantic_type\": \"\",\n        \"description\": \"\"\n      }\n    },\n    {\n      \"column\": \"danceability\",\n      \"properties\": {\n        \"dtype\": \"number\",\n        \"std\": 0.14681847662679487,\n        \"min\": 0.0607,\n        \"max\": 0.992,\n        \"num_unique_values\": 830,\n        \"samples\": [\n          0.433,\n          0.495,\n          0.781\n        ],\n        \"semantic_type\": \"\",\n        \"description\": \"\"\n      }\n    },\n    {\n      \"column\": \"energy\",\n      \"properties\": {\n        \"dtype\": \"number\",\n        \"std\": 0.19678999557314827,\n        \"min\": 0.000172,\n        \"max\": 0.999,\n        \"num_unique_values\": 1061,\n        \"samples\": [\n          0.754,\n          0.888,\n          0.897\n        ],\n        \"semantic_type\": \"\",\n        \"description\": \"\"\n      }\n    },\n    {\n      \"column\": \"key\",\n      \"properties\": {\n        \"dtype\": \"number\",\n        \"std\": 3,\n        \"min\": 0,\n        \"max\": 11,\n        \"num_unique_values\": 12,\n        \"samples\": [\n          7,\n          11,\n          8\n        ],\n        \"semantic_type\": \"\",\n        \"description\": \"\"\n      }\n    },\n    {\n      \"column\": \"loudness\",\n      \"properties\": {\n        \"dtype\": \"number\",\n        \"std\": 3.601331300705966,\n        \"min\": -43.284,\n        \"max\": 3.094,\n        \"num_unique_values\": 9122,\n        \"samples\": [\n          -8.379,\n          -8.116,\n          -10.028\n        ],\n        \"semantic_type\": \"\",\n        \"description\": \"\"\n      }\n    },\n    {\n      \"column\": \"mode\",\n      \"properties\": {\n        \"dtype\": \"number\",\n        \"std\": 0,\n        \"min\": 0,\n        \"max\": 1,\n        \"num_unique_values\": 2,\n        \"samples\": [\n          0,\n          1\n        ],\n        \"semantic_type\": \"\",\n        \"description\": \"\"\n      }\n    },\n    {\n      \"column\": \"speechiness\",\n      \"properties\": {\n        \"dtype\": \"number\",\n        \"std\": 0.07687366087638882,\n        \"min\": 0.0224,\n        \"max\": 0.736,\n        \"num_unique_values\": 1175,\n        \"samples\": [\n          0.0355,\n          0.119\n        ],\n        \"semantic_type\": \"\",\n        \"description\": \"\"\n      }\n    },\n    {\n      \"column\": \"acousticness\",\n      \"properties\": {\n        \"dtype\": \"number\",\n        \"std\": 0.2647402447716213,\n        \"min\": 1.01e-06,\n        \"max\": 0.996,\n        \"num_unique_values\": 3260,\n        \"samples\": [\n          0.641,\n          0.968\n        ],\n        \"semantic_type\": \"\",\n        \"description\": \"\"\n      }\n    },\n    {\n      \"column\": \"instrumentalness\",\n      \"properties\": {\n        \"dtype\": \"number\",\n        \"std\": 0.27936824920004605,\n        \"min\": 0.0,\n        \"max\": 0.985,\n        \"num_unique_values\": 4232,\n        \"samples\": [\n          0.000912,\n          0.703\n        ],\n        \"semantic_type\": \"\",\n        \"description\": \"\"\n      }\n    },\n    {\n      \"column\": \"liveness\",\n      \"properties\": {\n        \"dtype\": \"number\",\n        \"std\": 0.15064506607039382,\n        \"min\": 0.00838,\n        \"max\": 0.998,\n        \"num_unique_values\": 1510,\n        \"samples\": [\n          0.543,\n          0.403\n        ],\n        \"semantic_type\": \"\",\n        \"description\": \"\"\n      }\n    },\n    {\n      \"column\": \"valence\",\n      \"properties\": {\n        \"dtype\": \"number\",\n        \"std\": 0.2381050025509612,\n        \"min\": 0.0299,\n        \"max\": 0.986,\n        \"num_unique_values\": 1188,\n        \"samples\": [\n          0.27,\n          0.0906\n        ],\n        \"semantic_type\": \"\",\n        \"description\": \"\"\n      }\n    },\n    {\n      \"column\": \"tempo\",\n      \"properties\": {\n        \"dtype\": \"number\",\n        \"std\": 29.701950483654393,\n        \"min\": 31.967,\n        \"max\": 219.94,\n        \"num_unique_values\": 14295,\n        \"samples\": [\n          129.491,\n          159.857\n        ],\n        \"semantic_type\": \"\",\n        \"description\": \"\"\n      }\n    }\n  ]\n}"
            }
          },
          "metadata": {},
          "execution_count": 40
        }
      ]
    },
    {
      "cell_type": "markdown",
      "source": [
        "### **Creating the Training Data**\n",
        "\n",
        "The process for constructing the training data involves the following steps:\n",
        "\n",
        "1. **Label Positive Examples (label=1)**:\n",
        " * Every track associated with an owner is labeled as 1, as we assume these tracks are liked by the user. This assumption is based on the tracks originating from the user’s playlists.\n",
        "2. **Fabricating Negative Examples (label=0)**:\n",
        " * To create balanced data, we generate negative examples by assuming that users who listen to one genre are unlikely to like another, contrasting genre. For instance:\n",
        "    * A user who listens to Pop may not listen to Rock.\n",
        " * To implement this, we construct a counter_genre_mapping to define opposing genres. Tracks from these counter-genres are labeled as 0 to represent disliked tracks.\n",
        "3. **Data Fabrication and Assumptions**:\n",
        " * Since we cannot know exactly which tracks users dislike, we fabricate data based on our assumptions. This ensures we have sufficient data to train our model effectively, even if it doesn’t perfectly reflect real-world scenarios.\n",
        "4. **Preparing Data for the Model**:\n",
        " * Once the data is labeled, we will manipulate and preprocess it to ensure it aligns with our goal: training a user preference model.\n",
        " * Further details about this process will be explained in the subsequent cells."
      ],
      "metadata": {
        "id": "sYOkjOYe8_x0"
      }
    },
    {
      "cell_type": "code",
      "source": [
        "owners_with_metadata = owners_tracks.merge(metadata, left_on='track', right_on='id', how='inner')\n",
        "\n",
        "owners_with_metadata['label'] = 1\n",
        "\n",
        "print(owners_with_metadata.head())"
      ],
      "metadata": {
        "id": "xqRupkzzMRVq",
        "colab": {
          "base_uri": "https://localhost:8080/"
        },
        "outputId": "ab0149af-ed01-4568-d335-114bcdd03077"
      },
      "execution_count": null,
      "outputs": [
        {
          "output_type": "stream",
          "name": "stdout",
          "text": [
            "  owner_id genre                   track                      id  \\\n",
            "0  biels09   Pop  0CraBBTipNqDatEHNcvb3j  0CraBBTipNqDatEHNcvb3j   \n",
            "1  biels09   Pop  7qvsl2pYzrsYgPeFBN5jxp  7qvsl2pYzrsYgPeFBN5jxp   \n",
            "2  biels09   Pop  1BxfuPKGuaTgP7aM0Bbdwr  1BxfuPKGuaTgP7aM0Bbdwr   \n",
            "3  biels09   Pop  4mDLApzbhjNSutiW2EOakg  4mDLApzbhjNSutiW2EOakg   \n",
            "4  biels09   Pop  3DmW6y7wTEYHJZlLo1r6XJ  3DmW6y7wTEYHJZlLo1r6XJ   \n",
            "\n",
            "                name         artists release_date  popularity  duration_ms  \\\n",
            "0         Small Talk      Isla-Maria   2024-10-25          33       156375   \n",
            "1              Juicy  Doja Cat, Tyga   2019-08-15          42       202333   \n",
            "2       Cruel Summer    Taylor Swift   2019-08-23          89       178426   \n",
            "3  How I Look On You   Ariana Grande   2019-11-01          51       174426   \n",
            "4             Shower         Becky G   2014-04-23          75       206166   \n",
            "\n",
            "                                              genres  ...  key  loudness  \\\n",
            "0                                                NaN  ...    8    -7.632   \n",
            "1                                     dance pop, pop  ...    0    -2.610   \n",
            "2                                                pop  ...    9    -5.707   \n",
            "3                                                pop  ...    4    -7.330   \n",
            "4  latin pop, latin viral pop, rap latina, reggae...  ...    2    -7.548   \n",
            "\n",
            "   mode  speechiness  acousticness  instrumentalness  liveness  valence  \\\n",
            "0     1       0.0427        0.4430          0.000000    0.2550    0.641   \n",
            "1     1       0.0661        0.0856          0.000000    0.0689    0.458   \n",
            "2     1       0.1570        0.1170          0.000021    0.1050    0.564   \n",
            "3     0       0.2010        0.2000          0.000199    0.0878    0.411   \n",
            "4     1       0.0487        0.0317          0.000036    0.2850    0.121   \n",
            "\n",
            "     tempo  label  \n",
            "0  119.957      1  \n",
            "1  170.037      1  \n",
            "2  169.994      1  \n",
            "3  169.758      1  \n",
            "4  119.987      1  \n",
            "\n",
            "[5 rows x 22 columns]\n"
          ]
        }
      ]
    },
    {
      "cell_type": "markdown",
      "source": [
        "The `all_genres` list defines the genres under consideration for building the training dataset. These genres represent the different musical categories used to group tracks and associate user preferences.\n",
        "\n",
        "The `counter_genre_mapping` dictionary specifies the assumed contrasting genres for each genre in all_genres. This mapping is used to fabricate negative examples `(label=0)` for training data by assigning counter-genres as disliked tracks."
      ],
      "metadata": {
        "id": "3efz8s1myFEf"
      }
    },
    {
      "cell_type": "code",
      "source": [
        "all_genres = ['Pop', 'Rock', 'Hip hop', 'EDM', 'Country', 'Jazz', 'Latin', 'Indie']\n",
        "\n",
        "counter_genre_mapping = {\n",
        "    'Pop': 'Rock',\n",
        "    'Rock': 'Latin',\n",
        "    'Hip hop': 'Pop',\n",
        "    'EDM': 'Country',\n",
        "    'Country': 'Hip hop',\n",
        "    'Jazz': 'EDM',\n",
        "    'Latin': 'Indie',\n",
        "    'Indie': 'Jazz'\n",
        "}"
      ],
      "metadata": {
        "id": "ntoQy875ZQqR"
      },
      "execution_count": null,
      "outputs": []
    },
    {
      "cell_type": "markdown",
      "source": [
        "Helper Functions"
      ],
      "metadata": {
        "id": "DCBv9DUE_suW"
      }
    },
    {
      "cell_type": "code",
      "source": [
        "def contains(liked_genres, search_term):\n",
        "    return any(search_term.lower() in genre.lower() for genre in liked_genres)"
      ],
      "metadata": {
        "id": "WyKvWnchi--J"
      },
      "execution_count": null,
      "outputs": []
    },
    {
      "cell_type": "code",
      "source": [
        "def check_for_substring_match(liked_genres, counter_genres):\n",
        "    # Check if any genre in liked_genres contains any of the counter_genres\n",
        "    for liked in liked_genres:\n",
        "        for counter in counter_genres:\n",
        "            if counter.lower() in liked.lower() or liked.lower() in counter.lower():\n",
        "                return True\n",
        "    return False"
      ],
      "metadata": {
        "id": "NQaxOTk1k4ro"
      },
      "execution_count": null,
      "outputs": []
    },
    {
      "cell_type": "markdown",
      "source": [
        "The `append_negative_labels_with_counter_genre` function fabricates negative examples for the training data by leveraging the concept of counter-genres. It assumes that users who like one genre are less likely to like tracks from its counter-genre.\n",
        "\n",
        "Key Features:\n",
        "1. Group by User:\n",
        " * Processes each user’s data individually to identify tracks they like (label=1).\n",
        "2. Counter-Genre Mapping:\n",
        " * Uses the counter_genre_mapping to define genres that are unlikely to be liked by users who prefer a specific genre (e.g., users who like Pop are assumed not to like Rock).\n",
        "3. Negative Labels (label=0):\n",
        " * Tracks from counter-genres are added to the dataset with a label=0, representing fabricated disliked tracks.\n",
        "4. Balanced Data:\n",
        " * Ensures the dataset has both positive and negative labels for each user, enabling effective training of the model."
      ],
      "metadata": {
        "id": "eunWPl5r_4wF"
      }
    },
    {
      "cell_type": "code",
      "source": [
        "def append_negative_labels_with_counter_genre(data):\n",
        "    new_rows = []  # To store rows with `label = 0`\n",
        "\n",
        "    # Group by owner_id\n",
        "    for owner_id, group in tqdm(data.groupby('owner_id'), desc=\"Processing owners\", unit=\"owner\"):\n",
        "        # Get genres of tracks the owner likes (label = 1)\n",
        "        liked_tracks = group[group['label'] == 1]\n",
        "        length = len(liked_tracks)\n",
        "        liked_genre = group['genre'].iloc[0]\n",
        "\n",
        "        counter_genre = counter_genre_mapping.get(liked_genre)\n",
        "\n",
        "        # Identify tracks the owner is not connected with\n",
        "        unconnected_tracks = data[data['owner_id'] != owner_id]\n",
        "        i=0\n",
        "        for _, row in unconnected_tracks.iterrows():\n",
        "                track_genre = row['genre']\n",
        "                # Check if the track belongs to a counter-genre and doesn't overlap with liked genres\n",
        "                if counter_genre == track_genre:\n",
        "                      i+=1\n",
        "                      if length < i:\n",
        "                            continue\n",
        "                      new_row = row.copy()\n",
        "                      new_row['label'] = 0\n",
        "                      new_rows.append(new_row)\n",
        "\n",
        "    # Append the new rows with label = 0\n",
        "    data = pd.concat([data, pd.DataFrame(new_rows)], ignore_index=True)\n",
        "    return data"
      ],
      "metadata": {
        "id": "XRvjeeEiMRSa"
      },
      "execution_count": null,
      "outputs": []
    },
    {
      "cell_type": "code",
      "source": [
        "owners_with_metadata_and_labels = owners_with_metadata"
      ],
      "metadata": {
        "id": "z1S6OX_SMRQB"
      },
      "execution_count": null,
      "outputs": []
    },
    {
      "cell_type": "code",
      "source": [
        "owners_with_metadata_and_labels = append_negative_labels_with_counter_genre(owners_with_metadata)"
      ],
      "metadata": {
        "colab": {
          "base_uri": "https://localhost:8080/"
        },
        "id": "kkmfkg8FXjzB",
        "outputId": "de1aabae-5013-4b72-a3bf-9551e7deb0f5"
      },
      "execution_count": null,
      "outputs": [
        {
          "output_type": "stream",
          "name": "stderr",
          "text": [
            "Processing owners: 100%|██████████| 74/74 [01:35<00:00,  1.29s/owner]\n"
          ]
        }
      ]
    },
    {
      "cell_type": "code",
      "source": [
        "label_1_count = len(owners_with_metadata_and_labels[owners_with_metadata_and_labels['label'] == 1])\n",
        "print('The total quantity of liked songs (label 1) is: ' + str(label_1_count))"
      ],
      "metadata": {
        "colab": {
          "base_uri": "https://localhost:8080/"
        },
        "id": "2t4s4SLpXjv6",
        "outputId": "278c0ed2-8585-4846-ed8c-cde5fb3f7721"
      },
      "execution_count": null,
      "outputs": [
        {
          "output_type": "stream",
          "name": "stdout",
          "text": [
            "The total quantity of liked songs (label 1) is: 22157\n"
          ]
        }
      ]
    },
    {
      "cell_type": "code",
      "source": [
        "label_0_count = len(owners_with_metadata_and_labels[owners_with_metadata_and_labels['label'] == 0])\n",
        "print('The total quantity of disliked songs (label 0) is: ' + str(label_0_count))"
      ],
      "metadata": {
        "colab": {
          "base_uri": "https://localhost:8080/"
        },
        "id": "uTdHlI50XjtJ",
        "outputId": "d9695068-c79b-4a3f-b44b-7e1e3a0ab983"
      },
      "execution_count": null,
      "outputs": [
        {
          "output_type": "stream",
          "name": "stdout",
          "text": [
            "The total quantity of disliked songs (label 0) is: 20068\n"
          ]
        }
      ]
    },
    {
      "cell_type": "markdown",
      "source": [
        "Now we have a balanced dataset we can work with."
      ],
      "metadata": {
        "id": "DEhntqNHFfMr"
      }
    },
    {
      "cell_type": "code",
      "source": [
        "training_data = owners_with_metadata_and_labels"
      ],
      "metadata": {
        "id": "xFz2Ixhi4Yxv"
      },
      "execution_count": null,
      "outputs": []
    },
    {
      "cell_type": "code",
      "source": [
        "training_data_filename = \"Training_Data.csv\""
      ],
      "metadata": {
        "id": "BfRK48IS49f2"
      },
      "execution_count": null,
      "outputs": []
    },
    {
      "cell_type": "code",
      "source": [
        "# write_to_csv(training_data, training_data_filename)\n",
        "training_data.to_csv(training_data_filename, index=False)"
      ],
      "metadata": {
        "id": "QqDtvvoX40iW"
      },
      "execution_count": null,
      "outputs": []
    },
    {
      "cell_type": "code",
      "source": [
        "training_data = load_data(training_data_filename)"
      ],
      "metadata": {
        "id": "PyK0axrR5ZUW"
      },
      "execution_count": null,
      "outputs": []
    },
    {
      "cell_type": "code",
      "source": [
        "training_data.head()"
      ],
      "metadata": {
        "colab": {
          "base_uri": "https://localhost:8080/",
          "height": 446
        },
        "id": "Hrz9hX5u5XhC",
        "outputId": "fbaf2d3d-02f1-455e-c374-5c1ddbbe6380"
      },
      "execution_count": null,
      "outputs": [
        {
          "output_type": "execute_result",
          "data": {
            "text/plain": [
              "  owner_id genre                   track                      id  \\\n",
              "0  biels09   Pop  0CraBBTipNqDatEHNcvb3j  0CraBBTipNqDatEHNcvb3j   \n",
              "1  biels09   Pop  7qvsl2pYzrsYgPeFBN5jxp  7qvsl2pYzrsYgPeFBN5jxp   \n",
              "2  biels09   Pop  1BxfuPKGuaTgP7aM0Bbdwr  1BxfuPKGuaTgP7aM0Bbdwr   \n",
              "3  biels09   Pop  4mDLApzbhjNSutiW2EOakg  4mDLApzbhjNSutiW2EOakg   \n",
              "4  biels09   Pop  3DmW6y7wTEYHJZlLo1r6XJ  3DmW6y7wTEYHJZlLo1r6XJ   \n",
              "\n",
              "                name         artists release_date  popularity  duration_ms  \\\n",
              "0         Small Talk      Isla-Maria   2024-10-25          33       156375   \n",
              "1              Juicy  Doja Cat, Tyga   2019-08-15          42       202333   \n",
              "2       Cruel Summer    Taylor Swift   2019-08-23          89       178426   \n",
              "3  How I Look On You   Ariana Grande   2019-11-01          51       174426   \n",
              "4             Shower         Becky G   2014-04-23          75       206166   \n",
              "\n",
              "                                              genres  ...  key  loudness  \\\n",
              "0                                                NaN  ...    8    -7.632   \n",
              "1                                     dance pop, pop  ...    0    -2.610   \n",
              "2                                                pop  ...    9    -5.707   \n",
              "3                                                pop  ...    4    -7.330   \n",
              "4  latin pop, latin viral pop, rap latina, reggae...  ...    2    -7.548   \n",
              "\n",
              "   mode  speechiness  acousticness  instrumentalness  liveness  valence  \\\n",
              "0     1       0.0427        0.4430          0.000000    0.2550    0.641   \n",
              "1     1       0.0661        0.0856          0.000000    0.0689    0.458   \n",
              "2     1       0.1570        0.1170          0.000021    0.1050    0.564   \n",
              "3     0       0.2010        0.2000          0.000199    0.0878    0.411   \n",
              "4     1       0.0487        0.0317          0.000036    0.2850    0.121   \n",
              "\n",
              "     tempo  label  \n",
              "0  119.957      1  \n",
              "1  170.037      1  \n",
              "2  169.994      1  \n",
              "3  169.758      1  \n",
              "4  119.987      1  \n",
              "\n",
              "[5 rows x 22 columns]"
            ],
            "text/html": [
              "\n",
              "  <div id=\"df-761db5a7-aab9-45bc-b138-8c1ef2aefdf5\" class=\"colab-df-container\">\n",
              "    <div>\n",
              "<style scoped>\n",
              "    .dataframe tbody tr th:only-of-type {\n",
              "        vertical-align: middle;\n",
              "    }\n",
              "\n",
              "    .dataframe tbody tr th {\n",
              "        vertical-align: top;\n",
              "    }\n",
              "\n",
              "    .dataframe thead th {\n",
              "        text-align: right;\n",
              "    }\n",
              "</style>\n",
              "<table border=\"1\" class=\"dataframe\">\n",
              "  <thead>\n",
              "    <tr style=\"text-align: right;\">\n",
              "      <th></th>\n",
              "      <th>owner_id</th>\n",
              "      <th>genre</th>\n",
              "      <th>track</th>\n",
              "      <th>id</th>\n",
              "      <th>name</th>\n",
              "      <th>artists</th>\n",
              "      <th>release_date</th>\n",
              "      <th>popularity</th>\n",
              "      <th>duration_ms</th>\n",
              "      <th>genres</th>\n",
              "      <th>...</th>\n",
              "      <th>key</th>\n",
              "      <th>loudness</th>\n",
              "      <th>mode</th>\n",
              "      <th>speechiness</th>\n",
              "      <th>acousticness</th>\n",
              "      <th>instrumentalness</th>\n",
              "      <th>liveness</th>\n",
              "      <th>valence</th>\n",
              "      <th>tempo</th>\n",
              "      <th>label</th>\n",
              "    </tr>\n",
              "  </thead>\n",
              "  <tbody>\n",
              "    <tr>\n",
              "      <th>0</th>\n",
              "      <td>biels09</td>\n",
              "      <td>Pop</td>\n",
              "      <td>0CraBBTipNqDatEHNcvb3j</td>\n",
              "      <td>0CraBBTipNqDatEHNcvb3j</td>\n",
              "      <td>Small Talk</td>\n",
              "      <td>Isla-Maria</td>\n",
              "      <td>2024-10-25</td>\n",
              "      <td>33</td>\n",
              "      <td>156375</td>\n",
              "      <td>NaN</td>\n",
              "      <td>...</td>\n",
              "      <td>8</td>\n",
              "      <td>-7.632</td>\n",
              "      <td>1</td>\n",
              "      <td>0.0427</td>\n",
              "      <td>0.4430</td>\n",
              "      <td>0.000000</td>\n",
              "      <td>0.2550</td>\n",
              "      <td>0.641</td>\n",
              "      <td>119.957</td>\n",
              "      <td>1</td>\n",
              "    </tr>\n",
              "    <tr>\n",
              "      <th>1</th>\n",
              "      <td>biels09</td>\n",
              "      <td>Pop</td>\n",
              "      <td>7qvsl2pYzrsYgPeFBN5jxp</td>\n",
              "      <td>7qvsl2pYzrsYgPeFBN5jxp</td>\n",
              "      <td>Juicy</td>\n",
              "      <td>Doja Cat, Tyga</td>\n",
              "      <td>2019-08-15</td>\n",
              "      <td>42</td>\n",
              "      <td>202333</td>\n",
              "      <td>dance pop, pop</td>\n",
              "      <td>...</td>\n",
              "      <td>0</td>\n",
              "      <td>-2.610</td>\n",
              "      <td>1</td>\n",
              "      <td>0.0661</td>\n",
              "      <td>0.0856</td>\n",
              "      <td>0.000000</td>\n",
              "      <td>0.0689</td>\n",
              "      <td>0.458</td>\n",
              "      <td>170.037</td>\n",
              "      <td>1</td>\n",
              "    </tr>\n",
              "    <tr>\n",
              "      <th>2</th>\n",
              "      <td>biels09</td>\n",
              "      <td>Pop</td>\n",
              "      <td>1BxfuPKGuaTgP7aM0Bbdwr</td>\n",
              "      <td>1BxfuPKGuaTgP7aM0Bbdwr</td>\n",
              "      <td>Cruel Summer</td>\n",
              "      <td>Taylor Swift</td>\n",
              "      <td>2019-08-23</td>\n",
              "      <td>89</td>\n",
              "      <td>178426</td>\n",
              "      <td>pop</td>\n",
              "      <td>...</td>\n",
              "      <td>9</td>\n",
              "      <td>-5.707</td>\n",
              "      <td>1</td>\n",
              "      <td>0.1570</td>\n",
              "      <td>0.1170</td>\n",
              "      <td>0.000021</td>\n",
              "      <td>0.1050</td>\n",
              "      <td>0.564</td>\n",
              "      <td>169.994</td>\n",
              "      <td>1</td>\n",
              "    </tr>\n",
              "    <tr>\n",
              "      <th>3</th>\n",
              "      <td>biels09</td>\n",
              "      <td>Pop</td>\n",
              "      <td>4mDLApzbhjNSutiW2EOakg</td>\n",
              "      <td>4mDLApzbhjNSutiW2EOakg</td>\n",
              "      <td>How I Look On You</td>\n",
              "      <td>Ariana Grande</td>\n",
              "      <td>2019-11-01</td>\n",
              "      <td>51</td>\n",
              "      <td>174426</td>\n",
              "      <td>pop</td>\n",
              "      <td>...</td>\n",
              "      <td>4</td>\n",
              "      <td>-7.330</td>\n",
              "      <td>0</td>\n",
              "      <td>0.2010</td>\n",
              "      <td>0.2000</td>\n",
              "      <td>0.000199</td>\n",
              "      <td>0.0878</td>\n",
              "      <td>0.411</td>\n",
              "      <td>169.758</td>\n",
              "      <td>1</td>\n",
              "    </tr>\n",
              "    <tr>\n",
              "      <th>4</th>\n",
              "      <td>biels09</td>\n",
              "      <td>Pop</td>\n",
              "      <td>3DmW6y7wTEYHJZlLo1r6XJ</td>\n",
              "      <td>3DmW6y7wTEYHJZlLo1r6XJ</td>\n",
              "      <td>Shower</td>\n",
              "      <td>Becky G</td>\n",
              "      <td>2014-04-23</td>\n",
              "      <td>75</td>\n",
              "      <td>206166</td>\n",
              "      <td>latin pop, latin viral pop, rap latina, reggae...</td>\n",
              "      <td>...</td>\n",
              "      <td>2</td>\n",
              "      <td>-7.548</td>\n",
              "      <td>1</td>\n",
              "      <td>0.0487</td>\n",
              "      <td>0.0317</td>\n",
              "      <td>0.000036</td>\n",
              "      <td>0.2850</td>\n",
              "      <td>0.121</td>\n",
              "      <td>119.987</td>\n",
              "      <td>1</td>\n",
              "    </tr>\n",
              "  </tbody>\n",
              "</table>\n",
              "<p>5 rows × 22 columns</p>\n",
              "</div>\n",
              "    <div class=\"colab-df-buttons\">\n",
              "\n",
              "  <div class=\"colab-df-container\">\n",
              "    <button class=\"colab-df-convert\" onclick=\"convertToInteractive('df-761db5a7-aab9-45bc-b138-8c1ef2aefdf5')\"\n",
              "            title=\"Convert this dataframe to an interactive table.\"\n",
              "            style=\"display:none;\">\n",
              "\n",
              "  <svg xmlns=\"http://www.w3.org/2000/svg\" height=\"24px\" viewBox=\"0 -960 960 960\">\n",
              "    <path d=\"M120-120v-720h720v720H120Zm60-500h600v-160H180v160Zm220 220h160v-160H400v160Zm0 220h160v-160H400v160ZM180-400h160v-160H180v160Zm440 0h160v-160H620v160ZM180-180h160v-160H180v160Zm440 0h160v-160H620v160Z\"/>\n",
              "  </svg>\n",
              "    </button>\n",
              "\n",
              "  <style>\n",
              "    .colab-df-container {\n",
              "      display:flex;\n",
              "      gap: 12px;\n",
              "    }\n",
              "\n",
              "    .colab-df-convert {\n",
              "      background-color: #E8F0FE;\n",
              "      border: none;\n",
              "      border-radius: 50%;\n",
              "      cursor: pointer;\n",
              "      display: none;\n",
              "      fill: #1967D2;\n",
              "      height: 32px;\n",
              "      padding: 0 0 0 0;\n",
              "      width: 32px;\n",
              "    }\n",
              "\n",
              "    .colab-df-convert:hover {\n",
              "      background-color: #E2EBFA;\n",
              "      box-shadow: 0px 1px 2px rgba(60, 64, 67, 0.3), 0px 1px 3px 1px rgba(60, 64, 67, 0.15);\n",
              "      fill: #174EA6;\n",
              "    }\n",
              "\n",
              "    .colab-df-buttons div {\n",
              "      margin-bottom: 4px;\n",
              "    }\n",
              "\n",
              "    [theme=dark] .colab-df-convert {\n",
              "      background-color: #3B4455;\n",
              "      fill: #D2E3FC;\n",
              "    }\n",
              "\n",
              "    [theme=dark] .colab-df-convert:hover {\n",
              "      background-color: #434B5C;\n",
              "      box-shadow: 0px 1px 3px 1px rgba(0, 0, 0, 0.15);\n",
              "      filter: drop-shadow(0px 1px 2px rgba(0, 0, 0, 0.3));\n",
              "      fill: #FFFFFF;\n",
              "    }\n",
              "  </style>\n",
              "\n",
              "    <script>\n",
              "      const buttonEl =\n",
              "        document.querySelector('#df-761db5a7-aab9-45bc-b138-8c1ef2aefdf5 button.colab-df-convert');\n",
              "      buttonEl.style.display =\n",
              "        google.colab.kernel.accessAllowed ? 'block' : 'none';\n",
              "\n",
              "      async function convertToInteractive(key) {\n",
              "        const element = document.querySelector('#df-761db5a7-aab9-45bc-b138-8c1ef2aefdf5');\n",
              "        const dataTable =\n",
              "          await google.colab.kernel.invokeFunction('convertToInteractive',\n",
              "                                                    [key], {});\n",
              "        if (!dataTable) return;\n",
              "\n",
              "        const docLinkHtml = 'Like what you see? Visit the ' +\n",
              "          '<a target=\"_blank\" href=https://colab.research.google.com/notebooks/data_table.ipynb>data table notebook</a>'\n",
              "          + ' to learn more about interactive tables.';\n",
              "        element.innerHTML = '';\n",
              "        dataTable['output_type'] = 'display_data';\n",
              "        await google.colab.output.renderOutput(dataTable, element);\n",
              "        const docLink = document.createElement('div');\n",
              "        docLink.innerHTML = docLinkHtml;\n",
              "        element.appendChild(docLink);\n",
              "      }\n",
              "    </script>\n",
              "  </div>\n",
              "\n",
              "\n",
              "<div id=\"df-e44c99d1-6c5b-4cea-9ef1-9ea0a033f68d\">\n",
              "  <button class=\"colab-df-quickchart\" onclick=\"quickchart('df-e44c99d1-6c5b-4cea-9ef1-9ea0a033f68d')\"\n",
              "            title=\"Suggest charts\"\n",
              "            style=\"display:none;\">\n",
              "\n",
              "<svg xmlns=\"http://www.w3.org/2000/svg\" height=\"24px\"viewBox=\"0 0 24 24\"\n",
              "     width=\"24px\">\n",
              "    <g>\n",
              "        <path d=\"M19 3H5c-1.1 0-2 .9-2 2v14c0 1.1.9 2 2 2h14c1.1 0 2-.9 2-2V5c0-1.1-.9-2-2-2zM9 17H7v-7h2v7zm4 0h-2V7h2v10zm4 0h-2v-4h2v4z\"/>\n",
              "    </g>\n",
              "</svg>\n",
              "  </button>\n",
              "\n",
              "<style>\n",
              "  .colab-df-quickchart {\n",
              "      --bg-color: #E8F0FE;\n",
              "      --fill-color: #1967D2;\n",
              "      --hover-bg-color: #E2EBFA;\n",
              "      --hover-fill-color: #174EA6;\n",
              "      --disabled-fill-color: #AAA;\n",
              "      --disabled-bg-color: #DDD;\n",
              "  }\n",
              "\n",
              "  [theme=dark] .colab-df-quickchart {\n",
              "      --bg-color: #3B4455;\n",
              "      --fill-color: #D2E3FC;\n",
              "      --hover-bg-color: #434B5C;\n",
              "      --hover-fill-color: #FFFFFF;\n",
              "      --disabled-bg-color: #3B4455;\n",
              "      --disabled-fill-color: #666;\n",
              "  }\n",
              "\n",
              "  .colab-df-quickchart {\n",
              "    background-color: var(--bg-color);\n",
              "    border: none;\n",
              "    border-radius: 50%;\n",
              "    cursor: pointer;\n",
              "    display: none;\n",
              "    fill: var(--fill-color);\n",
              "    height: 32px;\n",
              "    padding: 0;\n",
              "    width: 32px;\n",
              "  }\n",
              "\n",
              "  .colab-df-quickchart:hover {\n",
              "    background-color: var(--hover-bg-color);\n",
              "    box-shadow: 0 1px 2px rgba(60, 64, 67, 0.3), 0 1px 3px 1px rgba(60, 64, 67, 0.15);\n",
              "    fill: var(--button-hover-fill-color);\n",
              "  }\n",
              "\n",
              "  .colab-df-quickchart-complete:disabled,\n",
              "  .colab-df-quickchart-complete:disabled:hover {\n",
              "    background-color: var(--disabled-bg-color);\n",
              "    fill: var(--disabled-fill-color);\n",
              "    box-shadow: none;\n",
              "  }\n",
              "\n",
              "  .colab-df-spinner {\n",
              "    border: 2px solid var(--fill-color);\n",
              "    border-color: transparent;\n",
              "    border-bottom-color: var(--fill-color);\n",
              "    animation:\n",
              "      spin 1s steps(1) infinite;\n",
              "  }\n",
              "\n",
              "  @keyframes spin {\n",
              "    0% {\n",
              "      border-color: transparent;\n",
              "      border-bottom-color: var(--fill-color);\n",
              "      border-left-color: var(--fill-color);\n",
              "    }\n",
              "    20% {\n",
              "      border-color: transparent;\n",
              "      border-left-color: var(--fill-color);\n",
              "      border-top-color: var(--fill-color);\n",
              "    }\n",
              "    30% {\n",
              "      border-color: transparent;\n",
              "      border-left-color: var(--fill-color);\n",
              "      border-top-color: var(--fill-color);\n",
              "      border-right-color: var(--fill-color);\n",
              "    }\n",
              "    40% {\n",
              "      border-color: transparent;\n",
              "      border-right-color: var(--fill-color);\n",
              "      border-top-color: var(--fill-color);\n",
              "    }\n",
              "    60% {\n",
              "      border-color: transparent;\n",
              "      border-right-color: var(--fill-color);\n",
              "    }\n",
              "    80% {\n",
              "      border-color: transparent;\n",
              "      border-right-color: var(--fill-color);\n",
              "      border-bottom-color: var(--fill-color);\n",
              "    }\n",
              "    90% {\n",
              "      border-color: transparent;\n",
              "      border-bottom-color: var(--fill-color);\n",
              "    }\n",
              "  }\n",
              "</style>\n",
              "\n",
              "  <script>\n",
              "    async function quickchart(key) {\n",
              "      const quickchartButtonEl =\n",
              "        document.querySelector('#' + key + ' button');\n",
              "      quickchartButtonEl.disabled = true;  // To prevent multiple clicks.\n",
              "      quickchartButtonEl.classList.add('colab-df-spinner');\n",
              "      try {\n",
              "        const charts = await google.colab.kernel.invokeFunction(\n",
              "            'suggestCharts', [key], {});\n",
              "      } catch (error) {\n",
              "        console.error('Error during call to suggestCharts:', error);\n",
              "      }\n",
              "      quickchartButtonEl.classList.remove('colab-df-spinner');\n",
              "      quickchartButtonEl.classList.add('colab-df-quickchart-complete');\n",
              "    }\n",
              "    (() => {\n",
              "      let quickchartButtonEl =\n",
              "        document.querySelector('#df-e44c99d1-6c5b-4cea-9ef1-9ea0a033f68d button');\n",
              "      quickchartButtonEl.style.display =\n",
              "        google.colab.kernel.accessAllowed ? 'block' : 'none';\n",
              "    })();\n",
              "  </script>\n",
              "</div>\n",
              "\n",
              "    </div>\n",
              "  </div>\n"
            ],
            "application/vnd.google.colaboratory.intrinsic+json": {
              "type": "dataframe",
              "variable_name": "training_data"
            }
          },
          "metadata": {},
          "execution_count": 53
        }
      ]
    },
    {
      "cell_type": "markdown",
      "source": [
        "### **Creating User Preferences**\n",
        "\n",
        "The `create_user_preferences` function enriches the dataset by calculating user-specific preferences based on numerical features of liked and disliked tracks. It generates personalized metrics for each user, enabling the model to incorporate user-specific patterns in its predictions.\n",
        "\n",
        "Key Steps:\n",
        "1. Select Numerical Features:\n",
        "  * Identifies all numerical columns in the dataset (e.g., danceability, energy) except the label column, which represents the target variable.\n",
        "2. Aggregate Features for Liked and Disliked Tracks:\n",
        "  * Tracks with label=1 (liked) are aggregated to calculate average numerical feature values for each user.\n",
        "  * Similarly, tracks with label=0 (disliked) are aggregated to compute average feature values.\n",
        "3. Calculate User Preferences:\n",
        "  * For each numerical feature, the preference is calculated as the difference between the user's average liked and disliked values:\n",
        "\n",
        "    **`Preference = Avg. Liked Feature − Avg. Disliked Feature`**\n",
        "\n",
        "4. Merge Features into the Original Dataset:\n",
        "  * The calculated averages and preferences are merged back into the original dataset, enriching it with user-specific metrics.\n",
        "\n",
        "\n",
        "### **Why We Create User-Specific Features**\n",
        "1. Understanding User Behavior:\n",
        " * Every user has unique preferences for track characteristics, such as high energy, slower tempo, or high danceability. Calculating averages for liked (label=1) and disliked (label=0) tracks helps capture these tendencies.\n",
        "2. Model Personalization:\n",
        " * By adding user-specific features, the model can learn how a user's past preferences influence their likelihood of liking a track, allowing it to make predictions tailored to each user.\n",
        "\n",
        "### **Why We Take the Difference of Averages**\n",
        "1. Preference as a Distinguishing Factor:\n",
        " * The difference between the averages for liked and disliked tracks reflects the user's inclination or preference for specific characteristics. For instance:\n",
        "    * A user who likes tracks with high energy but dislikes tracks with low energy will have a strong positive preference for energy.\n",
        "    * Conversely, a user who dislikes high-energy tracks will show a negative preference.\n",
        "2. Capturing Trends Across Features:\n",
        " * Taking the difference highlights the contrast between liked and disliked tracks for each feature, enabling the model to focus on traits that are most meaningful for predicting user preferences.\n",
        "3. Simplifying Feature Interpretation:\n",
        " * The preference value (liked average - disliked average) creates a single, intuitive metric for each feature, reducing the complexity of the dataset and making it easier for the model to generalize.\n",
        "\n",
        "### **How This Helps the Model**\n",
        "1. Individualized Predictions:\n",
        " * The model learns user-specific patterns, enabling it to recommend tracks that align with a user's unique preferences.\n",
        "2. Focus on Distinguishing Features:\n",
        " * The preference score highlights the features that matter most for a user's preferences, improving the model's ability to make accurate predictions.\n",
        "3. Improved Generalization:\n",
        " * By reducing variability in individual tracks and focusing on aggregated user trends, the model is less likely to overfit to specific examples.\n",
        "\n",
        "This approach ensures that the training data is meaningful, balanced, and aligned with the goal of creating a personalized user preference model. Let me know if you’d like further clarifications or refinements!"
      ],
      "metadata": {
        "id": "pZ85rA-_7m-8"
      }
    },
    {
      "cell_type": "code",
      "source": [
        "def create_user_preferences(data):\n",
        "    # Identify numerical features to calculate averages for\n",
        "    numerical_features = data.select_dtypes(include=['number']).columns.tolist()\n",
        "    numerical_features.remove('label')  # Exclude the target label\n",
        "\n",
        "    # Split data into liked and disliked songs\n",
        "    liked = data[data['label'] == 1]\n",
        "    disliked = data[data['label'] == 0]\n",
        "\n",
        "    # Aggregate numerical features for liked songs\n",
        "    liked_features = liked.groupby('owner_id')[numerical_features].mean().add_prefix('user_avg_liked_')\n",
        "\n",
        "    # Aggregate numerical features for disliked songs\n",
        "    disliked_features = disliked.groupby('owner_id')[numerical_features].mean().add_prefix('user_avg_disliked_')\n",
        "\n",
        "    # Merge liked and disliked features\n",
        "    user_features = liked_features.merge(disliked_features, on='owner_id', how='outer').fillna(0)\n",
        "\n",
        "    # Calculate preference differences for each numerical feature\n",
        "    for feature in numerical_features:\n",
        "        liked_col = f'user_avg_liked_{feature}'\n",
        "        disliked_col = f'user_avg_disliked_{feature}'\n",
        "        user_features[f'user_preference_{feature}'] = user_features[liked_col] - user_features[disliked_col]\n",
        "\n",
        "    # Merge back to the original dataset\n",
        "    return data.merge(user_features, on='owner_id', how='left')\n"
      ],
      "metadata": {
        "id": "S_Iyfijo1Q3p"
      },
      "execution_count": null,
      "outputs": []
    },
    {
      "cell_type": "code",
      "source": [
        "user_preferences_training_data = create_user_preferences(training_data)"
      ],
      "metadata": {
        "id": "CnpUoZrn1Q0V"
      },
      "execution_count": null,
      "outputs": []
    },
    {
      "cell_type": "code",
      "source": [
        "user_preferences_training_data.head()"
      ],
      "metadata": {
        "colab": {
          "base_uri": "https://localhost:8080/",
          "height": 446
        },
        "id": "pGlAURYf1Qxd",
        "outputId": "3d136b73-9eac-4bda-bcf8-cd7ab78e4349"
      },
      "execution_count": null,
      "outputs": [
        {
          "output_type": "execute_result",
          "data": {
            "text/plain": [
              "  owner_id genre                   track                      id  \\\n",
              "0  biels09   Pop  0CraBBTipNqDatEHNcvb3j  0CraBBTipNqDatEHNcvb3j   \n",
              "1  biels09   Pop  7qvsl2pYzrsYgPeFBN5jxp  7qvsl2pYzrsYgPeFBN5jxp   \n",
              "2  biels09   Pop  1BxfuPKGuaTgP7aM0Bbdwr  1BxfuPKGuaTgP7aM0Bbdwr   \n",
              "3  biels09   Pop  4mDLApzbhjNSutiW2EOakg  4mDLApzbhjNSutiW2EOakg   \n",
              "4  biels09   Pop  3DmW6y7wTEYHJZlLo1r6XJ  3DmW6y7wTEYHJZlLo1r6XJ   \n",
              "\n",
              "                name         artists release_date  popularity  duration_ms  \\\n",
              "0         Small Talk      Isla-Maria   2024-10-25          33       156375   \n",
              "1              Juicy  Doja Cat, Tyga   2019-08-15          42       202333   \n",
              "2       Cruel Summer    Taylor Swift   2019-08-23          89       178426   \n",
              "3  How I Look On You   Ariana Grande   2019-11-01          51       174426   \n",
              "4             Shower         Becky G   2014-04-23          75       206166   \n",
              "\n",
              "                                              genres  ...  \\\n",
              "0                                                NaN  ...   \n",
              "1                                     dance pop, pop  ...   \n",
              "2                                                pop  ...   \n",
              "3                                                pop  ...   \n",
              "4  latin pop, latin viral pop, rap latina, reggae...  ...   \n",
              "\n",
              "   user_preference_energy  user_preference_key  user_preference_loudness  \\\n",
              "0               -0.000957             0.003111                 -0.017483   \n",
              "1               -0.000957             0.003111                 -0.017483   \n",
              "2               -0.000957             0.003111                 -0.017483   \n",
              "3               -0.000957             0.003111                 -0.017483   \n",
              "4               -0.000957             0.003111                 -0.017483   \n",
              "\n",
              "   user_preference_mode  user_preference_speechiness  \\\n",
              "0             -0.005408                     0.000932   \n",
              "1             -0.005408                     0.000932   \n",
              "2             -0.005408                     0.000932   \n",
              "3             -0.005408                     0.000932   \n",
              "4             -0.005408                     0.000932   \n",
              "\n",
              "   user_preference_acousticness  user_preference_instrumentalness  \\\n",
              "0                      0.002934                         -0.000044   \n",
              "1                      0.002934                         -0.000044   \n",
              "2                      0.002934                         -0.000044   \n",
              "3                      0.002934                         -0.000044   \n",
              "4                      0.002934                         -0.000044   \n",
              "\n",
              "   user_preference_liveness  user_preference_valence  user_preference_tempo  \n",
              "0                  0.000786                 0.001528               0.067059  \n",
              "1                  0.000786                 0.001528               0.067059  \n",
              "2                  0.000786                 0.001528               0.067059  \n",
              "3                  0.000786                 0.001528               0.067059  \n",
              "4                  0.000786                 0.001528               0.067059  \n",
              "\n",
              "[5 rows x 61 columns]"
            ],
            "text/html": [
              "\n",
              "  <div id=\"df-e2d4d691-814d-406f-a9f4-965bdeac89e8\" class=\"colab-df-container\">\n",
              "    <div>\n",
              "<style scoped>\n",
              "    .dataframe tbody tr th:only-of-type {\n",
              "        vertical-align: middle;\n",
              "    }\n",
              "\n",
              "    .dataframe tbody tr th {\n",
              "        vertical-align: top;\n",
              "    }\n",
              "\n",
              "    .dataframe thead th {\n",
              "        text-align: right;\n",
              "    }\n",
              "</style>\n",
              "<table border=\"1\" class=\"dataframe\">\n",
              "  <thead>\n",
              "    <tr style=\"text-align: right;\">\n",
              "      <th></th>\n",
              "      <th>owner_id</th>\n",
              "      <th>genre</th>\n",
              "      <th>track</th>\n",
              "      <th>id</th>\n",
              "      <th>name</th>\n",
              "      <th>artists</th>\n",
              "      <th>release_date</th>\n",
              "      <th>popularity</th>\n",
              "      <th>duration_ms</th>\n",
              "      <th>genres</th>\n",
              "      <th>...</th>\n",
              "      <th>user_preference_energy</th>\n",
              "      <th>user_preference_key</th>\n",
              "      <th>user_preference_loudness</th>\n",
              "      <th>user_preference_mode</th>\n",
              "      <th>user_preference_speechiness</th>\n",
              "      <th>user_preference_acousticness</th>\n",
              "      <th>user_preference_instrumentalness</th>\n",
              "      <th>user_preference_liveness</th>\n",
              "      <th>user_preference_valence</th>\n",
              "      <th>user_preference_tempo</th>\n",
              "    </tr>\n",
              "  </thead>\n",
              "  <tbody>\n",
              "    <tr>\n",
              "      <th>0</th>\n",
              "      <td>biels09</td>\n",
              "      <td>Pop</td>\n",
              "      <td>0CraBBTipNqDatEHNcvb3j</td>\n",
              "      <td>0CraBBTipNqDatEHNcvb3j</td>\n",
              "      <td>Small Talk</td>\n",
              "      <td>Isla-Maria</td>\n",
              "      <td>2024-10-25</td>\n",
              "      <td>33</td>\n",
              "      <td>156375</td>\n",
              "      <td>NaN</td>\n",
              "      <td>...</td>\n",
              "      <td>-0.000957</td>\n",
              "      <td>0.003111</td>\n",
              "      <td>-0.017483</td>\n",
              "      <td>-0.005408</td>\n",
              "      <td>0.000932</td>\n",
              "      <td>0.002934</td>\n",
              "      <td>-0.000044</td>\n",
              "      <td>0.000786</td>\n",
              "      <td>0.001528</td>\n",
              "      <td>0.067059</td>\n",
              "    </tr>\n",
              "    <tr>\n",
              "      <th>1</th>\n",
              "      <td>biels09</td>\n",
              "      <td>Pop</td>\n",
              "      <td>7qvsl2pYzrsYgPeFBN5jxp</td>\n",
              "      <td>7qvsl2pYzrsYgPeFBN5jxp</td>\n",
              "      <td>Juicy</td>\n",
              "      <td>Doja Cat, Tyga</td>\n",
              "      <td>2019-08-15</td>\n",
              "      <td>42</td>\n",
              "      <td>202333</td>\n",
              "      <td>dance pop, pop</td>\n",
              "      <td>...</td>\n",
              "      <td>-0.000957</td>\n",
              "      <td>0.003111</td>\n",
              "      <td>-0.017483</td>\n",
              "      <td>-0.005408</td>\n",
              "      <td>0.000932</td>\n",
              "      <td>0.002934</td>\n",
              "      <td>-0.000044</td>\n",
              "      <td>0.000786</td>\n",
              "      <td>0.001528</td>\n",
              "      <td>0.067059</td>\n",
              "    </tr>\n",
              "    <tr>\n",
              "      <th>2</th>\n",
              "      <td>biels09</td>\n",
              "      <td>Pop</td>\n",
              "      <td>1BxfuPKGuaTgP7aM0Bbdwr</td>\n",
              "      <td>1BxfuPKGuaTgP7aM0Bbdwr</td>\n",
              "      <td>Cruel Summer</td>\n",
              "      <td>Taylor Swift</td>\n",
              "      <td>2019-08-23</td>\n",
              "      <td>89</td>\n",
              "      <td>178426</td>\n",
              "      <td>pop</td>\n",
              "      <td>...</td>\n",
              "      <td>-0.000957</td>\n",
              "      <td>0.003111</td>\n",
              "      <td>-0.017483</td>\n",
              "      <td>-0.005408</td>\n",
              "      <td>0.000932</td>\n",
              "      <td>0.002934</td>\n",
              "      <td>-0.000044</td>\n",
              "      <td>0.000786</td>\n",
              "      <td>0.001528</td>\n",
              "      <td>0.067059</td>\n",
              "    </tr>\n",
              "    <tr>\n",
              "      <th>3</th>\n",
              "      <td>biels09</td>\n",
              "      <td>Pop</td>\n",
              "      <td>4mDLApzbhjNSutiW2EOakg</td>\n",
              "      <td>4mDLApzbhjNSutiW2EOakg</td>\n",
              "      <td>How I Look On You</td>\n",
              "      <td>Ariana Grande</td>\n",
              "      <td>2019-11-01</td>\n",
              "      <td>51</td>\n",
              "      <td>174426</td>\n",
              "      <td>pop</td>\n",
              "      <td>...</td>\n",
              "      <td>-0.000957</td>\n",
              "      <td>0.003111</td>\n",
              "      <td>-0.017483</td>\n",
              "      <td>-0.005408</td>\n",
              "      <td>0.000932</td>\n",
              "      <td>0.002934</td>\n",
              "      <td>-0.000044</td>\n",
              "      <td>0.000786</td>\n",
              "      <td>0.001528</td>\n",
              "      <td>0.067059</td>\n",
              "    </tr>\n",
              "    <tr>\n",
              "      <th>4</th>\n",
              "      <td>biels09</td>\n",
              "      <td>Pop</td>\n",
              "      <td>3DmW6y7wTEYHJZlLo1r6XJ</td>\n",
              "      <td>3DmW6y7wTEYHJZlLo1r6XJ</td>\n",
              "      <td>Shower</td>\n",
              "      <td>Becky G</td>\n",
              "      <td>2014-04-23</td>\n",
              "      <td>75</td>\n",
              "      <td>206166</td>\n",
              "      <td>latin pop, latin viral pop, rap latina, reggae...</td>\n",
              "      <td>...</td>\n",
              "      <td>-0.000957</td>\n",
              "      <td>0.003111</td>\n",
              "      <td>-0.017483</td>\n",
              "      <td>-0.005408</td>\n",
              "      <td>0.000932</td>\n",
              "      <td>0.002934</td>\n",
              "      <td>-0.000044</td>\n",
              "      <td>0.000786</td>\n",
              "      <td>0.001528</td>\n",
              "      <td>0.067059</td>\n",
              "    </tr>\n",
              "  </tbody>\n",
              "</table>\n",
              "<p>5 rows × 61 columns</p>\n",
              "</div>\n",
              "    <div class=\"colab-df-buttons\">\n",
              "\n",
              "  <div class=\"colab-df-container\">\n",
              "    <button class=\"colab-df-convert\" onclick=\"convertToInteractive('df-e2d4d691-814d-406f-a9f4-965bdeac89e8')\"\n",
              "            title=\"Convert this dataframe to an interactive table.\"\n",
              "            style=\"display:none;\">\n",
              "\n",
              "  <svg xmlns=\"http://www.w3.org/2000/svg\" height=\"24px\" viewBox=\"0 -960 960 960\">\n",
              "    <path d=\"M120-120v-720h720v720H120Zm60-500h600v-160H180v160Zm220 220h160v-160H400v160Zm0 220h160v-160H400v160ZM180-400h160v-160H180v160Zm440 0h160v-160H620v160ZM180-180h160v-160H180v160Zm440 0h160v-160H620v160Z\"/>\n",
              "  </svg>\n",
              "    </button>\n",
              "\n",
              "  <style>\n",
              "    .colab-df-container {\n",
              "      display:flex;\n",
              "      gap: 12px;\n",
              "    }\n",
              "\n",
              "    .colab-df-convert {\n",
              "      background-color: #E8F0FE;\n",
              "      border: none;\n",
              "      border-radius: 50%;\n",
              "      cursor: pointer;\n",
              "      display: none;\n",
              "      fill: #1967D2;\n",
              "      height: 32px;\n",
              "      padding: 0 0 0 0;\n",
              "      width: 32px;\n",
              "    }\n",
              "\n",
              "    .colab-df-convert:hover {\n",
              "      background-color: #E2EBFA;\n",
              "      box-shadow: 0px 1px 2px rgba(60, 64, 67, 0.3), 0px 1px 3px 1px rgba(60, 64, 67, 0.15);\n",
              "      fill: #174EA6;\n",
              "    }\n",
              "\n",
              "    .colab-df-buttons div {\n",
              "      margin-bottom: 4px;\n",
              "    }\n",
              "\n",
              "    [theme=dark] .colab-df-convert {\n",
              "      background-color: #3B4455;\n",
              "      fill: #D2E3FC;\n",
              "    }\n",
              "\n",
              "    [theme=dark] .colab-df-convert:hover {\n",
              "      background-color: #434B5C;\n",
              "      box-shadow: 0px 1px 3px 1px rgba(0, 0, 0, 0.15);\n",
              "      filter: drop-shadow(0px 1px 2px rgba(0, 0, 0, 0.3));\n",
              "      fill: #FFFFFF;\n",
              "    }\n",
              "  </style>\n",
              "\n",
              "    <script>\n",
              "      const buttonEl =\n",
              "        document.querySelector('#df-e2d4d691-814d-406f-a9f4-965bdeac89e8 button.colab-df-convert');\n",
              "      buttonEl.style.display =\n",
              "        google.colab.kernel.accessAllowed ? 'block' : 'none';\n",
              "\n",
              "      async function convertToInteractive(key) {\n",
              "        const element = document.querySelector('#df-e2d4d691-814d-406f-a9f4-965bdeac89e8');\n",
              "        const dataTable =\n",
              "          await google.colab.kernel.invokeFunction('convertToInteractive',\n",
              "                                                    [key], {});\n",
              "        if (!dataTable) return;\n",
              "\n",
              "        const docLinkHtml = 'Like what you see? Visit the ' +\n",
              "          '<a target=\"_blank\" href=https://colab.research.google.com/notebooks/data_table.ipynb>data table notebook</a>'\n",
              "          + ' to learn more about interactive tables.';\n",
              "        element.innerHTML = '';\n",
              "        dataTable['output_type'] = 'display_data';\n",
              "        await google.colab.output.renderOutput(dataTable, element);\n",
              "        const docLink = document.createElement('div');\n",
              "        docLink.innerHTML = docLinkHtml;\n",
              "        element.appendChild(docLink);\n",
              "      }\n",
              "    </script>\n",
              "  </div>\n",
              "\n",
              "\n",
              "<div id=\"df-62256e1c-7981-4a83-8ae6-f76ef0f65a6b\">\n",
              "  <button class=\"colab-df-quickchart\" onclick=\"quickchart('df-62256e1c-7981-4a83-8ae6-f76ef0f65a6b')\"\n",
              "            title=\"Suggest charts\"\n",
              "            style=\"display:none;\">\n",
              "\n",
              "<svg xmlns=\"http://www.w3.org/2000/svg\" height=\"24px\"viewBox=\"0 0 24 24\"\n",
              "     width=\"24px\">\n",
              "    <g>\n",
              "        <path d=\"M19 3H5c-1.1 0-2 .9-2 2v14c0 1.1.9 2 2 2h14c1.1 0 2-.9 2-2V5c0-1.1-.9-2-2-2zM9 17H7v-7h2v7zm4 0h-2V7h2v10zm4 0h-2v-4h2v4z\"/>\n",
              "    </g>\n",
              "</svg>\n",
              "  </button>\n",
              "\n",
              "<style>\n",
              "  .colab-df-quickchart {\n",
              "      --bg-color: #E8F0FE;\n",
              "      --fill-color: #1967D2;\n",
              "      --hover-bg-color: #E2EBFA;\n",
              "      --hover-fill-color: #174EA6;\n",
              "      --disabled-fill-color: #AAA;\n",
              "      --disabled-bg-color: #DDD;\n",
              "  }\n",
              "\n",
              "  [theme=dark] .colab-df-quickchart {\n",
              "      --bg-color: #3B4455;\n",
              "      --fill-color: #D2E3FC;\n",
              "      --hover-bg-color: #434B5C;\n",
              "      --hover-fill-color: #FFFFFF;\n",
              "      --disabled-bg-color: #3B4455;\n",
              "      --disabled-fill-color: #666;\n",
              "  }\n",
              "\n",
              "  .colab-df-quickchart {\n",
              "    background-color: var(--bg-color);\n",
              "    border: none;\n",
              "    border-radius: 50%;\n",
              "    cursor: pointer;\n",
              "    display: none;\n",
              "    fill: var(--fill-color);\n",
              "    height: 32px;\n",
              "    padding: 0;\n",
              "    width: 32px;\n",
              "  }\n",
              "\n",
              "  .colab-df-quickchart:hover {\n",
              "    background-color: var(--hover-bg-color);\n",
              "    box-shadow: 0 1px 2px rgba(60, 64, 67, 0.3), 0 1px 3px 1px rgba(60, 64, 67, 0.15);\n",
              "    fill: var(--button-hover-fill-color);\n",
              "  }\n",
              "\n",
              "  .colab-df-quickchart-complete:disabled,\n",
              "  .colab-df-quickchart-complete:disabled:hover {\n",
              "    background-color: var(--disabled-bg-color);\n",
              "    fill: var(--disabled-fill-color);\n",
              "    box-shadow: none;\n",
              "  }\n",
              "\n",
              "  .colab-df-spinner {\n",
              "    border: 2px solid var(--fill-color);\n",
              "    border-color: transparent;\n",
              "    border-bottom-color: var(--fill-color);\n",
              "    animation:\n",
              "      spin 1s steps(1) infinite;\n",
              "  }\n",
              "\n",
              "  @keyframes spin {\n",
              "    0% {\n",
              "      border-color: transparent;\n",
              "      border-bottom-color: var(--fill-color);\n",
              "      border-left-color: var(--fill-color);\n",
              "    }\n",
              "    20% {\n",
              "      border-color: transparent;\n",
              "      border-left-color: var(--fill-color);\n",
              "      border-top-color: var(--fill-color);\n",
              "    }\n",
              "    30% {\n",
              "      border-color: transparent;\n",
              "      border-left-color: var(--fill-color);\n",
              "      border-top-color: var(--fill-color);\n",
              "      border-right-color: var(--fill-color);\n",
              "    }\n",
              "    40% {\n",
              "      border-color: transparent;\n",
              "      border-right-color: var(--fill-color);\n",
              "      border-top-color: var(--fill-color);\n",
              "    }\n",
              "    60% {\n",
              "      border-color: transparent;\n",
              "      border-right-color: var(--fill-color);\n",
              "    }\n",
              "    80% {\n",
              "      border-color: transparent;\n",
              "      border-right-color: var(--fill-color);\n",
              "      border-bottom-color: var(--fill-color);\n",
              "    }\n",
              "    90% {\n",
              "      border-color: transparent;\n",
              "      border-bottom-color: var(--fill-color);\n",
              "    }\n",
              "  }\n",
              "</style>\n",
              "\n",
              "  <script>\n",
              "    async function quickchart(key) {\n",
              "      const quickchartButtonEl =\n",
              "        document.querySelector('#' + key + ' button');\n",
              "      quickchartButtonEl.disabled = true;  // To prevent multiple clicks.\n",
              "      quickchartButtonEl.classList.add('colab-df-spinner');\n",
              "      try {\n",
              "        const charts = await google.colab.kernel.invokeFunction(\n",
              "            'suggestCharts', [key], {});\n",
              "      } catch (error) {\n",
              "        console.error('Error during call to suggestCharts:', error);\n",
              "      }\n",
              "      quickchartButtonEl.classList.remove('colab-df-spinner');\n",
              "      quickchartButtonEl.classList.add('colab-df-quickchart-complete');\n",
              "    }\n",
              "    (() => {\n",
              "      let quickchartButtonEl =\n",
              "        document.querySelector('#df-62256e1c-7981-4a83-8ae6-f76ef0f65a6b button');\n",
              "      quickchartButtonEl.style.display =\n",
              "        google.colab.kernel.accessAllowed ? 'block' : 'none';\n",
              "    })();\n",
              "  </script>\n",
              "</div>\n",
              "\n",
              "    </div>\n",
              "  </div>\n"
            ],
            "application/vnd.google.colaboratory.intrinsic+json": {
              "type": "dataframe",
              "variable_name": "user_preferences_training_data"
            }
          },
          "metadata": {},
          "execution_count": 37
        }
      ]
    },
    {
      "cell_type": "markdown",
      "source": [
        "## **SHUFFLE AND SPLIT THE DATASET TO 70% (TRAINING) - 30% (TEST)**"
      ],
      "metadata": {
        "id": "KGMyVOwuWdYD"
      }
    },
    {
      "cell_type": "code",
      "source": [
        "from sklearn.utils import shuffle\n",
        "\n",
        "user_preferences_training_data = shuffle(user_preferences_training_data, random_state=42)  # Shuffle the DataFrame\n",
        "\n",
        "# Split into 70% and 30%\n",
        "train_size = int(0.7 * len(user_preferences_training_data))\n",
        "df_train = user_preferences_training_data[:train_size]  # First 70%\n",
        "df_test = user_preferences_training_data[train_size:]   # Remaining 30%"
      ],
      "metadata": {
        "id": "VVmzjBXcBE3v"
      },
      "execution_count": null,
      "outputs": []
    },
    {
      "cell_type": "code",
      "source": [
        "print(\"Training DataFrame length:\")\n",
        "print(len(df_train))\n",
        "print(\"\\nTesting DataFrame length:\")\n",
        "print(len(df_test))"
      ],
      "metadata": {
        "colab": {
          "base_uri": "https://localhost:8080/"
        },
        "id": "0BSScnskBP2f",
        "outputId": "0087f639-8304-465c-be4a-de7c0a770345"
      },
      "execution_count": null,
      "outputs": [
        {
          "output_type": "stream",
          "name": "stdout",
          "text": [
            "Training DataFrame length:\n",
            "29557\n",
            "\n",
            "Testing DataFrame length:\n",
            "12668\n"
          ]
        }
      ]
    },
    {
      "cell_type": "markdown",
      "source": [
        "The `train_binary_classifier` function is a comprehensive approach to training and evaluating a machine learning model. It uses a dataset of tracks and user-specific features to predict whether a track is liked (label=1) or disliked (label=0).\n",
        "\n",
        "**Step-by-Step Process**\n",
        "1. Input Validation:\n",
        "  * The function starts by verifying that the dataset contains all required columns. If any are missing, an error is raised.\n",
        "  * Required columns include:\n",
        "      * Track-specific features (e.g., popularity, danceability).\n",
        "      * User-specific aggregated features (e.g., user_avg_liked_* and user_preference_*).\n",
        "2. Feature Selection:\n",
        "  * A subset of relevant columns (feature_columns) is extracted for model training. These include:\n",
        "    * Track features: Quantitative characteristics of the tracks (e.g., energy, tempo).\n",
        "    * User-specific features:\n",
        "        * Average features for liked and disliked tracks (e.g., user_avg_liked_energy).\n",
        "        * Preference features calculated as the difference between liked and disliked averages (e.g., user_preference_energy).\n",
        "  * We could also select the features with the biggest correlation. However we decided not to do.\n",
        "3. Model Training:\n",
        "  * A Random Forest Classifier is trained on the selected features (X_train) and labels (y_train).\n",
        "Predictions:\n",
        "  * The model predicts labels (y_pred) and probabilities (y_prob) for the test set.\n",
        "  * Probabilities are used for calculating metrics like ROC-AUC.\n",
        "Performance Metrics:\n",
        "  * The following metrics are computed to evaluate model performance:\n",
        "    * Precision: Proportion of true positive predictions among all positive predictions.\n",
        "    * Recall: Proportion of true positive predictions among all actual positives.\n",
        "    * F1 Score: Harmonic mean of precision and recall, balancing the two.\n",
        "    * ROC-AUC: Area under the Receiver Operating Characteristic curve, measuring the model's ability to distinguish between classes.\n",
        "    * A classification report is also printed, summarizing precision, recall, F1 score, and support for each class.\n",
        "\n",
        "4. Visualization:\n",
        "  * The function plots the ROC Curve, illustrating the trade-off between true positive rate (TPR) and false positive rate (FPR).\n",
        "  * The curve helps visualize the model's performance at different thresholds.\n"
      ],
      "metadata": {
        "id": "kAcpm_whXRu1"
      }
    },
    {
      "cell_type": "code",
      "source": [
        "from sklearn.metrics import precision_score, roc_curve, recall_score, f1_score, roc_auc_score, confusion_matrix, classification_report\n",
        "from sklearn.preprocessing import OneHotEncoder\n",
        "from sklearn.compose import ColumnTransformer\n",
        "from sklearn.pipeline import Pipeline\n",
        "from sklearn.impute import SimpleImputer\n",
        "from sklearn.pipeline import Pipeline\n",
        "import matplotlib.pyplot as plt"
      ],
      "metadata": {
        "id": "2FH9SxMfajls"
      },
      "execution_count": null,
      "outputs": []
    },
    {
      "cell_type": "code",
      "source": [
        "def train_binary_classifier(data):\n",
        "\n",
        "    required_columns = [\n",
        "        'owner_id', 'genre', 'track', 'id', 'name', 'artists', 'release_date',\n",
        "        'popularity', 'duration_ms', 'danceability', 'energy', 'key', 'loudness',\n",
        "        'mode', 'speechiness', 'acousticness', 'instrumentalness', 'liveness',\n",
        "        'valence', 'tempo', 'label'\n",
        "    ]\n",
        "\n",
        "    if not all(col in data.columns for col in required_columns):\n",
        "        raise ValueError(\"Dataset does not contain all required columns.\")\n",
        "\n",
        "    feature_columns = [\n",
        "      'popularity', 'duration_ms', 'danceability', 'energy', 'key', 'loudness',\n",
        "      'mode', 'speechiness', 'acousticness', 'instrumentalness', 'liveness',\n",
        "      'valence', 'tempo',\n",
        "      'user_avg_liked_popularity', 'user_avg_liked_duration_ms',\n",
        "      'user_avg_liked_danceability', 'user_avg_liked_energy',\n",
        "      'user_avg_liked_key', 'user_avg_liked_loudness', 'user_avg_liked_mode',\n",
        "      'user_avg_liked_speechiness', 'user_avg_liked_acousticness',\n",
        "      'user_avg_liked_instrumentalness', 'user_avg_liked_liveness',\n",
        "      'user_avg_liked_valence', 'user_avg_liked_tempo',\n",
        "      'user_avg_disliked_popularity', 'user_avg_disliked_duration_ms',\n",
        "      'user_avg_disliked_danceability', 'user_avg_disliked_energy',\n",
        "      'user_avg_disliked_key', 'user_avg_disliked_loudness',\n",
        "      'user_avg_disliked_mode', 'user_avg_disliked_speechiness',\n",
        "      'user_avg_disliked_acousticness', 'user_avg_disliked_instrumentalness',\n",
        "      'user_avg_disliked_liveness', 'user_avg_disliked_valence',\n",
        "      'user_avg_disliked_tempo',\n",
        "      'user_preference_popularity', 'user_preference_duration_ms',\n",
        "      'user_preference_danceability', 'user_preference_energy',\n",
        "      'user_preference_key', 'user_preference_loudness',\n",
        "      'user_preference_mode', 'user_preference_speechiness',\n",
        "      'user_preference_acousticness', 'user_preference_instrumentalness',\n",
        "      'user_preference_liveness', 'user_preference_valence',\n",
        "      'user_preference_tempo'\n",
        "    ]\n",
        "\n",
        "    X = data[feature_columns]\n",
        "    y = data['label']\n",
        "\n",
        "    # Split data into training and testing sets\n",
        "    X_train, X_test, y_train, y_test = train_test_split(X, y, test_size=0.3, random_state=42)\n",
        "\n",
        "    # Train a Random Forest Classifier\n",
        "    model = RandomForestClassifier(random_state=42)\n",
        "    model.fit(X_train, y_train)\n",
        "\n",
        "    # Make predictions\n",
        "    y_pred = model.predict(X_test)\n",
        "    y_prob = model.predict_proba(X_test)[:, 1]  # Probabilities for ROC-AUC\n",
        "\n",
        "    # Calculate performance metrics\n",
        "    precision = precision_score(y_test, y_pred)\n",
        "    recall = recall_score(y_test, y_pred)\n",
        "    f1 = f1_score(y_test, y_pred)\n",
        "    roc_auc = roc_auc_score(y_test, y_prob)\n",
        "\n",
        "    metrics = {\n",
        "        'precision': precision,\n",
        "        'recall': recall,\n",
        "        'f1_score': f1,\n",
        "        'roc_auc': roc_auc\n",
        "    }\n",
        "\n",
        "    print(\"\\nClassification Report:\\n\")\n",
        "    print(classification_report(y_test, y_pred))\n",
        "\n",
        "    # Plot ROC curve\n",
        "    fpr, tpr, _ = roc_curve(y_test, y_prob)\n",
        "    plt.figure()\n",
        "    plt.plot(fpr, tpr, label=f'ROC Curve (area = {roc_auc:.2f})')\n",
        "    plt.plot([0, 1], [0, 1], 'k--', label='Random Guess')\n",
        "    plt.xlabel('False Positive Rate')\n",
        "    plt.ylabel('True Positive Rate')\n",
        "    plt.title('Receiver Operating Characteristic (ROC) Curve')\n",
        "    plt.legend(loc='lower right')\n",
        "    plt.show()\n",
        "\n",
        "    return model, metrics"
      ],
      "metadata": {
        "id": "iMC5fpDu1Qpa"
      },
      "execution_count": null,
      "outputs": []
    },
    {
      "cell_type": "code",
      "source": [
        "model, metrics = train_binary_classifier(df_train)"
      ],
      "metadata": {
        "colab": {
          "base_uri": "https://localhost:8080/",
          "height": 680
        },
        "id": "NzGl6tk6BeJ-",
        "outputId": "5087ebfa-8e02-4efc-af04-ccec81dba2f1"
      },
      "execution_count": null,
      "outputs": [
        {
          "output_type": "stream",
          "name": "stdout",
          "text": [
            "\n",
            "Classification Report:\n",
            "\n",
            "              precision    recall  f1-score   support\n",
            "\n",
            "           0       0.76      0.86      0.80      4153\n",
            "           1       0.86      0.76      0.80      4715\n",
            "\n",
            "    accuracy                           0.80      8868\n",
            "   macro avg       0.81      0.81      0.80      8868\n",
            "weighted avg       0.81      0.80      0.80      8868\n",
            "\n"
          ]
        },
        {
          "output_type": "display_data",
          "data": {
            "text/plain": [
              "<Figure size 640x480 with 1 Axes>"
            ],
            "image/png": "[encoded data removed]"
          },
          "metadata": {}
        }
      ]
    },
    {
      "cell_type": "markdown",
      "source": [
        "### **The model performs equally well for both labels (label=0 and label=1) with consistent F1 scores, indicating balanced predictions.**"
      ],
      "metadata": {
        "id": "a71bSWV7ZZas"
      }
    },
    {
      "cell_type": "markdown",
      "source": [
        "The `predict_with_explanation` function is designed to provide a detailed prediction for whether a specific user (user_id) will like a specific track (track_id)"
      ],
      "metadata": {
        "id": "NcAUAfxDZzj7"
      }
    },
    {
      "cell_type": "code",
      "source": [
        "def predict_with_explanation(user_id, track_id, data, model, feature_columns):\n",
        "\n",
        "    entity_row = data[(data['owner_id'] == user_id) & (data['track'] == track_id)]\n",
        "    if entity_row.empty:\n",
        "        return {\"error\": \"No matching track found for the given user and track_id.\"}\n",
        "\n",
        "    # Extract features for the track\n",
        "    entity_df = entity_row[feature_columns]\n",
        "\n",
        "    # Make prediction and probability\n",
        "    prediction = model.predict(entity_df)[0]\n",
        "    probability = model.predict_proba(entity_df)[0][1]  # Probability of label = 1\n",
        "\n",
        "    # Get the true label\n",
        "    true_label = entity_row['label'].values[0]\n",
        "\n",
        "    # Explain prediction using feature importances\n",
        "    feature_importances = model.feature_importances_\n",
        "    explanation = {\n",
        "        feature_columns[i]: feature_importances[i] * entity_df.iloc[0, i]\n",
        "        for i in range(len(feature_columns))\n",
        "    }\n",
        "\n",
        "    # If prediction is negative, suggest counterfactuals\n",
        "    counterfactuals = None\n",
        "    if prediction == 0:\n",
        "        # Counterfactual suggestion: Incrementally adjust features to flip prediction\n",
        "        modified_entity = entity_df.copy()\n",
        "        for feature in feature_columns:\n",
        "            original_value = modified_entity[feature].values[0]\n",
        "            for step in np.linspace(original_value, original_value * 1.5, 10):\n",
        "                modified_entity[feature] = step\n",
        "                if model.predict(modified_entity)[0] == 1:\n",
        "                    counterfactuals = {\n",
        "                        \"feature\": feature,\n",
        "                        \"original_value\": original_value,\n",
        "                        \"suggested_value\": step\n",
        "                    }\n",
        "                    break\n",
        "            if counterfactuals:\n",
        "                break\n",
        "\n",
        "    # Return prediction, true label, explanation, and counterfactuals\n",
        "    return {\n",
        "        \"prediction\": prediction,\n",
        "        \"true_label\": true_label,\n",
        "        \"probability\": probability,\n",
        "        \"explanation\": explanation,\n",
        "        \"counterfactuals\": counterfactuals\n",
        "    }\n"
      ],
      "metadata": {
        "id": "gAuwTtFACXMB"
      },
      "execution_count": null,
      "outputs": []
    },
    {
      "cell_type": "code",
      "source": [
        "df_test.head()"
      ],
      "metadata": {
        "colab": {
          "base_uri": "https://localhost:8080/",
          "height": 481
        },
        "id": "HhiTQjZ1CwSa",
        "outputId": "95637798-9c03-4c67-e5e5-ed5b4aa9e9ec"
      },
      "execution_count": null,
      "outputs": [
        {
          "output_type": "execute_result",
          "data": {
            "text/plain": [
              "                        owner_id    genre                   track  \\\n",
              "12319              ddog291isboss  Country  65UNQSH7RI4Lxw7VrXMp5y   \n",
              "24760  ubskwnd3gm7da3k3wrfqfz5jg     Jazz  1hiriMEKwL0t4VwT0aGOsP   \n",
              "12409             iliasdeverakis  Country  6ueP6ccf6H5h63WL9kfu23   \n",
              "32270                11100700164     Jazz  4HDkMoujyriUWV7Ego9fdZ   \n",
              "22091               ansadesigner    Indie  3SXYwUUd5VwoeEBkYuHNBI   \n",
              "\n",
              "                           id                             name  \\\n",
              "12319  65UNQSH7RI4Lxw7VrXMp5y  Fraulein (feat. Tyler Childers)   \n",
              "24760  1hiriMEKwL0t4VwT0aGOsP             As Erhosoun Gia Ligo   \n",
              "12409  6ueP6ccf6H5h63WL9kfu23                         Obsessed   \n",
              "32270  4HDkMoujyriUWV7Ego9fdZ                     To Mpatiraki   \n",
              "22091  3SXYwUUd5VwoeEBkYuHNBI                      Memory Loss   \n",
              "\n",
              "                                 artists release_date  popularity  \\\n",
              "12319        Colter Wall, Tyler Childers   2017-05-12          65   \n",
              "24760  Dimitris Kalantzis, Athina Routsi   2016-05-30           0   \n",
              "12409                 Fy, Light, Trannos   2022-07-08          41   \n",
              "32270                              Ekmek   2011-04-06          20   \n",
              "22091                    Cathedral Bells   2019-02-01          34   \n",
              "\n",
              "       duration_ms                                             genres  ...  \\\n",
              "12319       143000  canadian americana, canadian contemporary coun...  ...   \n",
              "24760       238811                                        greek swing  ...   \n",
              "12409       216931                                         greek trap  ...   \n",
              "32270       212746                                        greek indie  ...   \n",
              "22091       145257  american shoegaze, chill dream pop, grungegaze...  ...   \n",
              "\n",
              "       user_preference_energy  user_preference_key  user_preference_loudness  \\\n",
              "12319                0.478404             4.726962                 -8.105744   \n",
              "24760                0.000000             0.000000                  0.000000   \n",
              "12409                0.726160             5.700000                 -6.673040   \n",
              "32270                0.005410             0.033439                  0.002493   \n",
              "22091                0.731309             5.762887                 -8.729526   \n",
              "\n",
              "       user_preference_mode  user_preference_speechiness  \\\n",
              "12319              0.866894                     0.046054   \n",
              "24760              0.000000                     0.000000   \n",
              "12409              0.350000                     0.119730   \n",
              "32270              0.019757                    -0.000681   \n",
              "22091              0.628866                     0.053530   \n",
              "\n",
              "       user_preference_acousticness  user_preference_instrumentalness  \\\n",
              "12319                      0.494976                      6.061240e-03   \n",
              "24760                      0.000000                     -1.734723e-18   \n",
              "12409                      0.217144                      6.025569e-03   \n",
              "32270                     -0.001850                      1.962627e-03   \n",
              "22091                      0.176295                      5.890758e-01   \n",
              "\n",
              "       user_preference_liveness  user_preference_valence  \\\n",
              "12319                  0.217409                 0.376317   \n",
              "24760                  0.000000                 0.000000   \n",
              "12409                  0.174980                 0.567810   \n",
              "32270                 -0.000467                 0.002494   \n",
              "22091                  0.198432                 0.613861   \n",
              "\n",
              "       user_preference_tempo  \n",
              "12319             114.751809  \n",
              "24760               0.000000  \n",
              "12409             120.908800  \n",
              "32270              -1.166877  \n",
              "22091             131.060031  \n",
              "\n",
              "[5 rows x 61 columns]"
            ],
            "text/html": [
              "\n",
              "  <div id=\"df-f02507f6-752e-4fd0-87d7-ab87221e5543\" class=\"colab-df-container\">\n",
              "    <div>\n",
              "<style scoped>\n",
              "    .dataframe tbody tr th:only-of-type {\n",
              "        vertical-align: middle;\n",
              "    }\n",
              "\n",
              "    .dataframe tbody tr th {\n",
              "        vertical-align: top;\n",
              "    }\n",
              "\n",
              "    .dataframe thead th {\n",
              "        text-align: right;\n",
              "    }\n",
              "</style>\n",
              "<table border=\"1\" class=\"dataframe\">\n",
              "  <thead>\n",
              "    <tr style=\"text-align: right;\">\n",
              "      <th></th>\n",
              "      <th>owner_id</th>\n",
              "      <th>genre</th>\n",
              "      <th>track</th>\n",
              "      <th>id</th>\n",
              "      <th>name</th>\n",
              "      <th>artists</th>\n",
              "      <th>release_date</th>\n",
              "      <th>popularity</th>\n",
              "      <th>duration_ms</th>\n",
              "      <th>genres</th>\n",
              "      <th>...</th>\n",
              "      <th>user_preference_energy</th>\n",
              "      <th>user_preference_key</th>\n",
              "      <th>user_preference_loudness</th>\n",
              "      <th>user_preference_mode</th>\n",
              "      <th>user_preference_speechiness</th>\n",
              "      <th>user_preference_acousticness</th>\n",
              "      <th>user_preference_instrumentalness</th>\n",
              "      <th>user_preference_liveness</th>\n",
              "      <th>user_preference_valence</th>\n",
              "      <th>user_preference_tempo</th>\n",
              "    </tr>\n",
              "  </thead>\n",
              "  <tbody>\n",
              "    <tr>\n",
              "      <th>12319</th>\n",
              "      <td>ddog291isboss</td>\n",
              "      <td>Country</td>\n",
              "      <td>65UNQSH7RI4Lxw7VrXMp5y</td>\n",
              "      <td>65UNQSH7RI4Lxw7VrXMp5y</td>\n",
              "      <td>Fraulein (feat. Tyler Childers)</td>\n",
              "      <td>Colter Wall, Tyler Childers</td>\n",
              "      <td>2017-05-12</td>\n",
              "      <td>65</td>\n",
              "      <td>143000</td>\n",
              "      <td>canadian americana, canadian contemporary coun...</td>\n",
              "      <td>...</td>\n",
              "      <td>0.478404</td>\n",
              "      <td>4.726962</td>\n",
              "      <td>-8.105744</td>\n",
              "      <td>0.866894</td>\n",
              "      <td>0.046054</td>\n",
              "      <td>0.494976</td>\n",
              "      <td>6.061240e-03</td>\n",
              "      <td>0.217409</td>\n",
              "      <td>0.376317</td>\n",
              "      <td>114.751809</td>\n",
              "    </tr>\n",
              "    <tr>\n",
              "      <th>24760</th>\n",
              "      <td>ubskwnd3gm7da3k3wrfqfz5jg</td>\n",
              "      <td>Jazz</td>\n",
              "      <td>1hiriMEKwL0t4VwT0aGOsP</td>\n",
              "      <td>1hiriMEKwL0t4VwT0aGOsP</td>\n",
              "      <td>As Erhosoun Gia Ligo</td>\n",
              "      <td>Dimitris Kalantzis, Athina Routsi</td>\n",
              "      <td>2016-05-30</td>\n",
              "      <td>0</td>\n",
              "      <td>238811</td>\n",
              "      <td>greek swing</td>\n",
              "      <td>...</td>\n",
              "      <td>0.000000</td>\n",
              "      <td>0.000000</td>\n",
              "      <td>0.000000</td>\n",
              "      <td>0.000000</td>\n",
              "      <td>0.000000</td>\n",
              "      <td>0.000000</td>\n",
              "      <td>-1.734723e-18</td>\n",
              "      <td>0.000000</td>\n",
              "      <td>0.000000</td>\n",
              "      <td>0.000000</td>\n",
              "    </tr>\n",
              "    <tr>\n",
              "      <th>12409</th>\n",
              "      <td>iliasdeverakis</td>\n",
              "      <td>Country</td>\n",
              "      <td>6ueP6ccf6H5h63WL9kfu23</td>\n",
              "      <td>6ueP6ccf6H5h63WL9kfu23</td>\n",
              "      <td>Obsessed</td>\n",
              "      <td>Fy, Light, Trannos</td>\n",
              "      <td>2022-07-08</td>\n",
              "      <td>41</td>\n",
              "      <td>216931</td>\n",
              "      <td>greek trap</td>\n",
              "      <td>...</td>\n",
              "      <td>0.726160</td>\n",
              "      <td>5.700000</td>\n",
              "      <td>-6.673040</td>\n",
              "      <td>0.350000</td>\n",
              "      <td>0.119730</td>\n",
              "      <td>0.217144</td>\n",
              "      <td>6.025569e-03</td>\n",
              "      <td>0.174980</td>\n",
              "      <td>0.567810</td>\n",
              "      <td>120.908800</td>\n",
              "    </tr>\n",
              "    <tr>\n",
              "      <th>32270</th>\n",
              "      <td>11100700164</td>\n",
              "      <td>Jazz</td>\n",
              "      <td>4HDkMoujyriUWV7Ego9fdZ</td>\n",
              "      <td>4HDkMoujyriUWV7Ego9fdZ</td>\n",
              "      <td>To Mpatiraki</td>\n",
              "      <td>Ekmek</td>\n",
              "      <td>2011-04-06</td>\n",
              "      <td>20</td>\n",
              "      <td>212746</td>\n",
              "      <td>greek indie</td>\n",
              "      <td>...</td>\n",
              "      <td>0.005410</td>\n",
              "      <td>0.033439</td>\n",
              "      <td>0.002493</td>\n",
              "      <td>0.019757</td>\n",
              "      <td>-0.000681</td>\n",
              "      <td>-0.001850</td>\n",
              "      <td>1.962627e-03</td>\n",
              "      <td>-0.000467</td>\n",
              "      <td>0.002494</td>\n",
              "      <td>-1.166877</td>\n",
              "    </tr>\n",
              "    <tr>\n",
              "      <th>22091</th>\n",
              "      <td>ansadesigner</td>\n",
              "      <td>Indie</td>\n",
              "      <td>3SXYwUUd5VwoeEBkYuHNBI</td>\n",
              "      <td>3SXYwUUd5VwoeEBkYuHNBI</td>\n",
              "      <td>Memory Loss</td>\n",
              "      <td>Cathedral Bells</td>\n",
              "      <td>2019-02-01</td>\n",
              "      <td>34</td>\n",
              "      <td>145257</td>\n",
              "      <td>american shoegaze, chill dream pop, grungegaze...</td>\n",
              "      <td>...</td>\n",
              "      <td>0.731309</td>\n",
              "      <td>5.762887</td>\n",
              "      <td>-8.729526</td>\n",
              "      <td>0.628866</td>\n",
              "      <td>0.053530</td>\n",
              "      <td>0.176295</td>\n",
              "      <td>5.890758e-01</td>\n",
              "      <td>0.198432</td>\n",
              "      <td>0.613861</td>\n",
              "      <td>131.060031</td>\n",
              "    </tr>\n",
              "  </tbody>\n",
              "</table>\n",
              "<p>5 rows × 61 columns</p>\n",
              "</div>\n",
              "    <div class=\"colab-df-buttons\">\n",
              "\n",
              "  <div class=\"colab-df-container\">\n",
              "    <button class=\"colab-df-convert\" onclick=\"convertToInteractive('df-f02507f6-752e-4fd0-87d7-ab87221e5543')\"\n",
              "            title=\"Convert this dataframe to an interactive table.\"\n",
              "            style=\"display:none;\">\n",
              "\n",
              "  <svg xmlns=\"http://www.w3.org/2000/svg\" height=\"24px\" viewBox=\"0 -960 960 960\">\n",
              "    <path d=\"M120-120v-720h720v720H120Zm60-500h600v-160H180v160Zm220 220h160v-160H400v160Zm0 220h160v-160H400v160ZM180-400h160v-160H180v160Zm440 0h160v-160H620v160ZM180-180h160v-160H180v160Zm440 0h160v-160H620v160Z\"/>\n",
              "  </svg>\n",
              "    </button>\n",
              "\n",
              "  <style>\n",
              "    .colab-df-container {\n",
              "      display:flex;\n",
              "      gap: 12px;\n",
              "    }\n",
              "\n",
              "    .colab-df-convert {\n",
              "      background-color: #E8F0FE;\n",
              "      border: none;\n",
              "      border-radius: 50%;\n",
              "      cursor: pointer;\n",
              "      display: none;\n",
              "      fill: #1967D2;\n",
              "      height: 32px;\n",
              "      padding: 0 0 0 0;\n",
              "      width: 32px;\n",
              "    }\n",
              "\n",
              "    .colab-df-convert:hover {\n",
              "      background-color: #E2EBFA;\n",
              "      box-shadow: 0px 1px 2px rgba(60, 64, 67, 0.3), 0px 1px 3px 1px rgba(60, 64, 67, 0.15);\n",
              "      fill: #174EA6;\n",
              "    }\n",
              "\n",
              "    .colab-df-buttons div {\n",
              "      margin-bottom: 4px;\n",
              "    }\n",
              "\n",
              "    [theme=dark] .colab-df-convert {\n",
              "      background-color: #3B4455;\n",
              "      fill: #D2E3FC;\n",
              "    }\n",
              "\n",
              "    [theme=dark] .colab-df-convert:hover {\n",
              "      background-color: #434B5C;\n",
              "      box-shadow: 0px 1px 3px 1px rgba(0, 0, 0, 0.15);\n",
              "      filter: drop-shadow(0px 1px 2px rgba(0, 0, 0, 0.3));\n",
              "      fill: #FFFFFF;\n",
              "    }\n",
              "  </style>\n",
              "\n",
              "    <script>\n",
              "      const buttonEl =\n",
              "        document.querySelector('#df-f02507f6-752e-4fd0-87d7-ab87221e5543 button.colab-df-convert');\n",
              "      buttonEl.style.display =\n",
              "        google.colab.kernel.accessAllowed ? 'block' : 'none';\n",
              "\n",
              "      async function convertToInteractive(key) {\n",
              "        const element = document.querySelector('#df-f02507f6-752e-4fd0-87d7-ab87221e5543');\n",
              "        const dataTable =\n",
              "          await google.colab.kernel.invokeFunction('convertToInteractive',\n",
              "                                                    [key], {});\n",
              "        if (!dataTable) return;\n",
              "\n",
              "        const docLinkHtml = 'Like what you see? Visit the ' +\n",
              "          '<a target=\"_blank\" href=https://colab.research.google.com/notebooks/data_table.ipynb>data table notebook</a>'\n",
              "          + ' to learn more about interactive tables.';\n",
              "        element.innerHTML = '';\n",
              "        dataTable['output_type'] = 'display_data';\n",
              "        await google.colab.output.renderOutput(dataTable, element);\n",
              "        const docLink = document.createElement('div');\n",
              "        docLink.innerHTML = docLinkHtml;\n",
              "        element.appendChild(docLink);\n",
              "      }\n",
              "    </script>\n",
              "  </div>\n",
              "\n",
              "\n",
              "<div id=\"df-39845662-f033-4343-9b16-9ffe73b0235c\">\n",
              "  <button class=\"colab-df-quickchart\" onclick=\"quickchart('df-39845662-f033-4343-9b16-9ffe73b0235c')\"\n",
              "            title=\"Suggest charts\"\n",
              "            style=\"display:none;\">\n",
              "\n",
              "<svg xmlns=\"http://www.w3.org/2000/svg\" height=\"24px\"viewBox=\"0 0 24 24\"\n",
              "     width=\"24px\">\n",
              "    <g>\n",
              "        <path d=\"M19 3H5c-1.1 0-2 .9-2 2v14c0 1.1.9 2 2 2h14c1.1 0 2-.9 2-2V5c0-1.1-.9-2-2-2zM9 17H7v-7h2v7zm4 0h-2V7h2v10zm4 0h-2v-4h2v4z\"/>\n",
              "    </g>\n",
              "</svg>\n",
              "  </button>\n",
              "\n",
              "<style>\n",
              "  .colab-df-quickchart {\n",
              "      --bg-color: #E8F0FE;\n",
              "      --fill-color: #1967D2;\n",
              "      --hover-bg-color: #E2EBFA;\n",
              "      --hover-fill-color: #174EA6;\n",
              "      --disabled-fill-color: #AAA;\n",
              "      --disabled-bg-color: #DDD;\n",
              "  }\n",
              "\n",
              "  [theme=dark] .colab-df-quickchart {\n",
              "      --bg-color: #3B4455;\n",
              "      --fill-color: #D2E3FC;\n",
              "      --hover-bg-color: #434B5C;\n",
              "      --hover-fill-color: #FFFFFF;\n",
              "      --disabled-bg-color: #3B4455;\n",
              "      --disabled-fill-color: #666;\n",
              "  }\n",
              "\n",
              "  .colab-df-quickchart {\n",
              "    background-color: var(--bg-color);\n",
              "    border: none;\n",
              "    border-radius: 50%;\n",
              "    cursor: pointer;\n",
              "    display: none;\n",
              "    fill: var(--fill-color);\n",
              "    height: 32px;\n",
              "    padding: 0;\n",
              "    width: 32px;\n",
              "  }\n",
              "\n",
              "  .colab-df-quickchart:hover {\n",
              "    background-color: var(--hover-bg-color);\n",
              "    box-shadow: 0 1px 2px rgba(60, 64, 67, 0.3), 0 1px 3px 1px rgba(60, 64, 67, 0.15);\n",
              "    fill: var(--button-hover-fill-color);\n",
              "  }\n",
              "\n",
              "  .colab-df-quickchart-complete:disabled,\n",
              "  .colab-df-quickchart-complete:disabled:hover {\n",
              "    background-color: var(--disabled-bg-color);\n",
              "    fill: var(--disabled-fill-color);\n",
              "    box-shadow: none;\n",
              "  }\n",
              "\n",
              "  .colab-df-spinner {\n",
              "    border: 2px solid var(--fill-color);\n",
              "    border-color: transparent;\n",
              "    border-bottom-color: var(--fill-color);\n",
              "    animation:\n",
              "      spin 1s steps(1) infinite;\n",
              "  }\n",
              "\n",
              "  @keyframes spin {\n",
              "    0% {\n",
              "      border-color: transparent;\n",
              "      border-bottom-color: var(--fill-color);\n",
              "      border-left-color: var(--fill-color);\n",
              "    }\n",
              "    20% {\n",
              "      border-color: transparent;\n",
              "      border-left-color: var(--fill-color);\n",
              "      border-top-color: var(--fill-color);\n",
              "    }\n",
              "    30% {\n",
              "      border-color: transparent;\n",
              "      border-left-color: var(--fill-color);\n",
              "      border-top-color: var(--fill-color);\n",
              "      border-right-color: var(--fill-color);\n",
              "    }\n",
              "    40% {\n",
              "      border-color: transparent;\n",
              "      border-right-color: var(--fill-color);\n",
              "      border-top-color: var(--fill-color);\n",
              "    }\n",
              "    60% {\n",
              "      border-color: transparent;\n",
              "      border-right-color: var(--fill-color);\n",
              "    }\n",
              "    80% {\n",
              "      border-color: transparent;\n",
              "      border-right-color: var(--fill-color);\n",
              "      border-bottom-color: var(--fill-color);\n",
              "    }\n",
              "    90% {\n",
              "      border-color: transparent;\n",
              "      border-bottom-color: var(--fill-color);\n",
              "    }\n",
              "  }\n",
              "</style>\n",
              "\n",
              "  <script>\n",
              "    async function quickchart(key) {\n",
              "      const quickchartButtonEl =\n",
              "        document.querySelector('#' + key + ' button');\n",
              "      quickchartButtonEl.disabled = true;  // To prevent multiple clicks.\n",
              "      quickchartButtonEl.classList.add('colab-df-spinner');\n",
              "      try {\n",
              "        const charts = await google.colab.kernel.invokeFunction(\n",
              "            'suggestCharts', [key], {});\n",
              "      } catch (error) {\n",
              "        console.error('Error during call to suggestCharts:', error);\n",
              "      }\n",
              "      quickchartButtonEl.classList.remove('colab-df-spinner');\n",
              "      quickchartButtonEl.classList.add('colab-df-quickchart-complete');\n",
              "    }\n",
              "    (() => {\n",
              "      let quickchartButtonEl =\n",
              "        document.querySelector('#df-39845662-f033-4343-9b16-9ffe73b0235c button');\n",
              "      quickchartButtonEl.style.display =\n",
              "        google.colab.kernel.accessAllowed ? 'block' : 'none';\n",
              "    })();\n",
              "  </script>\n",
              "</div>\n",
              "\n",
              "    </div>\n",
              "  </div>\n"
            ],
            "application/vnd.google.colaboratory.intrinsic+json": {
              "type": "dataframe",
              "variable_name": "df_test"
            }
          },
          "metadata": {},
          "execution_count": 61
        }
      ]
    },
    {
      "cell_type": "markdown",
      "source": [
        "Here is a quick test of the function"
      ],
      "metadata": {
        "id": "mDO5S1noZ4PT"
      }
    },
    {
      "cell_type": "code",
      "source": [
        "feature_columns = [\n",
        "    'popularity', 'duration_ms', 'danceability', 'energy', 'key', 'loudness',\n",
        "    'mode', 'speechiness', 'acousticness', 'instrumentalness', 'liveness',\n",
        "    'valence', 'tempo',  # Song-specific features\n",
        "    'user_avg_liked_popularity', 'user_avg_liked_duration_ms',\n",
        "    'user_avg_liked_danceability', 'user_avg_liked_energy',\n",
        "    'user_avg_liked_key', 'user_avg_liked_loudness', 'user_avg_liked_mode',\n",
        "    'user_avg_liked_speechiness', 'user_avg_liked_acousticness',\n",
        "    'user_avg_liked_instrumentalness', 'user_avg_liked_liveness',\n",
        "    'user_avg_liked_valence', 'user_avg_liked_tempo',\n",
        "    'user_avg_disliked_popularity', 'user_avg_disliked_duration_ms',\n",
        "    'user_avg_disliked_danceability', 'user_avg_disliked_energy',\n",
        "    'user_avg_disliked_key', 'user_avg_disliked_loudness',\n",
        "    'user_avg_disliked_mode', 'user_avg_disliked_speechiness',\n",
        "    'user_avg_disliked_acousticness', 'user_avg_disliked_instrumentalness',\n",
        "    'user_avg_disliked_liveness', 'user_avg_disliked_valence',\n",
        "    'user_avg_disliked_tempo',\n",
        "    'user_preference_popularity', 'user_preference_duration_ms',\n",
        "    'user_preference_danceability', 'user_preference_energy',\n",
        "    'user_preference_key', 'user_preference_loudness',\n",
        "    'user_preference_mode', 'user_preference_speechiness',\n",
        "    'user_preference_acousticness', 'user_preference_instrumentalness',\n",
        "    'user_preference_liveness', 'user_preference_valence',\n",
        "    'user_preference_tempo'  # User-specific features\n",
        "]\n",
        "\n",
        "# Define a user ID and track ID to predict\n",
        "user_id = \"ubskwnd3gm7da3k3wrfqfz5jg\"  # Example user\n",
        "track_id = \"1hiriMEKwL0t4VwT0aGOsP\"  # Example track\n",
        "\n",
        "# Use the predict_with_explanation function\n",
        "result = predict_with_explanation(user_id, track_id, df_test, model, feature_columns)\n",
        "\n",
        "print(\"true_label:\", result['true_label'])\n",
        "# Display the results\n",
        "if 'error' in result:\n",
        "    print(result['error'])\n",
        "else:\n",
        "    print(\"Prediction:\", result['prediction'])\n",
        "    print(\"Probability of Positive Label:\", result['probability'])\n",
        "    print(\"Explanation (Feature Contributions):\")\n",
        "    for feature, contribution in result['explanation'].items():\n",
        "        print(f\"  {feature}: {contribution:.4f}\")\n",
        "\n",
        "    if result['counterfactuals']:\n",
        "        print(\"Counterfactual Suggestion:\")\n",
        "        print(f\"  Feature: {result['counterfactuals']['feature']}\")\n",
        "        print(f\"  Original Value: {result['counterfactuals']['original_value']}\")\n",
        "        print(f\"  Suggested Value: {result['counterfactuals']['suggested_value']}\")\n",
        "    else:\n",
        "        print(\"No counterfactuals needed. The prediction is positive.\")\n"
      ],
      "metadata": {
        "colab": {
          "base_uri": "https://localhost:8080/"
        },
        "id": "rouKD7psCXJU",
        "outputId": "bd568383-f29e-4620-e36c-10e2e2ee6ea9"
      },
      "execution_count": null,
      "outputs": [
        {
          "output_type": "stream",
          "name": "stdout",
          "text": [
            "true_label: 0\n",
            "Prediction: 0\n",
            "Probability of Positive Label: 0.30583333333333335\n",
            "Explanation (Feature Contributions):\n",
            "  popularity: 0.0000\n",
            "  duration_ms: 5516.0875\n",
            "  danceability: 0.0157\n",
            "  energy: 0.0132\n",
            "  key: 0.1018\n",
            "  loudness: -0.1950\n",
            "  mode: 0.0038\n",
            "  speechiness: 0.0007\n",
            "  acousticness: 0.0142\n",
            "  instrumentalness: 0.0000\n",
            "  liveness: 0.0071\n",
            "  valence: 0.0174\n",
            "  tempo: 2.9793\n",
            "  user_avg_liked_popularity: 0.0401\n",
            "  user_avg_liked_duration_ms: 338.6741\n",
            "  user_avg_liked_danceability: 0.0016\n",
            "  user_avg_liked_energy: 0.0033\n",
            "  user_avg_liked_key: 0.0101\n",
            "  user_avg_liked_loudness: -0.0163\n",
            "  user_avg_liked_mode: 0.0014\n",
            "  user_avg_liked_speechiness: 0.0001\n",
            "  user_avg_liked_acousticness: 0.0008\n",
            "  user_avg_liked_instrumentalness: 0.0000\n",
            "  user_avg_liked_liveness: 0.0003\n",
            "  user_avg_liked_valence: 0.0008\n",
            "  user_avg_liked_tempo: 0.3093\n",
            "  user_avg_disliked_popularity: 0.1788\n",
            "  user_avg_disliked_duration_ms: 3096.7726\n",
            "  user_avg_disliked_danceability: 0.0104\n",
            "  user_avg_disliked_energy: 0.0105\n",
            "  user_avg_disliked_key: 0.2256\n",
            "  user_avg_disliked_loudness: -0.0592\n",
            "  user_avg_disliked_mode: 0.0074\n",
            "  user_avg_disliked_speechiness: 0.0005\n",
            "  user_avg_disliked_acousticness: 0.0101\n",
            "  user_avg_disliked_instrumentalness: 0.0001\n",
            "  user_avg_disliked_liveness: 0.0042\n",
            "  user_avg_disliked_valence: 0.0101\n",
            "  user_avg_disliked_tempo: 2.6314\n",
            "  user_preference_popularity: 0.0000\n",
            "  user_preference_duration_ms: 0.0000\n",
            "  user_preference_danceability: 0.0000\n",
            "  user_preference_energy: 0.0000\n",
            "  user_preference_key: 0.0000\n",
            "  user_preference_loudness: 0.0000\n",
            "  user_preference_mode: 0.0000\n",
            "  user_preference_speechiness: 0.0000\n",
            "  user_preference_acousticness: 0.0000\n",
            "  user_preference_instrumentalness: -0.0000\n",
            "  user_preference_liveness: 0.0000\n",
            "  user_preference_valence: 0.0000\n",
            "  user_preference_tempo: 0.0000\n",
            "No counterfactuals needed. The prediction is positive.\n"
          ]
        }
      ]
    },
    {
      "cell_type": "markdown",
      "source": [
        "The `evaluate_model_performance` function is designed to assess the accuracy of the model by iterating through each row of the test dataset and comparing the model's predictions to the actual labels."
      ],
      "metadata": {
        "id": "j4_1rZX2a94U"
      }
    },
    {
      "cell_type": "code",
      "source": [
        "def evaluate_model_performance(df_test, model, feature_columns):\n",
        "    correct_predictions = 0\n",
        "    total_predictions = len(df_test)\n",
        "\n",
        "    # Iterate through each row with progress bar\n",
        "    for _, row in tqdm(df_test.iterrows(), total=total_predictions, desc=\"Evaluating\", unit=\"row\"):\n",
        "        user_id = row['owner_id']\n",
        "        track_id = row['track']\n",
        "\n",
        "        # Use predict_with_explanation to get prediction and true label\n",
        "        result = predict_with_explanation(user_id, track_id, df_test, model, feature_columns)\n",
        "\n",
        "        if 'error' not in result:\n",
        "            prediction = result['prediction']\n",
        "            true_label = result['true_label']\n",
        "\n",
        "            # Check if the prediction matches the true label\n",
        "            if prediction == true_label:\n",
        "                correct_predictions += 1\n",
        "\n",
        "    # Calculate accuracy percentage\n",
        "    accuracy_percentage = (correct_predictions / total_predictions) * 100\n",
        "\n",
        "    print(f\"Model Accuracy: {accuracy_percentage:.2f}%\")\n",
        "    return accuracy_percentage\n"
      ],
      "metadata": {
        "id": "eIpm7uBlCXGX"
      },
      "execution_count": null,
      "outputs": []
    },
    {
      "cell_type": "code",
      "source": [
        "accuracy = evaluate_model_performance(df_test[:500], model, feature_columns)\n",
        "print(f\"Model Accuracy: {accuracy:.2f}%\")"
      ],
      "metadata": {
        "colab": {
          "base_uri": "https://localhost:8080/"
        },
        "id": "39iqEnVmCXDU",
        "outputId": "196ed2d9-6691-429d-a62f-ae9f5ae5af4d"
      },
      "execution_count": null,
      "outputs": [
        {
          "output_type": "stream",
          "name": "stderr",
          "text": [
            "Evaluating: 100%|██████████| 500/500 [25:33<00:00,  3.07s/row]"
          ]
        },
        {
          "output_type": "stream",
          "name": "stdout",
          "text": [
            "Model Accuracy: 80.80%\n",
            "Model Accuracy: 80.80%\n"
          ]
        },
        {
          "output_type": "stream",
          "name": "stderr",
          "text": [
            "\n"
          ]
        }
      ]
    },
    {
      "cell_type": "markdown",
      "source": [
        "The evaluation results show that the model accuracy is 80.80%, meaning that the model correctly predicted whether a user liked or disliked a track for approximately 81% of the test data. Here's a breakdown of the feedback:"
      ],
      "metadata": {
        "id": "X0B17eWubQGV"
      }
    },
    {
      "cell_type": "markdown",
      "source": [
        "## **Conclusion:**\n",
        "The project aimed to build a binary classifier to predict user preferences for tracks based on Spotify data. Here's a summary of the journey and the achieved outcomes:\n",
        "\n",
        "**Key Achievements**\n",
        "1. Data Gathering and Preprocessing:\n",
        "  * Successfully scraped user and track data using the Spotify API.\n",
        "  * Engineered meaningful features, including user-specific preferences (e.g., averages for liked and disliked tracks) and track characteristics (e.g., danceability, energy).\n",
        "2. Model Development:\n",
        "  * Trained a Random Forest Classifier, which achieved an accuracy of 80.80% on the test set.\n",
        "  * Evaluated the model with precision, recall, F1 score, and ROC-AUC metrics, indicating balanced performance across both labels (liked/disliked).\n",
        "3. Explainability:\n",
        "  * Implemented counterfactual suggestions, which offer actionable insights into how a track could be adjusted to align with a user's preferences.\n",
        "\n",
        "**Challenges and Limitations**\n",
        "1. Data Limitations:\n",
        "  * The dataset relied on assumptions (e.g., counter-genres for disliked tracks) to simulate user preferences, which may not perfectly represent real-world behavior.\n",
        "\n",
        "**Final Thoughts**\n",
        "\n",
        "This project demonstrates the power of machine learning to model and predict user preferences. By combining user-specific insights with track-level features, the model achieves a strong foundation for personalized recommendations. While the results are promising, future improvements can further refine its accuracy, scalability, and real-world applicability. This project lays the groundwork for building a user-centric recommendation system that bridges data insights with enhanced user experiences."
      ],
      "metadata": {
        "id": "lw1aRYwEbRjL"
      }
    }
  ]
}